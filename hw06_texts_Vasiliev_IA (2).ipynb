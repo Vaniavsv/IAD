{
  "cells": [
    {
      "cell_type": "markdown",
      "metadata": {
        "id": "Ffq6A2-ifzAA"
      },
      "source": [
        "# Интеллектуальный анализ данных – весна 2024\n",
        "# Домашнее задание 6: классификация текстов"
      ]
    },
    {
      "cell_type": "markdown",
      "source": [
        "Правила:\n",
        "\n",
        "\n",
        "\n",
        "*   Домашнее задание оценивается в 10 баллов.\n",
        "*   Можно использовать без доказательства любые результаты, встречавшиеся на лекциях или семинарах по курсу, если получение этих результатов не является вопросом задания.\n",
        "*  Можно использовать любые свободные источники с *обязательным* указанием ссылки на них.\n",
        "*  Плагиат не допускается. При обнаружении случаев списывания, 0 за работу выставляется всем участникам нарушения, даже если можно установить, кто у кого списал.\n",
        "*  Старайтесь сделать код как можно более оптимальным. В частности, будет штрафоваться использование циклов в тех случаях, когда операцию можно совершить при помощи инструментов библиотек, о которых рассказывалось в курсе."
      ],
      "metadata": {
        "id": "EPcxtekTA1Sm"
      }
    },
    {
      "cell_type": "markdown",
      "metadata": {
        "id": "itRtFtrOf0_b"
      },
      "source": [
        "В этом домашнем задании вам предстоит построить классификатор текстов.\n",
        "\n",
        "Будем предсказывать эмоциональную окраску твиттов о коронавирусе.\n",
        "\n"
      ]
    },
    {
      "cell_type": "code",
      "execution_count": 1,
      "metadata": {
        "id": "tNGRVO7_g9mz"
      },
      "outputs": [],
      "source": [
        "import numpy as np\n",
        "import pandas as pd\n",
        "from typing import  List\n",
        "import matplotlib.pyplot as plt\n",
        "import seaborn as sns\n",
        "from string import punctuation"
      ]
    },
    {
      "cell_type": "code",
      "execution_count": 4,
      "metadata": {
        "id": "zOy8iHJQg_Ss",
        "colab": {
          "base_uri": "https://localhost:8080/",
          "height": 375
        },
        "outputId": "b014f3af-ba38-4f38-b769-b7f76c3f4445"
      },
      "outputs": [
        {
          "output_type": "stream",
          "name": "stdout",
          "text": [
            "--2024-05-13 14:39:58--  https://raw.githubusercontent.com/hse-ds/iad-intro-ds/master/2024/homeworks/hw06_texts/tweets_coronavirus.csv\n",
            "Resolving raw.githubusercontent.com (raw.githubusercontent.com)... 185.199.108.133, 185.199.109.133, 185.199.110.133, ...\n",
            "Connecting to raw.githubusercontent.com (raw.githubusercontent.com)|185.199.108.133|:443... connected.\n",
            "HTTP request sent, awaiting response... 200 OK\n",
            "Length: 8829280 (8.4M) [text/plain]\n",
            "Saving to: ‘tweets_coronavirus.csv’\n",
            "\n",
            "tweets_coronavirus. 100%[===================>]   8.42M  --.-KB/s    in 0.09s   \n",
            "\n",
            "2024-05-13 14:39:58 (96.6 MB/s) - ‘tweets_coronavirus.csv’ saved [8829280/8829280]\n",
            "\n"
          ]
        },
        {
          "output_type": "execute_result",
          "data": {
            "text/plain": [
              "       UserName  ScreenName            Location     TweetAt  \\\n",
              "5435      10401       55353     Kansas City, MO  19-03-2020   \n",
              "7809      13290       58242  Maharashtra, India  20-03-2020   \n",
              "33148     44581       89533         Madison, WI  13-04-2020   \n",
              "18948     26868       71820                 NaN  25-03-2020   \n",
              "\n",
              "                                           OriginalTweet           Sentiment  \n",
              "5435   What information about do you want to see Supe...            Positive  \n",
              "7809   I wanted to take a minute to send a special th...            Positive  \n",
              "33148  \"As food banks struggle to keep up with dramat...            Negative  \n",
              "18948  This should terrify anyone living in #Vancouve...  Extremely Negative  "
            ],
            "text/html": [
              "\n",
              "  <div id=\"df-7ef2beb7-55da-4513-b713-9bac914d10c8\" class=\"colab-df-container\">\n",
              "    <div>\n",
              "<style scoped>\n",
              "    .dataframe tbody tr th:only-of-type {\n",
              "        vertical-align: middle;\n",
              "    }\n",
              "\n",
              "    .dataframe tbody tr th {\n",
              "        vertical-align: top;\n",
              "    }\n",
              "\n",
              "    .dataframe thead th {\n",
              "        text-align: right;\n",
              "    }\n",
              "</style>\n",
              "<table border=\"1\" class=\"dataframe\">\n",
              "  <thead>\n",
              "    <tr style=\"text-align: right;\">\n",
              "      <th></th>\n",
              "      <th>UserName</th>\n",
              "      <th>ScreenName</th>\n",
              "      <th>Location</th>\n",
              "      <th>TweetAt</th>\n",
              "      <th>OriginalTweet</th>\n",
              "      <th>Sentiment</th>\n",
              "    </tr>\n",
              "  </thead>\n",
              "  <tbody>\n",
              "    <tr>\n",
              "      <th>5435</th>\n",
              "      <td>10401</td>\n",
              "      <td>55353</td>\n",
              "      <td>Kansas City, MO</td>\n",
              "      <td>19-03-2020</td>\n",
              "      <td>What information about do you want to see Supe...</td>\n",
              "      <td>Positive</td>\n",
              "    </tr>\n",
              "    <tr>\n",
              "      <th>7809</th>\n",
              "      <td>13290</td>\n",
              "      <td>58242</td>\n",
              "      <td>Maharashtra, India</td>\n",
              "      <td>20-03-2020</td>\n",
              "      <td>I wanted to take a minute to send a special th...</td>\n",
              "      <td>Positive</td>\n",
              "    </tr>\n",
              "    <tr>\n",
              "      <th>33148</th>\n",
              "      <td>44581</td>\n",
              "      <td>89533</td>\n",
              "      <td>Madison, WI</td>\n",
              "      <td>13-04-2020</td>\n",
              "      <td>\"As food banks struggle to keep up with dramat...</td>\n",
              "      <td>Negative</td>\n",
              "    </tr>\n",
              "    <tr>\n",
              "      <th>18948</th>\n",
              "      <td>26868</td>\n",
              "      <td>71820</td>\n",
              "      <td>NaN</td>\n",
              "      <td>25-03-2020</td>\n",
              "      <td>This should terrify anyone living in #Vancouve...</td>\n",
              "      <td>Extremely Negative</td>\n",
              "    </tr>\n",
              "  </tbody>\n",
              "</table>\n",
              "</div>\n",
              "    <div class=\"colab-df-buttons\">\n",
              "\n",
              "  <div class=\"colab-df-container\">\n",
              "    <button class=\"colab-df-convert\" onclick=\"convertToInteractive('df-7ef2beb7-55da-4513-b713-9bac914d10c8')\"\n",
              "            title=\"Convert this dataframe to an interactive table.\"\n",
              "            style=\"display:none;\">\n",
              "\n",
              "  <svg xmlns=\"http://www.w3.org/2000/svg\" height=\"24px\" viewBox=\"0 -960 960 960\">\n",
              "    <path d=\"M120-120v-720h720v720H120Zm60-500h600v-160H180v160Zm220 220h160v-160H400v160Zm0 220h160v-160H400v160ZM180-400h160v-160H180v160Zm440 0h160v-160H620v160ZM180-180h160v-160H180v160Zm440 0h160v-160H620v160Z\"/>\n",
              "  </svg>\n",
              "    </button>\n",
              "\n",
              "  <style>\n",
              "    .colab-df-container {\n",
              "      display:flex;\n",
              "      gap: 12px;\n",
              "    }\n",
              "\n",
              "    .colab-df-convert {\n",
              "      background-color: #E8F0FE;\n",
              "      border: none;\n",
              "      border-radius: 50%;\n",
              "      cursor: pointer;\n",
              "      display: none;\n",
              "      fill: #1967D2;\n",
              "      height: 32px;\n",
              "      padding: 0 0 0 0;\n",
              "      width: 32px;\n",
              "    }\n",
              "\n",
              "    .colab-df-convert:hover {\n",
              "      background-color: #E2EBFA;\n",
              "      box-shadow: 0px 1px 2px rgba(60, 64, 67, 0.3), 0px 1px 3px 1px rgba(60, 64, 67, 0.15);\n",
              "      fill: #174EA6;\n",
              "    }\n",
              "\n",
              "    .colab-df-buttons div {\n",
              "      margin-bottom: 4px;\n",
              "    }\n",
              "\n",
              "    [theme=dark] .colab-df-convert {\n",
              "      background-color: #3B4455;\n",
              "      fill: #D2E3FC;\n",
              "    }\n",
              "\n",
              "    [theme=dark] .colab-df-convert:hover {\n",
              "      background-color: #434B5C;\n",
              "      box-shadow: 0px 1px 3px 1px rgba(0, 0, 0, 0.15);\n",
              "      filter: drop-shadow(0px 1px 2px rgba(0, 0, 0, 0.3));\n",
              "      fill: #FFFFFF;\n",
              "    }\n",
              "  </style>\n",
              "\n",
              "    <script>\n",
              "      const buttonEl =\n",
              "        document.querySelector('#df-7ef2beb7-55da-4513-b713-9bac914d10c8 button.colab-df-convert');\n",
              "      buttonEl.style.display =\n",
              "        google.colab.kernel.accessAllowed ? 'block' : 'none';\n",
              "\n",
              "      async function convertToInteractive(key) {\n",
              "        const element = document.querySelector('#df-7ef2beb7-55da-4513-b713-9bac914d10c8');\n",
              "        const dataTable =\n",
              "          await google.colab.kernel.invokeFunction('convertToInteractive',\n",
              "                                                    [key], {});\n",
              "        if (!dataTable) return;\n",
              "\n",
              "        const docLinkHtml = 'Like what you see? Visit the ' +\n",
              "          '<a target=\"_blank\" href=https://colab.research.google.com/notebooks/data_table.ipynb>data table notebook</a>'\n",
              "          + ' to learn more about interactive tables.';\n",
              "        element.innerHTML = '';\n",
              "        dataTable['output_type'] = 'display_data';\n",
              "        await google.colab.output.renderOutput(dataTable, element);\n",
              "        const docLink = document.createElement('div');\n",
              "        docLink.innerHTML = docLinkHtml;\n",
              "        element.appendChild(docLink);\n",
              "      }\n",
              "    </script>\n",
              "  </div>\n",
              "\n",
              "\n",
              "<div id=\"df-cb005128-c36f-425e-82f1-540b9f0d98b5\">\n",
              "  <button class=\"colab-df-quickchart\" onclick=\"quickchart('df-cb005128-c36f-425e-82f1-540b9f0d98b5')\"\n",
              "            title=\"Suggest charts\"\n",
              "            style=\"display:none;\">\n",
              "\n",
              "<svg xmlns=\"http://www.w3.org/2000/svg\" height=\"24px\"viewBox=\"0 0 24 24\"\n",
              "     width=\"24px\">\n",
              "    <g>\n",
              "        <path d=\"M19 3H5c-1.1 0-2 .9-2 2v14c0 1.1.9 2 2 2h14c1.1 0 2-.9 2-2V5c0-1.1-.9-2-2-2zM9 17H7v-7h2v7zm4 0h-2V7h2v10zm4 0h-2v-4h2v4z\"/>\n",
              "    </g>\n",
              "</svg>\n",
              "  </button>\n",
              "\n",
              "<style>\n",
              "  .colab-df-quickchart {\n",
              "      --bg-color: #E8F0FE;\n",
              "      --fill-color: #1967D2;\n",
              "      --hover-bg-color: #E2EBFA;\n",
              "      --hover-fill-color: #174EA6;\n",
              "      --disabled-fill-color: #AAA;\n",
              "      --disabled-bg-color: #DDD;\n",
              "  }\n",
              "\n",
              "  [theme=dark] .colab-df-quickchart {\n",
              "      --bg-color: #3B4455;\n",
              "      --fill-color: #D2E3FC;\n",
              "      --hover-bg-color: #434B5C;\n",
              "      --hover-fill-color: #FFFFFF;\n",
              "      --disabled-bg-color: #3B4455;\n",
              "      --disabled-fill-color: #666;\n",
              "  }\n",
              "\n",
              "  .colab-df-quickchart {\n",
              "    background-color: var(--bg-color);\n",
              "    border: none;\n",
              "    border-radius: 50%;\n",
              "    cursor: pointer;\n",
              "    display: none;\n",
              "    fill: var(--fill-color);\n",
              "    height: 32px;\n",
              "    padding: 0;\n",
              "    width: 32px;\n",
              "  }\n",
              "\n",
              "  .colab-df-quickchart:hover {\n",
              "    background-color: var(--hover-bg-color);\n",
              "    box-shadow: 0 1px 2px rgba(60, 64, 67, 0.3), 0 1px 3px 1px rgba(60, 64, 67, 0.15);\n",
              "    fill: var(--button-hover-fill-color);\n",
              "  }\n",
              "\n",
              "  .colab-df-quickchart-complete:disabled,\n",
              "  .colab-df-quickchart-complete:disabled:hover {\n",
              "    background-color: var(--disabled-bg-color);\n",
              "    fill: var(--disabled-fill-color);\n",
              "    box-shadow: none;\n",
              "  }\n",
              "\n",
              "  .colab-df-spinner {\n",
              "    border: 2px solid var(--fill-color);\n",
              "    border-color: transparent;\n",
              "    border-bottom-color: var(--fill-color);\n",
              "    animation:\n",
              "      spin 1s steps(1) infinite;\n",
              "  }\n",
              "\n",
              "  @keyframes spin {\n",
              "    0% {\n",
              "      border-color: transparent;\n",
              "      border-bottom-color: var(--fill-color);\n",
              "      border-left-color: var(--fill-color);\n",
              "    }\n",
              "    20% {\n",
              "      border-color: transparent;\n",
              "      border-left-color: var(--fill-color);\n",
              "      border-top-color: var(--fill-color);\n",
              "    }\n",
              "    30% {\n",
              "      border-color: transparent;\n",
              "      border-left-color: var(--fill-color);\n",
              "      border-top-color: var(--fill-color);\n",
              "      border-right-color: var(--fill-color);\n",
              "    }\n",
              "    40% {\n",
              "      border-color: transparent;\n",
              "      border-right-color: var(--fill-color);\n",
              "      border-top-color: var(--fill-color);\n",
              "    }\n",
              "    60% {\n",
              "      border-color: transparent;\n",
              "      border-right-color: var(--fill-color);\n",
              "    }\n",
              "    80% {\n",
              "      border-color: transparent;\n",
              "      border-right-color: var(--fill-color);\n",
              "      border-bottom-color: var(--fill-color);\n",
              "    }\n",
              "    90% {\n",
              "      border-color: transparent;\n",
              "      border-bottom-color: var(--fill-color);\n",
              "    }\n",
              "  }\n",
              "</style>\n",
              "\n",
              "  <script>\n",
              "    async function quickchart(key) {\n",
              "      const quickchartButtonEl =\n",
              "        document.querySelector('#' + key + ' button');\n",
              "      quickchartButtonEl.disabled = true;  // To prevent multiple clicks.\n",
              "      quickchartButtonEl.classList.add('colab-df-spinner');\n",
              "      try {\n",
              "        const charts = await google.colab.kernel.invokeFunction(\n",
              "            'suggestCharts', [key], {});\n",
              "      } catch (error) {\n",
              "        console.error('Error during call to suggestCharts:', error);\n",
              "      }\n",
              "      quickchartButtonEl.classList.remove('colab-df-spinner');\n",
              "      quickchartButtonEl.classList.add('colab-df-quickchart-complete');\n",
              "    }\n",
              "    (() => {\n",
              "      let quickchartButtonEl =\n",
              "        document.querySelector('#df-cb005128-c36f-425e-82f1-540b9f0d98b5 button');\n",
              "      quickchartButtonEl.style.display =\n",
              "        google.colab.kernel.accessAllowed ? 'block' : 'none';\n",
              "    })();\n",
              "  </script>\n",
              "</div>\n",
              "    </div>\n",
              "  </div>\n"
            ],
            "application/vnd.google.colaboratory.intrinsic+json": {
              "type": "dataframe",
              "repr_error": "0"
            }
          },
          "metadata": {},
          "execution_count": 4
        }
      ],
      "source": [
        "!wget https://raw.githubusercontent.com/hse-ds/iad-intro-ds/master/2024/homeworks/hw06_texts/tweets_coronavirus.csv\n",
        "df = pd.read_csv('/content/tweets_coronavirus.csv', encoding='latin-1')\n",
        "df.sample(4)"
      ]
    },
    {
      "cell_type": "markdown",
      "metadata": {
        "id": "m2OiDog9ZBlS"
      },
      "source": [
        "Для каждого твитта указано:\n",
        "\n",
        "\n",
        "*   UserName - имя пользователя, заменено на целое число для анонимности\n",
        "*   ScreenName - отображающееся имя пользователя, заменено на целое число для анонимности\n",
        "*   Location - местоположение\n",
        "*   TweetAt - дата создания твитта\n",
        "*   OriginalTweet - текст твитта\n",
        "*   Sentiment - эмоциональная окраска твитта (целевая переменная)\n",
        "\n"
      ]
    },
    {
      "cell_type": "markdown",
      "metadata": {
        "id": "pZTMseDkhTC7"
      },
      "source": [
        "## Задание 1 Подготовка (0.5 балла)"
      ]
    },
    {
      "cell_type": "markdown",
      "metadata": {
        "id": "Xx2-odn9hdAW"
      },
      "source": [
        "Целевая переменная находится в колонке `Sentiment`.  Преобразуйте ее таким образом, чтобы она стала бинарной: 1 - если у твитта положительная эмоциональная окраска и 0 - если отрицательная."
      ]
    },
    {
      "cell_type": "code",
      "execution_count": 5,
      "metadata": {
        "id": "ZaQKQ1zEjP15",
        "colab": {
          "base_uri": "https://localhost:8080/"
        },
        "outputId": "024db0fe-b892-43d6-ab34-1543ee38baf4"
      },
      "outputs": [
        {
          "output_type": "execute_result",
          "data": {
            "text/plain": [
              "Sentiment\n",
              "Positive              11422\n",
              "Negative               9917\n",
              "Extremely Positive     6624\n",
              "Extremely Negative     5481\n",
              "Name: count, dtype: int64"
            ]
          },
          "metadata": {},
          "execution_count": 5
        }
      ],
      "source": [
        "df[\"Sentiment\"].value_counts()"
      ]
    },
    {
      "cell_type": "code",
      "source": [
        "# Замена эмоциональной окраски на бинарные значения\n",
        "sentiment_mapping = {\n",
        "    'Positive': 1,\n",
        "    'Extremely Positive': 1,\n",
        "    'Negative': 0,\n",
        "    'Extremely Negative': 0\n",
        "}\n",
        "\n",
        "df['Sentiment'] = df['Sentiment'].map(sentiment_mapping)\n"
      ],
      "metadata": {
        "id": "Jvi2wBuiZ0L4"
      },
      "execution_count": 6,
      "outputs": []
    },
    {
      "cell_type": "markdown",
      "metadata": {
        "id": "pGq1FxJ-kBo5"
      },
      "source": [
        "Сбалансированы ли классы?"
      ]
    },
    {
      "cell_type": "code",
      "execution_count": 7,
      "metadata": {
        "id": "a7gdNtxckK5V",
        "colab": {
          "base_uri": "https://localhost:8080/"
        },
        "outputId": "999a29c3-800f-42b1-cd56-647c44be113a"
      },
      "outputs": [
        {
          "output_type": "stream",
          "name": "stdout",
          "text": [
            "Sentiment\n",
            "1    18046\n",
            "0    15398\n",
            "Name: count, dtype: int64\n"
          ]
        }
      ],
      "source": [
        "class_counts = df['Sentiment'].value_counts()\n",
        "print(class_counts)\n"
      ]
    },
    {
      "cell_type": "code",
      "source": [
        "positive_ratio = class_counts[1] / len(df)\n",
        "negative_ratio = class_counts[0] / len(df)\n",
        "\n",
        "print(\"Доля положительных твиттов:\", positive_ratio)\n",
        "print(\"Доля отрицательных твиттов:\", negative_ratio)\n"
      ],
      "metadata": {
        "colab": {
          "base_uri": "https://localhost:8080/"
        },
        "id": "RYsCU9TqaAhY",
        "outputId": "bb00aabf-ec49-4c25-be28-0089a276e9ce"
      },
      "execution_count": 8,
      "outputs": [
        {
          "output_type": "stream",
          "name": "stdout",
          "text": [
            "Доля положительных твиттов: 0.5395885659610095\n",
            "Доля отрицательных твиттов: 0.46041143403899054\n"
          ]
        }
      ]
    },
    {
      "cell_type": "markdown",
      "metadata": {
        "id": "Ng8BCelMkWb0"
      },
      "source": [
        "**Ответ:** классы сбалансированы"
      ]
    },
    {
      "cell_type": "markdown",
      "metadata": {
        "id": "qmSIBSsLk5Zz"
      },
      "source": [
        "Выведете на экран информацию о пропусках в данных. Если пропуски присутствуют заполните их строкой 'Unknown'."
      ]
    },
    {
      "cell_type": "code",
      "execution_count": 9,
      "metadata": {
        "id": "UhUVRkR5kxa7",
        "colab": {
          "base_uri": "https://localhost:8080/"
        },
        "outputId": "6e243cfa-76fd-4422-b1fd-902ca1a23b7c"
      },
      "outputs": [
        {
          "output_type": "stream",
          "name": "stdout",
          "text": [
            "UserName            0\n",
            "ScreenName          0\n",
            "Location         7049\n",
            "TweetAt             0\n",
            "OriginalTweet       0\n",
            "Sentiment           0\n",
            "dtype: int64\n"
          ]
        }
      ],
      "source": [
        "missing_values = df.isnull().sum()\n",
        "print(missing_values)\n"
      ]
    },
    {
      "cell_type": "code",
      "source": [
        "df.fillna('Unknown', inplace=True)\n"
      ],
      "metadata": {
        "id": "pxtodaMwaazD"
      },
      "execution_count": 10,
      "outputs": []
    },
    {
      "cell_type": "code",
      "source": [
        "missing_values = df.isnull().sum()\n",
        "print(missing_values)\n"
      ],
      "metadata": {
        "colab": {
          "base_uri": "https://localhost:8080/"
        },
        "id": "3lhfZxVCagVj",
        "outputId": "45e9a3f3-d845-4b00-a437-bb292d030cac"
      },
      "execution_count": 11,
      "outputs": [
        {
          "output_type": "stream",
          "name": "stdout",
          "text": [
            "UserName         0\n",
            "ScreenName       0\n",
            "Location         0\n",
            "TweetAt          0\n",
            "OriginalTweet    0\n",
            "Sentiment        0\n",
            "dtype: int64\n"
          ]
        }
      ]
    },
    {
      "cell_type": "markdown",
      "metadata": {
        "id": "1tzt27tfjUpq"
      },
      "source": [
        "Разделите данные на обучающие и тестовые в соотношении 7 : 3 и `random_state=0`"
      ]
    },
    {
      "cell_type": "code",
      "execution_count": 12,
      "metadata": {
        "id": "xSLOA9tIj9Z6"
      },
      "outputs": [],
      "source": [
        "from sklearn.model_selection import train_test_split\n",
        "\n",
        "train, test = train_test_split(df, test_size=0.3, random_state=0)"
      ]
    },
    {
      "cell_type": "markdown",
      "metadata": {
        "id": "J9RrPUsJlL60"
      },
      "source": [
        "## Задание 2 Токенизация (3 балла)"
      ]
    },
    {
      "cell_type": "markdown",
      "metadata": {
        "id": "2Dz_b7Xopc_R"
      },
      "source": [
        "Постройте словарь на основе обучающей выборки и посчитайте количество встреч каждого токена с использованием самой простой токенизации - деления текстов по пробельным символам и приведение токенов в нижний регистр"
      ]
    },
    {
      "cell_type": "code",
      "execution_count": 13,
      "metadata": {
        "id": "SFr67WOJphny"
      },
      "outputs": [],
      "source": [
        "token_counts = {}\n",
        "for tweet in train['OriginalTweet']:\n",
        "    tokens = tweet.lower().split()\n",
        "    for token in tokens:\n",
        "        if token in token_counts:\n",
        "            token_counts[token] += 1\n",
        "        else:\n",
        "            token_counts[token] = 1\n"
      ]
    },
    {
      "cell_type": "markdown",
      "metadata": {
        "id": "Pe0h2Jqkpnao"
      },
      "source": [
        "Какой размер словаря получился?"
      ]
    },
    {
      "cell_type": "code",
      "execution_count": 14,
      "metadata": {
        "id": "umyENA7EpokD",
        "colab": {
          "base_uri": "https://localhost:8080/"
        },
        "outputId": "5acd0ef9-efac-42bf-8ec9-55e2c8334abc"
      },
      "outputs": [
        {
          "output_type": "stream",
          "name": "stdout",
          "text": [
            "Размер словаря: 79755\n"
          ]
        }
      ],
      "source": [
        "print(\"Размер словаря:\", len(token_counts))\n"
      ]
    },
    {
      "cell_type": "markdown",
      "metadata": {
        "id": "0d2G1Z-Qpqkd"
      },
      "source": [
        "Выведите 10 самых популярных токенов с количеством встреч каждого из них. Объясните, почему именно эти токены в топе"
      ]
    },
    {
      "cell_type": "code",
      "execution_count": 15,
      "metadata": {
        "id": "Impi32a_pssg",
        "colab": {
          "base_uri": "https://localhost:8080/"
        },
        "outputId": "6450fdaf-dd2d-4927-b777-d5274e9ee692"
      },
      "outputs": [
        {
          "output_type": "stream",
          "name": "stdout",
          "text": [
            "Токен: the, Количество: 26815\n",
            "Токен: to, Количество: 23373\n",
            "Токен: and, Количество: 14684\n",
            "Токен: of, Количество: 13012\n",
            "Токен: a, Количество: 11737\n",
            "Токен: in, Количество: 11198\n",
            "Токен: for, Количество: 8566\n",
            "Токен: #coronavirus, Количество: 8223\n",
            "Токен: is, Количество: 7383\n",
            "Токен: are, Количество: 7050\n"
          ]
        }
      ],
      "source": [
        "# Сортировка словаря по убыванию частот и вывод топ-10 токенов\n",
        "top_tokens = sorted(token_counts.items(), key=lambda x: x[1], reverse=True)[:10]\n",
        "\n",
        "# Вывод топ-10 токенов\n",
        "for token, count in top_tokens:\n",
        "    print(f\"Токен: {token}, Количество: {count}\")\n"
      ]
    },
    {
      "cell_type": "markdown",
      "metadata": {
        "id": "ZtuJCD0ApuFd"
      },
      "source": [
        "**Ответ:** топ состоит из предлогов и артиклей, так как они наиболее часто встречаются в речи, также в топе есть ключевое слово (коронавирус), потому что мы анализируем твиты по этому тегу\n"
      ]
    },
    {
      "cell_type": "markdown",
      "metadata": {
        "id": "T7DTQDkWsVYp"
      },
      "source": [
        "Удалите стоп-слова из словаря и выведите новый топ-10 токенов (и количество встреч) по популярности.  Что можно сказать  о нем?"
      ]
    },
    {
      "cell_type": "code",
      "execution_count": 16,
      "metadata": {
        "id": "8csSAdgTsnFx",
        "colab": {
          "base_uri": "https://localhost:8080/"
        },
        "outputId": "165d7a35-253c-4f80-cc09-f59a02d4b7d9"
      },
      "outputs": [
        {
          "output_type": "stream",
          "name": "stderr",
          "text": [
            "[nltk_data] Downloading package stopwords to /root/nltk_data...\n",
            "[nltk_data]   Unzipping corpora/stopwords.zip.\n"
          ]
        },
        {
          "output_type": "stream",
          "name": "stdout",
          "text": [
            "Токен: #coronavirus, Количество: 8223\n",
            "Токен: prices, Количество: 3891\n",
            "Токен: food, Количество: 3820\n",
            "Токен: grocery, Количество: 3469\n",
            "Токен: supermarket, Количество: 3288\n",
            "Токен: people, Количество: 3175\n",
            "Токен: covid-19, Количество: 3173\n",
            "Токен: store, Количество: 3155\n",
            "Токен: #covid19, Количество: 2471\n",
            "Токен: &amp;, Количество: 2314\n"
          ]
        }
      ],
      "source": [
        "import nltk\n",
        "from nltk.corpus import stopwords\n",
        "\n",
        "nltk.download('stopwords')\n",
        "stop_words = set(stopwords.words('english'))\n",
        "\n",
        "token_counts_filtered = {token: count for token, count in token_counts.items() if token not in stop_words}\n",
        "\n",
        "top_tokens_filtered = sorted(token_counts_filtered.items(), key=lambda x: x[1], reverse=True)[:10]\n",
        "\n",
        "for token, count in top_tokens_filtered:\n",
        "    print(f\"Токен: {token}, Количество: {count}\")\n"
      ]
    },
    {
      "cell_type": "markdown",
      "metadata": {
        "id": "LZH0x2Lzs-Dh"
      },
      "source": [
        "**Ответ:**  В этом топе уже встречаюсь слова, которые больше всего связаны с ключевой темой"
      ]
    },
    {
      "cell_type": "markdown",
      "metadata": {
        "id": "TKSGRyI-uor0"
      },
      "source": [
        "Также выведите 20 самых непопулярных слов (если самых непопулярных слов больше выведите любые 20 из них) Почему эти токены непопулярны, требуется ли как-то дополнительно работать с ними?"
      ]
    },
    {
      "cell_type": "code",
      "execution_count": 17,
      "metadata": {
        "id": "moArbwfvun9t",
        "colab": {
          "base_uri": "https://localhost:8080/"
        },
        "outputId": "f50e6b16-14c5-4e4d-9e96-77a529b8a951"
      },
      "outputs": [
        {
          "output_type": "stream",
          "name": "stdout",
          "text": [
            "Токен: https://t.co/1m881cwfuv, Количество: 1\n",
            "Токен: happy.., Количество: 1\n",
            "Токен: https://t.co/z0intks34x, Количество: 1\n",
            "Токен: mnuchinãâs, Количество: 1\n",
            "Токен: brink., Количество: 1\n",
            "Токен: https://t.co/jmobv8z0u0, Количество: 1\n",
            "Токен: university's, Количество: 1\n",
            "Токен: teaching.), Количество: 1\n",
            "Токен: @catholicpres, Количество: 1\n",
            "Токен: @catholicuniv, Количество: 1\n",
            "Токен: https://t.co/evqby035wf, Количество: 1\n",
            "Токен: https://t.co/riqrhxxeim, Количество: 1\n",
            "Токен: @@ballardspahrll, Количество: 1\n",
            "Токен: #aca, Количество: 1\n",
            "Токен: easier...take, Количество: 1\n",
            "Токен: ãânecessaryãâ, Количество: 1\n",
            "Токен: https://t.co/0fmsmlgepm, Количество: 1\n",
            "Токен: husted:, Количество: 1\n",
            "Токен: irishman, Количество: 1\n",
            "Токен: #happystpatricksday!, Количество: 1\n"
          ]
        }
      ],
      "source": [
        "bottom_tokens = sorted(token_counts.items(), key=lambda x: x[1])[:20]\n",
        "for token, count in bottom_tokens:\n",
        "    print(f\"Токен: {token}, Количество: {count}\")\n"
      ]
    },
    {
      "cell_type": "markdown",
      "metadata": {
        "id": "uRp3J1gQunlR"
      },
      "source": [
        "**Ответ:** # как мы видим, это либо отметки друзей либо ссылки, либо просто странное написание слов, они для нас бессмыслены\n",
        "\n"
      ]
    },
    {
      "cell_type": "markdown",
      "metadata": {
        "id": "wx9LQOSPzvjV"
      },
      "source": [
        "Теперь воспользуемся токенайзером получше - TweetTokenizer из библиотеки nltk. Примените его и посмотрите на топ-10 популярных слов. Чем он отличается от топа, который получался раньше? Почему?"
      ]
    },
    {
      "cell_type": "code",
      "execution_count": 18,
      "metadata": {
        "id": "2G1UkyVxzvFY",
        "colab": {
          "base_uri": "https://localhost:8080/"
        },
        "outputId": "2cc3bfc7-570b-4db7-8a92-08da55d18273"
      },
      "outputs": [
        {
          "output_type": "stream",
          "name": "stdout",
          "text": [
            "Токен: the, Количество: 26993\n",
            "Токен: ., Количество: 24118\n",
            "Токен: to, Количество: 23478\n",
            "Токен: ,, Количество: 17571\n",
            "Токен: and, Количество: 14825\n",
            "Токен: of, Количество: 13044\n",
            "Токен: a, Количество: 11891\n",
            "Токен: in, Количество: 11348\n",
            "Токен: ?, Количество: 9524\n",
            "Токен: #coronavirus, Количество: 8808\n"
          ]
        }
      ],
      "source": [
        "from nltk.tokenize import TweetTokenizer\n",
        "\n",
        "tokenizer = TweetTokenizer()\n",
        "\n",
        "token_counts_tweet = {}\n",
        "for tweet in train['OriginalTweet']:\n",
        "    tokens = tokenizer.tokenize(tweet.lower())\n",
        "    for token in tokens:\n",
        "        if token in token_counts_tweet:\n",
        "            token_counts_tweet[token] += 1\n",
        "        else:\n",
        "            token_counts_tweet[token] = 1\n",
        "\n",
        "top_tokens_tweet = sorted(token_counts_tweet.items(), key=lambda x: x[1], reverse=True)[:10]\n",
        "\n",
        "for token, count in top_tokens_tweet:\n",
        "    print(f\"Токен: {token}, Количество: {count}\")\n"
      ]
    },
    {
      "cell_type": "markdown",
      "metadata": {
        "id": "50eVUnJN1Zxl"
      },
      "source": [
        "**Ответ:** топ отличается, потому что также учитываются знаки препинания, которые определенно будут в топе"
      ]
    },
    {
      "cell_type": "markdown",
      "metadata": {
        "id": "1gqQgiMs11bs"
      },
      "source": [
        "Удалите из словаря стоп-слова и пунктуацию, посмотрите на новый топ-10 слов с количеством встреч, есть ли теперь в нем что-то не похожее на слова?"
      ]
    },
    {
      "cell_type": "code",
      "execution_count": 19,
      "metadata": {
        "id": "0yHWdFrp0Mup",
        "colab": {
          "base_uri": "https://localhost:8080/"
        },
        "outputId": "e99ba360-7d6c-40a7-89c8-0427a995224b"
      },
      "outputs": [
        {
          "output_type": "stream",
          "name": "stdout",
          "text": [
            "Слово: #coronavirus, Количество: 8808\n",
            "Слово: â, Количество: 7415\n",
            "Слово: , Количество: 7311\n",
            "Слово: 19, Количество: 7167\n",
            "Слово: covid, Количество: 6253\n",
            "Слово: prices, Количество: 4601\n",
            "Слово: , Количество: 4372\n",
            "Слово: food, Количество: 4367\n",
            "Слово: store, Количество: 3877\n",
            "Слово: supermarket, Количество: 3805\n"
          ]
        }
      ],
      "source": [
        "from nltk.corpus import stopwords\n",
        "from string import punctuation\n",
        "\n",
        "stop_words = set(stopwords.words('english'))\n",
        "token_counts_filtered_tweet = {token: count for token, count in token_counts_tweet.items() if token not in stop_words and token not in punctuation}\n",
        "top_tokens_filtered_tweet = sorted(token_counts_filtered_tweet.items(), key=lambda x: x[1], reverse=True)[:10]\n",
        "for token, count in top_tokens_filtered_tweet:\n",
        "    print(f\"Слово: {token}, Количество: {count}\")\n"
      ]
    },
    {
      "cell_type": "markdown",
      "metadata": {
        "id": "8ZJqXELP_Yxy"
      },
      "source": [
        "**Ответ:** часть топа нормальные слова, другая часть просто символа, которые надо бы удалить"
      ]
    },
    {
      "cell_type": "markdown",
      "metadata": {
        "id": "rzXjMsSB_kXB"
      },
      "source": [
        "Удалите из словаря токены из одного символа, с позицией в таблице Unicode 128 и более (`ord(x) >= 128`)\n",
        "\n",
        "Выведите топ-10 самых популярных и топ-20 непопулярных слов. Чем полученные топы отличаются от итоговых топов, полученных при использовании токенизации по пробелам? Что теперь лучше, а что хуже?"
      ]
    },
    {
      "cell_type": "code",
      "execution_count": 20,
      "metadata": {
        "id": "1695hlkS_1-J",
        "colab": {
          "base_uri": "https://localhost:8080/"
        },
        "outputId": "0410286b-1e94-40ef-fbbc-a7c57a4fad61"
      },
      "outputs": [
        {
          "output_type": "stream",
          "name": "stdout",
          "text": [
            "Топ-10 самых популярных слов:\n",
            "Слово: #coronavirus, Количество: 8808\n",
            "Слово: 19, Количество: 7167\n",
            "Слово: covid, Количество: 6253\n",
            "Слово: prices, Количество: 4601\n",
            "Слово: food, Количество: 4367\n",
            "Слово: store, Количество: 3877\n",
            "Слово: supermarket, Количество: 3805\n",
            "Слово: grocery, Количество: 3523\n",
            "Слово: people, Количество: 3463\n",
            "Слово: #covid19, Количество: 2589\n",
            "\n",
            "Топ-20 самых непопулярных слов:\n",
            "Слово: https://t.co/lw1r0rm7xs, Количество: 1\n",
            "Слово: https://t.co/5cbliqzx7l, Количество: 1\n",
            "Слово: now.when, Количество: 1\n",
            "Слово: milion, Количество: 1\n",
            "Слово: skellig, Количество: 1\n",
            "Слово: @skelligsix18, Количество: 1\n",
            "Слово: #skelligcoast2kms, Количество: 1\n",
            "Слово: #southkerry, Количество: 1\n",
            "Слово: https://t.co/zjcl195vqs, Количество: 1\n",
            "Слово: @srinivasiyc, Количество: 1\n",
            "Слово: https://t.co/iaek4fwsgz, Количество: 1\n",
            "Слово: premiership, Количество: 1\n",
            "Слово: non-playing, Количество: 1\n",
            "Слово: subsidise, Количество: 1\n",
            "Слово: playersã, Количество: 1\n",
            "Слово: renewing, Количество: 1\n",
            "Слово: flew, Количество: 1\n",
            "Слово: @torontopearson, Количество: 1\n",
            "Слово: @680news, Количество: 1\n",
            "Слово: https://t.co/7j2y3rsld9, Количество: 1\n"
          ]
        }
      ],
      "source": [
        "\n",
        "token_counts_filtered_tweet = {token: count for token, count in token_counts_filtered_tweet.items() if len(token) > 1 or ord(token) < 128}\n",
        "sorted_filtered_tokens = sorted(token_counts_filtered_tweet.items(), key=lambda x: x[1], reverse=True)\n",
        "\n",
        "print(\"Топ-10 самых популярных слов:\")\n",
        "for token, count in sorted_filtered_tokens[:10]:\n",
        "    print(f\"Слово: {token}, Количество: {count}\")\n",
        "\n",
        "print(\"\\nТоп-20 самых непопулярных слов:\")\n",
        "for token, count in sorted_filtered_tokens[-20:]:\n",
        "    print(f\"Слово: {token}, Количество: {count}\")\n"
      ]
    },
    {
      "cell_type": "markdown",
      "metadata": {
        "id": "KzjHAKIlDvc6"
      },
      "source": [
        "**Ответ:** топ популярных слов практически такой же, а вот топ непопулярных слов разный, но в данном случае, тут более осмысленные слова/хештеги/отметки друзей"
      ]
    },
    {
      "cell_type": "markdown",
      "metadata": {
        "id": "EcDf9_6HB2zm"
      },
      "source": [
        "Выведите топ-10 популярных хештегов с количеством встреч. Что можно сказать о них?"
      ]
    },
    {
      "cell_type": "code",
      "execution_count": 22,
      "metadata": {
        "id": "zk4fygCUBw3l",
        "colab": {
          "base_uri": "https://localhost:8080/"
        },
        "outputId": "4ce77e8d-183d-42a6-a7eb-652f943d8108"
      },
      "outputs": [
        {
          "output_type": "stream",
          "name": "stdout",
          "text": [
            "Топ-10 популярных хештегов:\n",
            "Хештег: #coronavirus, Количество: 8835\n",
            "Хештег: #covid19, Количество: 2593\n",
            "Хештег: #covid_19, Количество: 1735\n",
            "Хештег: #covid2019, Количество: 946\n",
            "Хештег: #covid, Количество: 863\n",
            "Хештег: #toiletpaper, Количество: 744\n",
            "Хештег: #socialdistancing, Количество: 465\n",
            "Хештег: #coronacrisis, Количество: 448\n",
            "Хештег: #pandemic, Количество: 257\n",
            "Хештег: #coronaviruspandemic, Количество: 249\n"
          ]
        }
      ],
      "source": [
        "import re\n",
        "\n",
        "# Паттерн для извлечения хештегов\n",
        "hashtag_pattern = re.compile(r'#\\w+')\n",
        "\n",
        "# Извлечение хештегов и подсчет их частот\n",
        "hashtag_counts = {}\n",
        "for tweet in train['OriginalTweet']:\n",
        "    hashtags = hashtag_pattern.findall(tweet.lower())\n",
        "    for hashtag in hashtags:\n",
        "        if hashtag in hashtag_counts:\n",
        "            hashtag_counts[hashtag] += 1\n",
        "        else:\n",
        "            hashtag_counts[hashtag] = 1\n",
        "\n",
        "top_hashtags = sorted(hashtag_counts.items(), key=lambda x: x[1], reverse=True)[:10]\n",
        "\n",
        "print(\"Топ-10 популярных хештегов:\")\n",
        "for hashtag, count in top_hashtags:\n",
        "    print(f\"Хештег: {hashtag}, Количество: {count}\")\n"
      ]
    },
    {
      "cell_type": "markdown",
      "metadata": {
        "id": "-6NeNWBkDxM7"
      },
      "source": [
        "**Ответ:** хештеги отражают тематику и контекст обсуждаемых в твиттах событий эпохи коронавируса"
      ]
    },
    {
      "cell_type": "markdown",
      "metadata": {
        "id": "LLYBg7caD5GA"
      },
      "source": [
        "То же самое проделайте для ссылок на сайт https://t.co Сравнима ли популярность ссылок с популярностью хештегов? Будет ли информация о ссылке на конкретную страницу полезна?"
      ]
    },
    {
      "cell_type": "code",
      "execution_count": 23,
      "metadata": {
        "id": "MXbm1oeaCK9S",
        "colab": {
          "base_uri": "https://localhost:8080/"
        },
        "outputId": "5497befe-ce9e-44e1-be99-1f9111341942"
      },
      "outputs": [
        {
          "output_type": "stream",
          "name": "stdout",
          "text": [
            "Топ-10 популярных ссылок на сайт https://t.co:\n",
            "Ссылка: https://t.co/oxa7swtond, Количество: 5\n",
            "Ссылка: https://t.co/gp3eusapl8, Количество: 4\n",
            "Ссылка: https://t.co/deftrui1pfã, Количество: 3\n",
            "Ссылка: https://t.co/wrlhyzizaa, Количество: 3\n",
            "Ссылка: https://t.co/kuwipf1kqw, Количество: 3\n",
            "Ссылка: https://t.co/zjnrx6dkkn, Количество: 3\n",
            "Ссылка: https://t.co/3gbbdpdjat, Количество: 3\n",
            "Ссылка: https://t.co/e2znxajpre, Количество: 3\n",
            "Ссылка: https://t.co/catkegayoy, Количество: 3\n",
            "Ссылка: https://t.co/g63rp042ho, Количество: 3\n"
          ]
        }
      ],
      "source": [
        "import re\n",
        "\n",
        "# Паттерн для извлечения ссылок на сайт https://t.co\n",
        "url_pattern = re.compile(r'https://t\\.co/\\w+')\n",
        "\n",
        "# Извлечение ссылок и подсчет их частот\n",
        "url_counts = {}\n",
        "for tweet in train['OriginalTweet']:\n",
        "    urls = url_pattern.findall(tweet.lower())\n",
        "    for url in urls:\n",
        "        if url in url_counts:\n",
        "            url_counts[url] += 1\n",
        "        else:\n",
        "            url_counts[url] = 1\n",
        "\n",
        "top_urls = sorted(url_counts.items(), key=lambda x: x[1], reverse=True)[:10]\n",
        "\n",
        "print(\"Топ-10 популярных ссылок на сайт https://t.co:\")\n",
        "for url, count in top_urls:\n",
        "    print(f\"Ссылка: {url}, Количество: {count}\")\n"
      ]
    },
    {
      "cell_type": "markdown",
      "metadata": {
        "id": "at6lRYZ8A07N"
      },
      "source": [
        "**Ответ:** не сравнима, ссылки нам бесполезны"
      ]
    },
    {
      "cell_type": "markdown",
      "metadata": {
        "id": "IOGdUU1kBU1D"
      },
      "source": [
        "Используем опыт предыдущих экспериментов и напишем собственный токенайзер, улучшив TweetTokenizer. Функция tokenize должна:\n",
        "\n",
        "\n",
        "\n",
        "*   Привести текст в нижний регистр\n",
        "*   Применить TweetTokenizer для изначального выделения токенов\n",
        "*   Удалить стоп-слова, пунктуацию, токены из одного символа, с позицией в таблице Unicode 128 и более и ссылки на t.co\n",
        "\n"
      ]
    },
    {
      "cell_type": "code",
      "execution_count": 38,
      "metadata": {
        "id": "ctEsB6xkFrrK"
      },
      "outputs": [],
      "source": [
        "def custom_tokenizer(text):\n",
        "    text = text.lower()\n",
        "    tk = TweetTokenizer()\n",
        "    tokens = tk.tokenize(text)\n",
        "    tokens = [token for token in tokens if not (\n",
        "        len(token) == 1 and ord(token) >= 128 or  # Удаление токенов из одного символа с позицией в таблице Unicode 128 и более\n",
        "        token in punctuation or  # Удаление пунктуации\n",
        "        token.startswith(\"https://t.co/\") or  # Удаление ссылок на t.co\n",
        "        token in stopwords.words('english')  # Удаление стоп-слов\n",
        "    )]\n",
        "\n",
        "    return tokens\n"
      ]
    },
    {
      "cell_type": "code",
      "execution_count": 39,
      "metadata": {
        "colab": {
          "base_uri": "https://localhost:8080/"
        },
        "id": "XwbgtYkJGYym",
        "outputId": "8a973d03-225b-48d9-8088-c75ee6f6c621"
      },
      "outputs": [
        {
          "output_type": "execute_result",
          "data": {
            "text/plain": [
              "['sample', 'text', '@sample_text', '#sampletext']"
            ]
          },
          "metadata": {},
          "execution_count": 39
        }
      ],
      "source": [
        "custom_tokenizer('This is sample text!!!! @Sample_text I, \\x92\\x92 https://t.co/sample  #sampletext')"
      ]
    },
    {
      "cell_type": "markdown",
      "metadata": {
        "id": "wURVABmXHk97"
      },
      "source": [
        "## Задание 3 Векторизация текстов (2 балла)"
      ]
    },
    {
      "cell_type": "markdown",
      "metadata": {
        "id": "H44iXkoHIQfN"
      },
      "source": [
        "Обучите CountVectorizer с использованием custom_tokenizer в качестве токенайзера. Как размер полученного словаря соотносится с размером изначального словаря из начала задания 2?"
      ]
    },
    {
      "cell_type": "code",
      "source": [
        "from sklearn.feature_extraction.text import CountVectorizer\n",
        "cv = CountVectorizer(tokenizer=custom_tokenizer)\n",
        "cv.fit(train['OriginalTweet'])\n",
        "\n",
        "print(len(cv.vocabulary_))"
      ],
      "metadata": {
        "colab": {
          "base_uri": "https://localhost:8080/"
        },
        "id": "gHn_limQl3BI",
        "outputId": "38fd766c-6f3b-450b-f443-3709e11018c2"
      },
      "execution_count": 40,
      "outputs": [
        {
          "output_type": "stream",
          "name": "stderr",
          "text": [
            "/usr/local/lib/python3.10/dist-packages/sklearn/feature_extraction/text.py:528: UserWarning: The parameter 'token_pattern' will not be used since 'tokenizer' is not None'\n",
            "  warnings.warn(\n"
          ]
        },
        {
          "output_type": "stream",
          "name": "stdout",
          "text": [
            "45308\n"
          ]
        }
      ]
    },
    {
      "cell_type": "markdown",
      "metadata": {
        "id": "gsfmaSGoItUm"
      },
      "source": [
        "**Ответ:** словарь практически в 2 раза меньше"
      ]
    },
    {
      "cell_type": "markdown",
      "metadata": {
        "id": "lm6UHNmqKZT0"
      },
      "source": [
        "Посмотрим на какой-нибудь конкретный твитт:"
      ]
    },
    {
      "cell_type": "code",
      "execution_count": 44,
      "metadata": {
        "id": "aJVjjfqOJh8m",
        "colab": {
          "base_uri": "https://localhost:8080/"
        },
        "outputId": "1fa899bb-acec-4f16-84dd-3ccf412b8d63"
      },
      "outputs": [
        {
          "output_type": "execute_result",
          "data": {
            "text/plain": [
              "('Nice one @SkyNews lets not panic but show ppl in france queueing for food!!! #CoronavirusOutbreak #COVID2019 brainless!! Ffs',\n",
              " 0)"
            ]
          },
          "metadata": {},
          "execution_count": 44
        }
      ],
      "source": [
        "ind = 9023\n",
        "train.iloc[ind]['OriginalTweet'], train.iloc[ind]['Sentiment']"
      ]
    },
    {
      "cell_type": "markdown",
      "metadata": {
        "id": "PBMIHBI5KdaS"
      },
      "source": [
        "Автор твитта не доволен ситуацией с едой во Франции и текст имеет резко негативную окраску.\n",
        "\n",
        "Примените обученный CountVectorizer для векторизации данного текста, и попытайтесь определить самый важный токен и самый неважный токен (токен, компонента которого в векторе максимальна/минимальна, без учета 0). Хорошо ли они определились, почему?"
      ]
    },
    {
      "cell_type": "code",
      "execution_count": 45,
      "metadata": {
        "id": "7NcAllaEKsJj",
        "colab": {
          "base_uri": "https://localhost:8080/"
        },
        "outputId": "ae3c4b79-e2c6-4d25-ac0d-a2a9a48e1bb3"
      },
      "outputs": [
        {
          "output_type": "stream",
          "name": "stdout",
          "text": [
            "Токен: #coronavirusoutbreak, Количество: 1\n",
            "Токен: #covid2019, Количество: 1\n",
            "Токен: @skynews, Количество: 1\n",
            "Токен: brainless, Количество: 1\n",
            "Токен: ffs, Количество: 1\n",
            "Токен: food, Количество: 1\n",
            "Токен: france, Количество: 1\n",
            "Токен: lets, Количество: 1\n",
            "Токен: nice, Количество: 1\n",
            "Токен: one, Количество: 1\n",
            "Токен: panic, Количество: 1\n",
            "Токен: ppl, Количество: 1\n",
            "Токен: queueing, Количество: 1\n",
            "Токен: show, Количество: 1\n"
          ]
        }
      ],
      "source": [
        "# Выбор конкретного твитта\n",
        "ind = 9023\n",
        "text = train.iloc[ind]['OriginalTweet']\n",
        "\n",
        "text_vector = cv.transform([text])\n",
        "tokens = cv.get_feature_names_out()\n",
        "token_counts = {token: text_vector[0, idx] for idx, token in enumerate(tokens) if text_vector[0, idx] > 0}\n",
        "for token, count in token_counts.items():\n",
        "    print(f\"Токен: {token}, Количество: {count}\")\n"
      ]
    },
    {
      "cell_type": "markdown",
      "metadata": {
        "id": "TpEsl1k_NF4T"
      },
      "source": [
        "**Ответ:** все токены встречаюст по одному разу, из этого мы не можем сделать никакой вывод"
      ]
    },
    {
      "cell_type": "markdown",
      "metadata": {
        "id": "w4DsEQpLO3J6"
      },
      "source": [
        "Теперь примените TfidfVectorizer и  определите самый важный/неважный токены. Хорошо ли определились, почему?"
      ]
    },
    {
      "cell_type": "code",
      "execution_count": 46,
      "metadata": {
        "id": "uSNzdK3ENGB3",
        "colab": {
          "base_uri": "https://localhost:8080/"
        },
        "outputId": "0289b65f-de6b-45ff-eecd-f3a0d3f30f6d"
      },
      "outputs": [
        {
          "output_type": "stream",
          "name": "stderr",
          "text": [
            "/usr/local/lib/python3.10/dist-packages/sklearn/feature_extraction/text.py:528: UserWarning: The parameter 'token_pattern' will not be used since 'tokenizer' is not None'\n",
            "  warnings.warn(\n"
          ]
        },
        {
          "output_type": "stream",
          "name": "stdout",
          "text": [
            "Токен: #coronavirusoutbreak, Вес: 0.22584265007428544\n",
            "Токен: #covid2019, Вес: 0.16825192939361902\n",
            "Токен: @skynews, Вес: 0.31042634466284263\n",
            "Токен: brainless, Вес: 0.3867641170466375\n",
            "Токен: ffs, Вес: 0.3244741764513268\n",
            "Токен: food, Вес: 0.11328893069250721\n",
            "Токен: france, Вес: 0.32047314046539654\n",
            "Токен: lets, Вес: 0.30121070136861045\n",
            "Токен: nice, Вес: 0.2542729176022132\n",
            "Токен: one, Вес: 0.16306722855395073\n",
            "Токен: panic, Вес: 0.14759470306326164\n",
            "Токен: ppl, Вес: 0.2550064610386691\n",
            "Токен: queueing, Вес: 0.35434556333216544\n",
            "Токен: show, Вес: 0.24406492401820118\n"
          ]
        }
      ],
      "source": [
        "from sklearn.feature_extraction.text import TfidfVectorizer\n",
        "\n",
        "tfidf = TfidfVectorizer(tokenizer=custom_tokenizer)\n",
        "\n",
        "text_vector_tfidf = tfidf.fit_transform(train['OriginalTweet'])\n",
        "text_vector_tfidf_specific = tfidf.transform([text])\n",
        "\n",
        "\n",
        "tokens_tfidf = tfidf.get_feature_names_out()\n",
        "token_weights = {tokens_tfidf[idx]: text_vector_tfidf_specific[0, idx] for idx in range(len(tokens_tfidf)) if text_vector_tfidf_specific[0, idx] > 0}\n",
        "for token, weight in token_weights.items():\n",
        "    print(f\"Токен: {token}, Вес: {weight}\")\n"
      ]
    },
    {
      "cell_type": "markdown",
      "metadata": {
        "id": "NYao_UhqQADm"
      },
      "source": [
        "**Ответ:** brainless - самый важный токен (в целом так и есть), food - самый неважный, а тут спорно, я не считаю этот токен тут наиболее бесполезным"
      ]
    },
    {
      "cell_type": "markdown",
      "metadata": {
        "id": "LGRJPqfWSesQ"
      },
      "source": [
        "Найдите какой-нибудь положительно окрашенный твитт, где TfidfVectorizer хорошо (полезно для определения окраски) выделяет важный токен, поясните пример.\n",
        "\n",
        "*Подсказка:* явно положительные твитты можно искать при помощи положительных слов (good, great, amazing и т. д.)"
      ]
    },
    {
      "cell_type": "code",
      "execution_count": 48,
      "metadata": {
        "id": "bRbQ2CHiSuJI",
        "colab": {
          "base_uri": "https://localhost:8080/"
        },
        "outputId": "64a8d6d7-5a7e-4c6c-fb16-b0499df5a8d8"
      },
      "outputs": [
        {
          "output_type": "stream",
          "name": "stdout",
          "text": [
            "Положительно окрашенный твитт:\n",
            "Another good example of innovation in retail. Restaurants teaming up with retailers to offer freshly prepared restaurant meals in store in response to COVID-19.  https://t.co/08acEfEZNW\r\r\n",
            "\r\r\n",
            "#innovation https://t.co/jw6JkezTtt\n",
            "\n",
            "Самый важный токен (TfidfVectorizer) в положительно окрашенном твитте: freshly\n"
          ]
        }
      ],
      "source": [
        "positive_words = ['good', 'great', 'amazing', 'awesome', 'excellent']\n",
        "positive_tweets = train[train['OriginalTweet'].apply(lambda x: any(word in x.lower() for word in positive_words)) & (train['Sentiment'] == 1)]\n",
        "\n",
        "positive_tweet = positive_tweets.sample(1)\n",
        "\n",
        "print(\"Положительно окрашенный твитт:\")\n",
        "print(positive_tweet['OriginalTweet'].values[0])\n",
        "\n",
        "positive_tweet_vector_tfidf = tfidf.transform(positive_tweet['OriginalTweet'])\n",
        "\n",
        "max_weight_index_positive = positive_tweet_vector_tfidf.argmax()\n",
        "\n",
        "most_important_token_positive_tfidf = tokens_tfidf[max_weight_index_positive]\n",
        "\n",
        "print(\"\\nСамый важный токен (TfidfVectorizer) в положительно окрашенном твитте:\", most_important_token_positive_tfidf)\n"
      ]
    },
    {
      "cell_type": "markdown",
      "metadata": {
        "id": "JTv9ST2_U6NA"
      },
      "source": [
        "**Ответ:** довольно неплохо определил самый важный токен (по моему мнению)"
      ]
    },
    {
      "cell_type": "markdown",
      "metadata": {
        "id": "JVEuZm8BHms6"
      },
      "source": [
        "## Задание 4 Обучение первых моделей (1 балл)"
      ]
    },
    {
      "cell_type": "markdown",
      "metadata": {
        "id": "JADkO3sfXdOG"
      },
      "source": [
        "Примените оба векторайзера для получения матриц с признаками текстов.  Выделите целевую переменную."
      ]
    },
    {
      "cell_type": "code",
      "execution_count": 49,
      "metadata": {
        "id": "DguoiXhCX2oN"
      },
      "outputs": [],
      "source": [
        "X_train_count = cv.transform(train['OriginalTweet'])\n",
        "X_test_count = cv.transform(test['OriginalTweet'])\n",
        "\n",
        "X_train_tfidf = tfidf.transform(train['OriginalTweet'])\n",
        "X_test_tfidf = tfidf.transform(test['OriginalTweet'])\n",
        "\n",
        "y_train = train['Sentiment']\n",
        "y_test = test['Sentiment']\n"
      ]
    },
    {
      "cell_type": "markdown",
      "metadata": {
        "id": "_FX1KSOfYSx4"
      },
      "source": [
        "Обучите логистическую регрессию на векторах из обоих векторайзеров. Посчитайте долю правильных ответов на обучающих и тестовых данных. Какой векторайзер показал лучший результат? Что можно сказать о моделях?"
      ]
    },
    {
      "cell_type": "code",
      "execution_count": 50,
      "metadata": {
        "id": "-Tb3eh8UXJ6v",
        "colab": {
          "base_uri": "https://localhost:8080/"
        },
        "outputId": "b2853e19-468e-40ba-c34b-ec0f039ce49e"
      },
      "outputs": [
        {
          "output_type": "stream",
          "name": "stdout",
          "text": [
            "Точность на обучающей выборке (CountVectorizer): 0.9844510892780863\n",
            "Точность на тестовой выборке (CountVectorizer): 0.8672513454255532\n",
            "Точность на обучающей выборке (TfidfVectorizer): 0.9254592054677488\n",
            "Точность на тестовой выборке (TfidfVectorizer): 0.8533984452860275\n"
          ]
        }
      ],
      "source": [
        "from sklearn.linear_model import LogisticRegression\n",
        "from sklearn.metrics import accuracy_score\n",
        "\n",
        "lr_count = LogisticRegression(max_iter=1000)\n",
        "lr_count.fit(X_train_count, y_train)\n",
        "\n",
        "train_preds_count = lr_count.predict(X_train_count)\n",
        "train_accuracy_count = accuracy_score(y_train, train_preds_count)\n",
        "\n",
        "test_preds_count = lr_count.predict(X_test_count)\n",
        "test_accuracy_count = accuracy_score(y_test, test_preds_count)\n",
        "\n",
        "lr_tfidf = LogisticRegression(max_iter=1000)\n",
        "lr_tfidf.fit(X_train_tfidf, y_train)\n",
        "\n",
        "train_preds_tfidf = lr_tfidf.predict(X_train_tfidf)\n",
        "train_accuracy_tfidf = accuracy_score(y_train, train_preds_tfidf)\n",
        "\n",
        "test_preds_tfidf = lr_tfidf.predict(X_test_tfidf)\n",
        "test_accuracy_tfidf = accuracy_score(y_test, test_preds_tfidf)\n",
        "\n",
        "print(\"Точность на обучающей выборке (CountVectorizer):\", train_accuracy_count)\n",
        "print(\"Точность на тестовой выборке (CountVectorizer):\", test_accuracy_count)\n",
        "print(\"Точность на обучающей выборке (TfidfVectorizer):\", train_accuracy_tfidf)\n",
        "print(\"Точность на тестовой выборке (TfidfVectorizer):\", test_accuracy_tfidf)\n"
      ]
    },
    {
      "cell_type": "markdown",
      "metadata": {
        "id": "8y_wO7rCmv7K"
      },
      "source": [
        "**Ответ:** обычный векторайзер немного лучше"
      ]
    },
    {
      "cell_type": "markdown",
      "metadata": {
        "id": "rSOR1i3mjrys"
      },
      "source": [
        "## Задание 5 Стемминг (0.5 балла)"
      ]
    },
    {
      "cell_type": "markdown",
      "metadata": {
        "id": "i6ONBWNPjuq-"
      },
      "source": [
        "Для уменьшения словаря можно использовать стемминг.\n",
        "\n",
        "Модифицируйте написанный токенайзер, добавив в него стемминг с использованием SnowballStemmer. Обучите Count- и Tfidf- векторайзеры. Как изменился размер словаря?"
      ]
    },
    {
      "cell_type": "code",
      "execution_count": 51,
      "metadata": {
        "id": "oVfA2-iMkQBb"
      },
      "outputs": [],
      "source": [
        "from nltk.stem import SnowballStemmer\n",
        "\n",
        "stemmer = SnowballStemmer(language='english')\n",
        "\n",
        "def custom_stem_tokenizer(text):\n",
        "    text = text.lower()\n",
        "    tk = TweetTokenizer()\n",
        "    tokens = tk.tokenize(text)\n",
        "    stemmed_tokens = [stemmer.stem(token) for token in tokens]\n",
        "\n",
        "    filtered_tokens = [token for token in stemmed_tokens if not (\n",
        "        len(token) == 1 and ord(token) >= 128 or  # Удаление токенов из одного символа с позицией в таблице Unicode 128 и более\n",
        "        token in punctuation or  # Удаление пунктуации\n",
        "        token.startswith(\"https://t.co/\") or  # Удаление ссылок на t.co\n",
        "        token in stopwords.words('english')  # Удаление стоп-слов\n",
        "    )]\n",
        "\n",
        "    return filtered_tokens\n"
      ]
    },
    {
      "cell_type": "code",
      "execution_count": 52,
      "metadata": {
        "colab": {
          "base_uri": "https://localhost:8080/"
        },
        "id": "9QmrjYtqnlPd",
        "outputId": "cb392b38-9dd4-4faa-e82f-dfe3001187f8"
      },
      "outputs": [
        {
          "output_type": "execute_result",
          "data": {
            "text/plain": [
              "['sampl', 'text', '@sample_text', '#sampletext', 'ad', 'word', 'check', 'stem']"
            ]
          },
          "metadata": {},
          "execution_count": 52
        }
      ],
      "source": [
        "custom_stem_tokenizer('This is sample text!!!! @Sample_text I, \\x92\\x92 https://t.co/sample  #sampletext adding more words to check stemming')"
      ]
    },
    {
      "cell_type": "code",
      "execution_count": 53,
      "metadata": {
        "colab": {
          "base_uri": "https://localhost:8080/"
        },
        "id": "zAvUTmaplzOS",
        "outputId": "3f87b9a8-907a-48cd-c50d-07f3031dbef1"
      },
      "outputs": [
        {
          "output_type": "stream",
          "name": "stderr",
          "text": [
            "/usr/local/lib/python3.10/dist-packages/sklearn/feature_extraction/text.py:528: UserWarning: The parameter 'token_pattern' will not be used since 'tokenizer' is not None'\n",
            "  warnings.warn(\n"
          ]
        },
        {
          "output_type": "stream",
          "name": "stdout",
          "text": [
            "Размер словаря CountVectorizer с использованием стемминга: 36620\n",
            "Размер словаря TfidfVectorizer с использованием стемминга: 36620\n"
          ]
        }
      ],
      "source": [
        "cv_stem = CountVectorizer(tokenizer=custom_stem_tokenizer)\n",
        "\n",
        "X_train_count_stem = cv_stem.fit_transform(train['OriginalTweet'])\n",
        "\n",
        "print(\"Размер словаря CountVectorizer с использованием стемминга:\", len(cv_stem.vocabulary_))\n",
        "\n",
        "tfidf_stem = TfidfVectorizer(tokenizer=custom_stem_tokenizer)\n",
        "\n",
        "X_train_tfidf_stem = tfidf_stem.fit_transform(train['OriginalTweet'])\n",
        "\n",
        "print(\"Размер словаря TfidfVectorizer с использованием стемминга:\", len(tfidf_stem.vocabulary_))\n"
      ]
    },
    {
      "cell_type": "markdown",
      "metadata": {
        "id": "Oyzs5TaAoHP6"
      },
      "source": [
        "**Ответ** размер словаря немного уменьшился"
      ]
    },
    {
      "cell_type": "markdown",
      "metadata": {
        "id": "1OkncHI8oRmd"
      },
      "source": [
        "Обучите логистическую регрессию с использованием обоих векторайзеров. Изменилось ли качество? Есть ли смысл применять стемминг?"
      ]
    },
    {
      "cell_type": "code",
      "execution_count": 54,
      "metadata": {
        "id": "ykZJPphEoZ5W",
        "colab": {
          "base_uri": "https://localhost:8080/"
        },
        "outputId": "b6127adb-e7c5-41e9-af68-26649cbebbe5"
      },
      "outputs": [
        {
          "output_type": "stream",
          "name": "stdout",
          "text": [
            "Точность на тестовой выборке (CountVectorizer с использованием стемминга): 0.8674506677297189\n",
            "Точность на тестовой выборке (TfidfVectorizer с использованием стемминга): 0.8559896352401833\n"
          ]
        }
      ],
      "source": [
        "from sklearn.linear_model import LogisticRegression\n",
        "from sklearn.metrics import accuracy_score\n",
        "\n",
        "lr_count_stem = LogisticRegression(max_iter=1000)\n",
        "lr_count_stem.fit(X_train_count_stem, y_train)\n",
        "\n",
        "test_preds_count_stem = lr_count_stem.predict(cv_stem.transform(test['OriginalTweet']))\n",
        "test_accuracy_count_stem = accuracy_score(y_test, test_preds_count_stem)\n",
        "\n",
        "lr_tfidf_stem = LogisticRegression(max_iter=1000)\n",
        "lr_tfidf_stem.fit(X_train_tfidf_stem, y_train)\n",
        "\n",
        "test_preds_tfidf_stem = lr_tfidf_stem.predict(tfidf_stem.transform(test['OriginalTweet']))\n",
        "test_accuracy_tfidf_stem = accuracy_score(y_test, test_preds_tfidf_stem)\n",
        "\n",
        "print(\"Точность на тестовой выборке (CountVectorizer с использованием стемминга):\", test_accuracy_count_stem)\n",
        "print(\"Точность на тестовой выборке (TfidfVectorizer с использованием стемминга):\", test_accuracy_tfidf_stem)\n"
      ]
    },
    {
      "cell_type": "markdown",
      "metadata": {
        "id": "bCRlrODro0h8"
      },
      "source": [
        "**Ответ:** результаты практически идентичны"
      ]
    },
    {
      "cell_type": "markdown",
      "metadata": {
        "id": "hYWGQNEDqLC-"
      },
      "source": [
        "## Задание  6 Работа с частотами (1.5 балла)"
      ]
    },
    {
      "cell_type": "markdown",
      "metadata": {
        "id": "8Hq-tl5mqUSn"
      },
      "source": [
        "Еще один способ уменьшить количество признаков - это использовать параметры min_df и max_df при построении векторайзера  эти параметры помогают ограничить требуемую частоту встречаемости токена в документах.\n",
        "\n",
        "По умолчанию берутся все токены, которые встретились хотя бы один раз.\n",
        "\n"
      ]
    },
    {
      "cell_type": "markdown",
      "metadata": {
        "id": "m1SiD4DE3WZ2"
      },
      "source": [
        "Подберите max_df такой, что размер словаря будет 36651 (на 1 меньше, чем было). Почему параметр получился такой большой/маленький?"
      ]
    },
    {
      "cell_type": "code",
      "source": [
        "# Подбор значения max_df\n",
        "max_df_value = 1\n",
        "while True:\n",
        "    cv_df = CountVectorizer(tokenizer=custom_stem_tokenizer, max_df=max_df_value).fit(train['OriginalTweet'])\n",
        "    vocab_size = len(cv_df.vocabulary_)\n",
        "    if vocab_size == 36651:\n",
        "        break\n",
        "    elif vocab_size > 36651:\n",
        "        max_df_value -= 1\n",
        "    else:\n",
        "        max_df_value += 1\n",
        "\n",
        "print(\"Значение max_df:\", max_df_value)\n",
        "print(\"Размер словаря:\", vocab_size)\n"
      ],
      "metadata": {
        "colab": {
          "base_uri": "https://localhost:8080/",
          "height": 371
        },
        "id": "o3YLb8PViExb",
        "outputId": "78c4b287-411a-48ad-ff89-a74d2b91d450"
      },
      "execution_count": 57,
      "outputs": [
        {
          "output_type": "error",
          "ename": "KeyboardInterrupt",
          "evalue": "",
          "traceback": [
            "\u001b[0;31m---------------------------------------------------------------------------\u001b[0m",
            "\u001b[0;31mKeyboardInterrupt\u001b[0m                         Traceback (most recent call last)",
            "\u001b[0;32m<ipython-input-57-ba26dbaeb050>\u001b[0m in \u001b[0;36m<cell line: 3>\u001b[0;34m()\u001b[0m\n\u001b[1;32m      2\u001b[0m \u001b[0mmax_df_value\u001b[0m \u001b[0;34m=\u001b[0m \u001b[0;36m1\u001b[0m\u001b[0;34m\u001b[0m\u001b[0;34m\u001b[0m\u001b[0m\n\u001b[1;32m      3\u001b[0m \u001b[0;32mwhile\u001b[0m \u001b[0;32mTrue\u001b[0m\u001b[0;34m:\u001b[0m\u001b[0;34m\u001b[0m\u001b[0;34m\u001b[0m\u001b[0m\n\u001b[0;32m----> 4\u001b[0;31m     \u001b[0mcv_df\u001b[0m \u001b[0;34m=\u001b[0m \u001b[0mCountVectorizer\u001b[0m\u001b[0;34m(\u001b[0m\u001b[0mtokenizer\u001b[0m\u001b[0;34m=\u001b[0m\u001b[0mcustom_stem_tokenizer\u001b[0m\u001b[0;34m,\u001b[0m \u001b[0mmax_df\u001b[0m\u001b[0;34m=\u001b[0m\u001b[0mmax_df_value\u001b[0m\u001b[0;34m)\u001b[0m\u001b[0;34m.\u001b[0m\u001b[0mfit\u001b[0m\u001b[0;34m(\u001b[0m\u001b[0mtrain\u001b[0m\u001b[0;34m[\u001b[0m\u001b[0;34m'OriginalTweet'\u001b[0m\u001b[0;34m]\u001b[0m\u001b[0;34m)\u001b[0m\u001b[0;34m\u001b[0m\u001b[0;34m\u001b[0m\u001b[0m\n\u001b[0m\u001b[1;32m      5\u001b[0m     \u001b[0mvocab_size\u001b[0m \u001b[0;34m=\u001b[0m \u001b[0mlen\u001b[0m\u001b[0;34m(\u001b[0m\u001b[0mcv_df\u001b[0m\u001b[0;34m.\u001b[0m\u001b[0mvocabulary_\u001b[0m\u001b[0;34m)\u001b[0m\u001b[0;34m\u001b[0m\u001b[0;34m\u001b[0m\u001b[0m\n\u001b[1;32m      6\u001b[0m     \u001b[0;32mif\u001b[0m \u001b[0mvocab_size\u001b[0m \u001b[0;34m==\u001b[0m \u001b[0;36m36651\u001b[0m\u001b[0;34m:\u001b[0m\u001b[0;34m\u001b[0m\u001b[0;34m\u001b[0m\u001b[0m\n",
            "\u001b[0;32m/usr/local/lib/python3.10/dist-packages/sklearn/feature_extraction/text.py\u001b[0m in \u001b[0;36mfit\u001b[0;34m(self, raw_documents, y)\u001b[0m\n\u001b[1;32m   1337\u001b[0m             \u001b[0mFitted\u001b[0m \u001b[0mvectorizer\u001b[0m\u001b[0;34m.\u001b[0m\u001b[0;34m\u001b[0m\u001b[0;34m\u001b[0m\u001b[0m\n\u001b[1;32m   1338\u001b[0m         \"\"\"\n\u001b[0;32m-> 1339\u001b[0;31m         \u001b[0mself\u001b[0m\u001b[0;34m.\u001b[0m\u001b[0mfit_transform\u001b[0m\u001b[0;34m(\u001b[0m\u001b[0mraw_documents\u001b[0m\u001b[0;34m)\u001b[0m\u001b[0;34m\u001b[0m\u001b[0;34m\u001b[0m\u001b[0m\n\u001b[0m\u001b[1;32m   1340\u001b[0m         \u001b[0;32mreturn\u001b[0m \u001b[0mself\u001b[0m\u001b[0;34m\u001b[0m\u001b[0;34m\u001b[0m\u001b[0m\n\u001b[1;32m   1341\u001b[0m \u001b[0;34m\u001b[0m\u001b[0m\n",
            "\u001b[0;32m/usr/local/lib/python3.10/dist-packages/sklearn/feature_extraction/text.py\u001b[0m in \u001b[0;36mfit_transform\u001b[0;34m(self, raw_documents, y)\u001b[0m\n\u001b[1;32m   1386\u001b[0m                     \u001b[0;32mbreak\u001b[0m\u001b[0;34m\u001b[0m\u001b[0;34m\u001b[0m\u001b[0m\n\u001b[1;32m   1387\u001b[0m \u001b[0;34m\u001b[0m\u001b[0m\n\u001b[0;32m-> 1388\u001b[0;31m         \u001b[0mvocabulary\u001b[0m\u001b[0;34m,\u001b[0m \u001b[0mX\u001b[0m \u001b[0;34m=\u001b[0m \u001b[0mself\u001b[0m\u001b[0;34m.\u001b[0m\u001b[0m_count_vocab\u001b[0m\u001b[0;34m(\u001b[0m\u001b[0mraw_documents\u001b[0m\u001b[0;34m,\u001b[0m \u001b[0mself\u001b[0m\u001b[0;34m.\u001b[0m\u001b[0mfixed_vocabulary_\u001b[0m\u001b[0;34m)\u001b[0m\u001b[0;34m\u001b[0m\u001b[0;34m\u001b[0m\u001b[0m\n\u001b[0m\u001b[1;32m   1389\u001b[0m \u001b[0;34m\u001b[0m\u001b[0m\n\u001b[1;32m   1390\u001b[0m         \u001b[0;32mif\u001b[0m \u001b[0mself\u001b[0m\u001b[0;34m.\u001b[0m\u001b[0mbinary\u001b[0m\u001b[0;34m:\u001b[0m\u001b[0;34m\u001b[0m\u001b[0;34m\u001b[0m\u001b[0m\n",
            "\u001b[0;32m/usr/local/lib/python3.10/dist-packages/sklearn/feature_extraction/text.py\u001b[0m in \u001b[0;36m_count_vocab\u001b[0;34m(self, raw_documents, fixed_vocab)\u001b[0m\n\u001b[1;32m   1273\u001b[0m         \u001b[0;32mfor\u001b[0m \u001b[0mdoc\u001b[0m \u001b[0;32min\u001b[0m \u001b[0mraw_documents\u001b[0m\u001b[0;34m:\u001b[0m\u001b[0;34m\u001b[0m\u001b[0;34m\u001b[0m\u001b[0m\n\u001b[1;32m   1274\u001b[0m             \u001b[0mfeature_counter\u001b[0m \u001b[0;34m=\u001b[0m \u001b[0;34m{\u001b[0m\u001b[0;34m}\u001b[0m\u001b[0;34m\u001b[0m\u001b[0;34m\u001b[0m\u001b[0m\n\u001b[0;32m-> 1275\u001b[0;31m             \u001b[0;32mfor\u001b[0m \u001b[0mfeature\u001b[0m \u001b[0;32min\u001b[0m \u001b[0manalyze\u001b[0m\u001b[0;34m(\u001b[0m\u001b[0mdoc\u001b[0m\u001b[0;34m)\u001b[0m\u001b[0;34m:\u001b[0m\u001b[0;34m\u001b[0m\u001b[0;34m\u001b[0m\u001b[0m\n\u001b[0m\u001b[1;32m   1276\u001b[0m                 \u001b[0;32mtry\u001b[0m\u001b[0;34m:\u001b[0m\u001b[0;34m\u001b[0m\u001b[0;34m\u001b[0m\u001b[0m\n\u001b[1;32m   1277\u001b[0m                     \u001b[0mfeature_idx\u001b[0m \u001b[0;34m=\u001b[0m \u001b[0mvocabulary\u001b[0m\u001b[0;34m[\u001b[0m\u001b[0mfeature\u001b[0m\u001b[0;34m]\u001b[0m\u001b[0;34m\u001b[0m\u001b[0;34m\u001b[0m\u001b[0m\n",
            "\u001b[0;32m/usr/local/lib/python3.10/dist-packages/sklearn/feature_extraction/text.py\u001b[0m in \u001b[0;36m_analyze\u001b[0;34m(doc, analyzer, tokenizer, ngrams, preprocessor, decoder, stop_words)\u001b[0m\n\u001b[1;32m    111\u001b[0m             \u001b[0mdoc\u001b[0m \u001b[0;34m=\u001b[0m \u001b[0mpreprocessor\u001b[0m\u001b[0;34m(\u001b[0m\u001b[0mdoc\u001b[0m\u001b[0;34m)\u001b[0m\u001b[0;34m\u001b[0m\u001b[0;34m\u001b[0m\u001b[0m\n\u001b[1;32m    112\u001b[0m         \u001b[0;32mif\u001b[0m \u001b[0mtokenizer\u001b[0m \u001b[0;32mis\u001b[0m \u001b[0;32mnot\u001b[0m \u001b[0;32mNone\u001b[0m\u001b[0;34m:\u001b[0m\u001b[0;34m\u001b[0m\u001b[0;34m\u001b[0m\u001b[0m\n\u001b[0;32m--> 113\u001b[0;31m             \u001b[0mdoc\u001b[0m \u001b[0;34m=\u001b[0m \u001b[0mtokenizer\u001b[0m\u001b[0;34m(\u001b[0m\u001b[0mdoc\u001b[0m\u001b[0;34m)\u001b[0m\u001b[0;34m\u001b[0m\u001b[0;34m\u001b[0m\u001b[0m\n\u001b[0m\u001b[1;32m    114\u001b[0m         \u001b[0;32mif\u001b[0m \u001b[0mngrams\u001b[0m \u001b[0;32mis\u001b[0m \u001b[0;32mnot\u001b[0m \u001b[0;32mNone\u001b[0m\u001b[0;34m:\u001b[0m\u001b[0;34m\u001b[0m\u001b[0;34m\u001b[0m\u001b[0m\n\u001b[1;32m    115\u001b[0m             \u001b[0;32mif\u001b[0m \u001b[0mstop_words\u001b[0m \u001b[0;32mis\u001b[0m \u001b[0;32mnot\u001b[0m \u001b[0;32mNone\u001b[0m\u001b[0;34m:\u001b[0m\u001b[0;34m\u001b[0m\u001b[0;34m\u001b[0m\u001b[0m\n",
            "\u001b[0;32m<ipython-input-51-5d7ea4962232>\u001b[0m in \u001b[0;36mcustom_stem_tokenizer\u001b[0;34m(text)\u001b[0m\n\u001b[1;32m     16\u001b[0m \u001b[0;34m\u001b[0m\u001b[0m\n\u001b[1;32m     17\u001b[0m     \u001b[0;31m# Удаление стоп-слов, пунктуации, токенов из одного символа, с позицией в таблице Unicode 128 и более и ссылок на t.co\u001b[0m\u001b[0;34m\u001b[0m\u001b[0;34m\u001b[0m\u001b[0m\n\u001b[0;32m---> 18\u001b[0;31m     filtered_tokens = [token for token in stemmed_tokens if not (\n\u001b[0m\u001b[1;32m     19\u001b[0m         \u001b[0mlen\u001b[0m\u001b[0;34m(\u001b[0m\u001b[0mtoken\u001b[0m\u001b[0;34m)\u001b[0m \u001b[0;34m==\u001b[0m \u001b[0;36m1\u001b[0m \u001b[0;32mand\u001b[0m \u001b[0mord\u001b[0m\u001b[0;34m(\u001b[0m\u001b[0mtoken\u001b[0m\u001b[0;34m)\u001b[0m \u001b[0;34m>=\u001b[0m \u001b[0;36m128\u001b[0m \u001b[0;32mor\u001b[0m  \u001b[0;31m# Удаление токенов из одного символа с позицией в таблице Unicode 128 и более\u001b[0m\u001b[0;34m\u001b[0m\u001b[0;34m\u001b[0m\u001b[0m\n\u001b[1;32m     20\u001b[0m         \u001b[0mtoken\u001b[0m \u001b[0;32min\u001b[0m \u001b[0mpunctuation\u001b[0m \u001b[0;32mor\u001b[0m  \u001b[0;31m# Удаление пунктуации\u001b[0m\u001b[0;34m\u001b[0m\u001b[0;34m\u001b[0m\u001b[0m\n",
            "\u001b[0;32m<ipython-input-51-5d7ea4962232>\u001b[0m in \u001b[0;36m<listcomp>\u001b[0;34m(.0)\u001b[0m\n\u001b[1;32m     20\u001b[0m         \u001b[0mtoken\u001b[0m \u001b[0;32min\u001b[0m \u001b[0mpunctuation\u001b[0m \u001b[0;32mor\u001b[0m  \u001b[0;31m# Удаление пунктуации\u001b[0m\u001b[0;34m\u001b[0m\u001b[0;34m\u001b[0m\u001b[0m\n\u001b[1;32m     21\u001b[0m         \u001b[0mtoken\u001b[0m\u001b[0;34m.\u001b[0m\u001b[0mstartswith\u001b[0m\u001b[0;34m(\u001b[0m\u001b[0;34m\"https://t.co/\"\u001b[0m\u001b[0;34m)\u001b[0m \u001b[0;32mor\u001b[0m  \u001b[0;31m# Удаление ссылок на t.co\u001b[0m\u001b[0;34m\u001b[0m\u001b[0;34m\u001b[0m\u001b[0m\n\u001b[0;32m---> 22\u001b[0;31m         \u001b[0mtoken\u001b[0m \u001b[0;32min\u001b[0m \u001b[0mstopwords\u001b[0m\u001b[0;34m.\u001b[0m\u001b[0mwords\u001b[0m\u001b[0;34m(\u001b[0m\u001b[0;34m'english'\u001b[0m\u001b[0;34m)\u001b[0m  \u001b[0;31m# Удаление стоп-слов\u001b[0m\u001b[0;34m\u001b[0m\u001b[0;34m\u001b[0m\u001b[0m\n\u001b[0m\u001b[1;32m     23\u001b[0m     )]\n\u001b[1;32m     24\u001b[0m \u001b[0;34m\u001b[0m\u001b[0m\n",
            "\u001b[0;32m/usr/local/lib/python3.10/dist-packages/nltk/corpus/reader/wordlist.py\u001b[0m in \u001b[0;36mwords\u001b[0;34m(self, fileids, ignore_lines_startswith)\u001b[0m\n\u001b[1;32m     19\u001b[0m         return [\n\u001b[1;32m     20\u001b[0m             \u001b[0mline\u001b[0m\u001b[0;34m\u001b[0m\u001b[0;34m\u001b[0m\u001b[0m\n\u001b[0;32m---> 21\u001b[0;31m             \u001b[0;32mfor\u001b[0m \u001b[0mline\u001b[0m \u001b[0;32min\u001b[0m \u001b[0mline_tokenize\u001b[0m\u001b[0;34m(\u001b[0m\u001b[0mself\u001b[0m\u001b[0;34m.\u001b[0m\u001b[0mraw\u001b[0m\u001b[0;34m(\u001b[0m\u001b[0mfileids\u001b[0m\u001b[0;34m)\u001b[0m\u001b[0;34m)\u001b[0m\u001b[0;34m\u001b[0m\u001b[0;34m\u001b[0m\u001b[0m\n\u001b[0m\u001b[1;32m     22\u001b[0m             \u001b[0;32mif\u001b[0m \u001b[0;32mnot\u001b[0m \u001b[0mline\u001b[0m\u001b[0;34m.\u001b[0m\u001b[0mstartswith\u001b[0m\u001b[0;34m(\u001b[0m\u001b[0mignore_lines_startswith\u001b[0m\u001b[0;34m)\u001b[0m\u001b[0;34m\u001b[0m\u001b[0;34m\u001b[0m\u001b[0m\n\u001b[1;32m     23\u001b[0m         ]\n",
            "\u001b[0;32m/usr/local/lib/python3.10/dist-packages/nltk/corpus/reader/api.py\u001b[0m in \u001b[0;36mraw\u001b[0;34m(self, fileids)\u001b[0m\n\u001b[1;32m    216\u001b[0m         \u001b[0mcontents\u001b[0m \u001b[0;34m=\u001b[0m \u001b[0;34m[\u001b[0m\u001b[0;34m]\u001b[0m\u001b[0;34m\u001b[0m\u001b[0;34m\u001b[0m\u001b[0m\n\u001b[1;32m    217\u001b[0m         \u001b[0;32mfor\u001b[0m \u001b[0mf\u001b[0m \u001b[0;32min\u001b[0m \u001b[0mfileids\u001b[0m\u001b[0;34m:\u001b[0m\u001b[0;34m\u001b[0m\u001b[0;34m\u001b[0m\u001b[0m\n\u001b[0;32m--> 218\u001b[0;31m             \u001b[0;32mwith\u001b[0m \u001b[0mself\u001b[0m\u001b[0;34m.\u001b[0m\u001b[0mopen\u001b[0m\u001b[0;34m(\u001b[0m\u001b[0mf\u001b[0m\u001b[0;34m)\u001b[0m \u001b[0;32mas\u001b[0m \u001b[0mfp\u001b[0m\u001b[0;34m:\u001b[0m\u001b[0;34m\u001b[0m\u001b[0;34m\u001b[0m\u001b[0m\n\u001b[0m\u001b[1;32m    219\u001b[0m                 \u001b[0mcontents\u001b[0m\u001b[0;34m.\u001b[0m\u001b[0mappend\u001b[0m\u001b[0;34m(\u001b[0m\u001b[0mfp\u001b[0m\u001b[0;34m.\u001b[0m\u001b[0mread\u001b[0m\u001b[0;34m(\u001b[0m\u001b[0;34m)\u001b[0m\u001b[0;34m)\u001b[0m\u001b[0;34m\u001b[0m\u001b[0;34m\u001b[0m\u001b[0m\n\u001b[1;32m    220\u001b[0m         \u001b[0;32mreturn\u001b[0m \u001b[0mconcat\u001b[0m\u001b[0;34m(\u001b[0m\u001b[0mcontents\u001b[0m\u001b[0;34m)\u001b[0m\u001b[0;34m\u001b[0m\u001b[0;34m\u001b[0m\u001b[0m\n",
            "\u001b[0;32m/usr/local/lib/python3.10/dist-packages/nltk/corpus/reader/api.py\u001b[0m in \u001b[0;36mopen\u001b[0;34m(self, file)\u001b[0m\n\u001b[1;32m    229\u001b[0m         \"\"\"\n\u001b[1;32m    230\u001b[0m         \u001b[0mencoding\u001b[0m \u001b[0;34m=\u001b[0m \u001b[0mself\u001b[0m\u001b[0;34m.\u001b[0m\u001b[0mencoding\u001b[0m\u001b[0;34m(\u001b[0m\u001b[0mfile\u001b[0m\u001b[0;34m)\u001b[0m\u001b[0;34m\u001b[0m\u001b[0;34m\u001b[0m\u001b[0m\n\u001b[0;32m--> 231\u001b[0;31m         \u001b[0mstream\u001b[0m \u001b[0;34m=\u001b[0m \u001b[0mself\u001b[0m\u001b[0;34m.\u001b[0m\u001b[0m_root\u001b[0m\u001b[0;34m.\u001b[0m\u001b[0mjoin\u001b[0m\u001b[0;34m(\u001b[0m\u001b[0mfile\u001b[0m\u001b[0;34m)\u001b[0m\u001b[0;34m.\u001b[0m\u001b[0mopen\u001b[0m\u001b[0;34m(\u001b[0m\u001b[0mencoding\u001b[0m\u001b[0;34m)\u001b[0m\u001b[0;34m\u001b[0m\u001b[0;34m\u001b[0m\u001b[0m\n\u001b[0m\u001b[1;32m    232\u001b[0m         \u001b[0;32mreturn\u001b[0m \u001b[0mstream\u001b[0m\u001b[0;34m\u001b[0m\u001b[0;34m\u001b[0m\u001b[0m\n\u001b[1;32m    233\u001b[0m \u001b[0;34m\u001b[0m\u001b[0m\n",
            "\u001b[0;32m/usr/local/lib/python3.10/dist-packages/nltk/data.py\u001b[0m in \u001b[0;36mopen\u001b[0;34m(self, encoding)\u001b[0m\n\u001b[1;32m    324\u001b[0m         \u001b[0mstream\u001b[0m \u001b[0;34m=\u001b[0m \u001b[0mopen\u001b[0m\u001b[0;34m(\u001b[0m\u001b[0mself\u001b[0m\u001b[0;34m.\u001b[0m\u001b[0m_path\u001b[0m\u001b[0;34m,\u001b[0m \u001b[0;34m\"rb\"\u001b[0m\u001b[0;34m)\u001b[0m\u001b[0;34m\u001b[0m\u001b[0;34m\u001b[0m\u001b[0m\n\u001b[1;32m    325\u001b[0m         \u001b[0;32mif\u001b[0m \u001b[0mencoding\u001b[0m \u001b[0;32mis\u001b[0m \u001b[0;32mnot\u001b[0m \u001b[0;32mNone\u001b[0m\u001b[0;34m:\u001b[0m\u001b[0;34m\u001b[0m\u001b[0;34m\u001b[0m\u001b[0m\n\u001b[0;32m--> 326\u001b[0;31m             \u001b[0mstream\u001b[0m \u001b[0;34m=\u001b[0m \u001b[0mSeekableUnicodeStreamReader\u001b[0m\u001b[0;34m(\u001b[0m\u001b[0mstream\u001b[0m\u001b[0;34m,\u001b[0m \u001b[0mencoding\u001b[0m\u001b[0;34m)\u001b[0m\u001b[0;34m\u001b[0m\u001b[0;34m\u001b[0m\u001b[0m\n\u001b[0m\u001b[1;32m    327\u001b[0m         \u001b[0;32mreturn\u001b[0m \u001b[0mstream\u001b[0m\u001b[0;34m\u001b[0m\u001b[0;34m\u001b[0m\u001b[0m\n\u001b[1;32m    328\u001b[0m \u001b[0;34m\u001b[0m\u001b[0m\n",
            "\u001b[0;32m/usr/local/lib/python3.10/dist-packages/nltk/compat.py\u001b[0m in \u001b[0;36m_decorator\u001b[0;34m(*args, **kwargs)\u001b[0m\n\u001b[1;32m     39\u001b[0m     \u001b[0;32mdef\u001b[0m \u001b[0m_decorator\u001b[0m\u001b[0;34m(\u001b[0m\u001b[0;34m*\u001b[0m\u001b[0margs\u001b[0m\u001b[0;34m,\u001b[0m \u001b[0;34m**\u001b[0m\u001b[0mkwargs\u001b[0m\u001b[0;34m)\u001b[0m\u001b[0;34m:\u001b[0m\u001b[0;34m\u001b[0m\u001b[0;34m\u001b[0m\u001b[0m\n\u001b[1;32m     40\u001b[0m         \u001b[0margs\u001b[0m \u001b[0;34m=\u001b[0m \u001b[0;34m(\u001b[0m\u001b[0margs\u001b[0m\u001b[0;34m[\u001b[0m\u001b[0;36m0\u001b[0m\u001b[0;34m]\u001b[0m\u001b[0;34m,\u001b[0m \u001b[0madd_py3_data\u001b[0m\u001b[0;34m(\u001b[0m\u001b[0margs\u001b[0m\u001b[0;34m[\u001b[0m\u001b[0;36m1\u001b[0m\u001b[0;34m]\u001b[0m\u001b[0;34m)\u001b[0m\u001b[0;34m)\u001b[0m \u001b[0;34m+\u001b[0m \u001b[0margs\u001b[0m\u001b[0;34m[\u001b[0m\u001b[0;36m2\u001b[0m\u001b[0;34m:\u001b[0m\u001b[0;34m]\u001b[0m\u001b[0;34m\u001b[0m\u001b[0;34m\u001b[0m\u001b[0m\n\u001b[0;32m---> 41\u001b[0;31m         \u001b[0;32mreturn\u001b[0m \u001b[0minit_func\u001b[0m\u001b[0;34m(\u001b[0m\u001b[0;34m*\u001b[0m\u001b[0margs\u001b[0m\u001b[0;34m,\u001b[0m \u001b[0;34m**\u001b[0m\u001b[0mkwargs\u001b[0m\u001b[0;34m)\u001b[0m\u001b[0;34m\u001b[0m\u001b[0;34m\u001b[0m\u001b[0m\n\u001b[0m\u001b[1;32m     42\u001b[0m \u001b[0;34m\u001b[0m\u001b[0m\n\u001b[1;32m     43\u001b[0m     \u001b[0;32mreturn\u001b[0m \u001b[0mwraps\u001b[0m\u001b[0;34m(\u001b[0m\u001b[0minit_func\u001b[0m\u001b[0;34m)\u001b[0m\u001b[0;34m(\u001b[0m\u001b[0m_decorator\u001b[0m\u001b[0;34m)\u001b[0m\u001b[0;34m\u001b[0m\u001b[0;34m\u001b[0m\u001b[0m\n",
            "\u001b[0;32m/usr/local/lib/python3.10/dist-packages/nltk/data.py\u001b[0m in \u001b[0;36m__init__\u001b[0;34m(self, stream, encoding, errors)\u001b[0m\n\u001b[1;32m   1035\u001b[0m            beginning of ``linebuffer`` (which is required by ``tell()``).\"\"\"\n\u001b[1;32m   1036\u001b[0m \u001b[0;34m\u001b[0m\u001b[0m\n\u001b[0;32m-> 1037\u001b[0;31m         \u001b[0mself\u001b[0m\u001b[0;34m.\u001b[0m\u001b[0m_bom\u001b[0m \u001b[0;34m=\u001b[0m \u001b[0mself\u001b[0m\u001b[0;34m.\u001b[0m\u001b[0m_check_bom\u001b[0m\u001b[0;34m(\u001b[0m\u001b[0;34m)\u001b[0m\u001b[0;34m\u001b[0m\u001b[0;34m\u001b[0m\u001b[0m\n\u001b[0m\u001b[1;32m   1038\u001b[0m         \"\"\"The length of the byte order marker at the beginning of\n\u001b[1;32m   1039\u001b[0m            the stream (or None for no byte order marker).\"\"\"\n",
            "\u001b[0;32m/usr/local/lib/python3.10/dist-packages/nltk/data.py\u001b[0m in \u001b[0;36m_check_bom\u001b[0;34m(self)\u001b[0m\n\u001b[1;32m   1401\u001b[0m     \u001b[0;32mdef\u001b[0m \u001b[0m_check_bom\u001b[0m\u001b[0;34m(\u001b[0m\u001b[0mself\u001b[0m\u001b[0;34m)\u001b[0m\u001b[0;34m:\u001b[0m\u001b[0;34m\u001b[0m\u001b[0;34m\u001b[0m\u001b[0m\n\u001b[1;32m   1402\u001b[0m         \u001b[0;31m# Normalize our encoding name\u001b[0m\u001b[0;34m\u001b[0m\u001b[0;34m\u001b[0m\u001b[0m\n\u001b[0;32m-> 1403\u001b[0;31m         \u001b[0menc\u001b[0m \u001b[0;34m=\u001b[0m \u001b[0mre\u001b[0m\u001b[0;34m.\u001b[0m\u001b[0msub\u001b[0m\u001b[0;34m(\u001b[0m\u001b[0;34m\"[ -]\"\u001b[0m\u001b[0;34m,\u001b[0m \u001b[0;34m\"\"\u001b[0m\u001b[0;34m,\u001b[0m \u001b[0mself\u001b[0m\u001b[0;34m.\u001b[0m\u001b[0mencoding\u001b[0m\u001b[0;34m.\u001b[0m\u001b[0mlower\u001b[0m\u001b[0;34m(\u001b[0m\u001b[0;34m)\u001b[0m\u001b[0;34m)\u001b[0m\u001b[0;34m\u001b[0m\u001b[0;34m\u001b[0m\u001b[0m\n\u001b[0m\u001b[1;32m   1404\u001b[0m \u001b[0;34m\u001b[0m\u001b[0m\n\u001b[1;32m   1405\u001b[0m         \u001b[0;31m# Look up our encoding in the BOM table.\u001b[0m\u001b[0;34m\u001b[0m\u001b[0;34m\u001b[0m\u001b[0m\n",
            "\u001b[0;32m/usr/lib/python3.10/re.py\u001b[0m in \u001b[0;36msub\u001b[0;34m(pattern, repl, string, count, flags)\u001b[0m\n\u001b[1;32m    207\u001b[0m     \u001b[0ma\u001b[0m \u001b[0mcallable\u001b[0m\u001b[0;34m,\u001b[0m \u001b[0mit\u001b[0m\u001b[0;31m'\u001b[0m\u001b[0ms\u001b[0m \u001b[0mpassed\u001b[0m \u001b[0mthe\u001b[0m \u001b[0mMatch\u001b[0m \u001b[0mobject\u001b[0m \u001b[0;32mand\u001b[0m \u001b[0mmust\u001b[0m \u001b[0;32mreturn\u001b[0m\u001b[0;34m\u001b[0m\u001b[0;34m\u001b[0m\u001b[0m\n\u001b[1;32m    208\u001b[0m     a replacement string to be used.\"\"\"\n\u001b[0;32m--> 209\u001b[0;31m     \u001b[0;32mreturn\u001b[0m \u001b[0m_compile\u001b[0m\u001b[0;34m(\u001b[0m\u001b[0mpattern\u001b[0m\u001b[0;34m,\u001b[0m \u001b[0mflags\u001b[0m\u001b[0;34m)\u001b[0m\u001b[0;34m.\u001b[0m\u001b[0msub\u001b[0m\u001b[0;34m(\u001b[0m\u001b[0mrepl\u001b[0m\u001b[0;34m,\u001b[0m \u001b[0mstring\u001b[0m\u001b[0;34m,\u001b[0m \u001b[0mcount\u001b[0m\u001b[0;34m)\u001b[0m\u001b[0;34m\u001b[0m\u001b[0;34m\u001b[0m\u001b[0m\n\u001b[0m\u001b[1;32m    210\u001b[0m \u001b[0;34m\u001b[0m\u001b[0m\n\u001b[1;32m    211\u001b[0m \u001b[0;32mdef\u001b[0m \u001b[0msubn\u001b[0m\u001b[0;34m(\u001b[0m\u001b[0mpattern\u001b[0m\u001b[0;34m,\u001b[0m \u001b[0mrepl\u001b[0m\u001b[0;34m,\u001b[0m \u001b[0mstring\u001b[0m\u001b[0;34m,\u001b[0m \u001b[0mcount\u001b[0m\u001b[0;34m=\u001b[0m\u001b[0;36m0\u001b[0m\u001b[0;34m,\u001b[0m \u001b[0mflags\u001b[0m\u001b[0;34m=\u001b[0m\u001b[0;36m0\u001b[0m\u001b[0;34m)\u001b[0m\u001b[0;34m:\u001b[0m\u001b[0;34m\u001b[0m\u001b[0;34m\u001b[0m\u001b[0m\n",
            "\u001b[0;31mKeyboardInterrupt\u001b[0m: "
          ]
        }
      ]
    },
    {
      "cell_type": "code",
      "source": [
        "cv_df = CountVectorizer(tokenizer=custom_stem_tokenizer, max_df=7000).fit(train['OriginalTweet'])\n",
        "\n",
        "print(len(cv_df.vocabulary_))"
      ],
      "metadata": {
        "id": "uHsdAFI7yTzg",
        "colab": {
          "base_uri": "https://localhost:8080/"
        },
        "outputId": "b23ef7a1-ed1c-47f7-da8e-488cb0caea95"
      },
      "execution_count": 62,
      "outputs": [
        {
          "output_type": "stream",
          "name": "stdout",
          "text": [
            "36619\n"
          ]
        }
      ]
    },
    {
      "cell_type": "markdown",
      "source": [
        "у меня получился словарь 36620 (тут на 1 слово меньше)"
      ],
      "metadata": {
        "id": "4qs4W5C2vBkh"
      }
    },
    {
      "cell_type": "markdown",
      "metadata": {
        "id": "_gRIUaB1u32f"
      },
      "source": [
        "Подберите min_df (используйте дефолтное значение max_df) в CountVectorizer таким образом, чтобы размер словаря был 3700 токенов (при использовании токенайзера со стеммингом), а качество осталось таким же, как и было. Что можно сказать о результатах?"
      ]
    },
    {
      "cell_type": "code",
      "execution_count": 63,
      "metadata": {
        "colab": {
          "base_uri": "https://localhost:8080/"
        },
        "id": "kSnMJkn9XmsT",
        "outputId": "17d10281-b3e5-47e3-b792-6773873a20e6"
      },
      "outputs": [
        {
          "output_type": "stream",
          "name": "stdout",
          "text": [
            "3701\n"
          ]
        }
      ],
      "source": [
        "cv_df = CountVectorizer(tokenizer=custom_stem_tokenizer, min_df=11).fit(train['OriginalTweet'])\n",
        "\n",
        "print(len(cv_df.vocabulary_))"
      ]
    },
    {
      "cell_type": "code",
      "source": [
        "# -- YOUR CODE HERE --"
      ],
      "metadata": {
        "id": "mvMDwpdfjm8Y"
      },
      "execution_count": null,
      "outputs": []
    },
    {
      "cell_type": "markdown",
      "metadata": {
        "id": "3fGYpUIZx0fk"
      },
      "source": [
        "**Ответ:** # -- YOUR ANSWER HERE --"
      ]
    },
    {
      "cell_type": "markdown",
      "source": [
        "В предыдущих заданиях признаки не скалировались. Отскалируйте данные (при словаре размера 3.7 тысяч, векторизованные CountVectorizer), обучите логистическую регрессию, посмотрите качество и выведите `berplot` содержащий по 10 токенов, с наибольшим по модулю положительными/отрицательными весами. Что можно сказать об этих токенах?"
      ],
      "metadata": {
        "id": "Gx_h_-inKbBl"
      }
    },
    {
      "cell_type": "code",
      "source": [
        "cv = CountVectorizer(tokenizer=custom_stem_tokenizer, min_df=11)\n",
        "X_train_count = cv.fit_transform(train['OriginalTweet'])\n",
        "\n",
        "scaler = MaxAbsScaler()\n",
        "X_train_scaled = scaler.fit_transform(X_train_count)\n",
        "\n",
        "lr = LogisticRegression(max_iter=1000)\n",
        "lr.fit(X_train_scaled, y_train)\n",
        "\n",
        "X_test_count = cv.transform(test['OriginalTweet'])\n",
        "X_test_scaled = scaler.transform(X_test_count)\n",
        "\n",
        "test_accuracy = accuracy_score(y_test, lr.predict(X_test_scaled))\n",
        "print(\"Точность модели на тестовой выборке:\", test_accuracy)\n",
        "\n",
        "coefficients = lr.coef_[0]\n",
        "feature_names = cv.get_feature_names_out()\n",
        "\n",
        "top_positive_indices = coefficients.argsort()[-10:][::-1]\n",
        "top_negative_indices = coefficients.argsort()[:10]\n",
        "\n",
        "print(\"\\nТоп-10 токенов с наибольшими положительными весами:\")\n",
        "for index in top_positive_indices:\n",
        "    print(feature_names[index])\n",
        "\n",
        "print(\"\\nТоп-10 токенов с наибольшими отрицательными весами:\")\n",
        "for index in top_negative_indices:\n",
        "    print(feature_names[index])"
      ],
      "metadata": {
        "id": "KBATXJX6LG9q",
        "colab": {
          "base_uri": "https://localhost:8080/"
        },
        "outputId": "5fa23f2d-ae8f-49e4-9d59-e7b91ee70669"
      },
      "execution_count": 68,
      "outputs": [
        {
          "output_type": "stream",
          "name": "stderr",
          "text": [
            "/usr/local/lib/python3.10/dist-packages/sklearn/feature_extraction/text.py:528: UserWarning: The parameter 'token_pattern' will not be used since 'tokenizer' is not None'\n",
            "  warnings.warn(\n"
          ]
        },
        {
          "output_type": "stream",
          "name": "stdout",
          "text": [
            "Точность модели на тестовой выборке: 0.8609726928443293\n",
            "\n",
            "Топ-10 токенов с наибольшими положительными весами:\n",
            "thank\n",
            "free\n",
            "hand\n",
            "best\n",
            "pleas\n",
            "like\n",
            "help\n",
            "support\n",
            "posit\n",
            "great\n",
            "\n",
            "Топ-10 токенов с наибольшими отрицательными весами:\n",
            "crisi\n",
            "panic\n",
            "scam\n",
            "kill\n",
            "stop\n",
            "fight\n",
            "sick\n",
            "fuck\n",
            "die\n",
            "fail\n"
          ]
        }
      ]
    },
    {
      "cell_type": "code",
      "source": [
        "import matplotlib.pyplot as plt\n",
        "coefficients = lr.coef_[0]\n",
        "feature_names = cv.get_feature_names_out()\n",
        "top_positive_indices = coefficients.argsort()[-10:][::-1]\n",
        "top_negative_indices = coefficients.argsort()[:10]\n",
        "top_positive_tokens = [feature_names[index] for index in top_positive_indices]\n",
        "top_positive_coefficients = [coefficients[index] for index in top_positive_indices]\n",
        "top_negative_tokens = [feature_names[index] for index in top_negative_indices]\n",
        "top_negative_coefficients = [coefficients[index] for index in top_negative_indices]\n",
        "\n",
        "plt.figure(figsize=(10, 6))\n",
        "plt.subplot(1, 2, 1)\n",
        "plt.barh(top_positive_tokens, top_positive_coefficients, color='green')\n",
        "plt.xlabel('Коэффициенты')\n",
        "plt.ylabel('Токены')\n",
        "plt.title('Топ-10 токенов с наибольшими положительными весами')\n",
        "\n",
        "plt.subplot(1, 2, 2)\n",
        "plt.barh(top_negative_tokens, top_negative_coefficients, color='red')\n",
        "plt.xlabel('Коэффициенты')\n",
        "plt.ylabel('Токены')\n",
        "plt.title('Топ-10 токенов с наибольшими отрицательными весами')\n",
        "\n",
        "plt.tight_layout()\n",
        "plt.show()\n"
      ],
      "metadata": {
        "colab": {
          "base_uri": "https://localhost:8080/",
          "height": 607
        },
        "id": "7O2ou5jAylpB",
        "outputId": "5200c33f-74e9-4249-dc28-f72841af77a4"
      },
      "execution_count": 69,
      "outputs": [
        {
          "output_type": "display_data",
          "data": {
            "text/plain": [
              "<Figure size 1000x600 with 2 Axes>"
            ],
            "image/png": "[encoded data removed]"
          },
          "metadata": {}
        }
      ]
    },
    {
      "cell_type": "markdown",
      "source": [
        "определились достаточно хорошо"
      ],
      "metadata": {
        "id": "b_o7IfUCysaH"
      }
    },
    {
      "cell_type": "markdown",
      "metadata": {
        "id": "ktJVOdrIHq7B"
      },
      "source": [
        "## Задание 7 Другие признаки (1.5 балла)"
      ]
    },
    {
      "cell_type": "markdown",
      "metadata": {
        "id": "Yt3jRCZ2H0Og"
      },
      "source": [
        "Мы были сконцентрированы на работе с текстами твиттов и не использовали другие признаки - имена пользователя, дату и местоположение"
      ]
    },
    {
      "cell_type": "markdown",
      "metadata": {
        "id": "52wjewCCo_di"
      },
      "source": [
        "Изучите признаки UserName и ScreenName. полезны ли они? Если полезны, то закодируйте их, добавьте к матрице с отскалированными признаками, обучите логистическую регрессию, замерьте качество."
      ]
    },
    {
      "cell_type": "code",
      "execution_count": 70,
      "metadata": {
        "id": "63thouYZptj6",
        "colab": {
          "base_uri": "https://localhost:8080/"
        },
        "outputId": "d237eb31-f3d1-4a2c-88e3-a39b785b5092"
      },
      "outputs": [
        {
          "output_type": "stream",
          "name": "stdout",
          "text": [
            "Точность модели на тестовой выборке с учетом признаков UserName и ScreenName: 0.5446481961331473\n"
          ]
        }
      ],
      "source": [
        "from scipy.sparse import hstack\n",
        "\n",
        "user_features = train[['UserName', 'ScreenName']]\n",
        "user_features_encoded = pd.get_dummies(user_features)\n",
        "\n",
        "X_train_combined = hstack([X_train_scaled, user_features_encoded])\n",
        "lr_combined = LogisticRegression(max_iter=1000)\n",
        "lr_combined.fit(X_train_combined, y_train)\n",
        "\n",
        "X_test_user_features_encoded = pd.get_dummies(test[['UserName', 'ScreenName']])\n",
        "X_test_combined = hstack([X_test_scaled, X_test_user_features_encoded])\n",
        "\n",
        "test_accuracy_combined = accuracy_score(y_test, lr_combined.predict(X_test_combined))\n",
        "print(\"Точность модели на тестовой выборке с учетом признаков UserName и ScreenName:\", test_accuracy_combined)\n"
      ]
    },
    {
      "cell_type": "markdown",
      "metadata": {
        "id": "r8_qR-gnpT3a"
      },
      "source": [
        "**Ответ:** точность упала(("
      ]
    },
    {
      "cell_type": "markdown",
      "metadata": {
        "id": "ythEcFSkt7y3"
      },
      "source": [
        "Изучите признак TweetAt в обучающей выборке: преобразуйте его к типу datetime и нарисуйте его гистограмму с разделением по цвету на оспнове целевой переменной. Полезен ли он? Если полезен, то закодируйте его, добавьте к матрице с отскалированными признаками, обучите логистическую регрессию, замерьте качество."
      ]
    },
    {
      "cell_type": "code",
      "source": [
        "from datetime import datetime\n",
        "import seaborn as sns\n",
        "\n",
        "# Преобразуем признак TweetAt к типу datetime с инференцией формата\n",
        "train['TweetAt'] = pd.to_datetime(train['TweetAt'], errors='coerce')\n",
        "\n",
        "train = train.dropna(subset=['TweetAt'])\n",
        "\n",
        "# Создадим два датасета для положительных и отрицательных твиттов\n",
        "positive_tweets = train[train['Sentiment'] == 1]['TweetAt']\n",
        "negative_tweets = train[train['Sentiment'] == 0]['TweetAt']\n",
        "\n",
        "# Построим гистограмму с разделением по цвету\n",
        "plt.figure(figsize=(10, 6))\n",
        "sns.histplot(positive_tweets, color='green', alpha=0.5, bins=50, label='Positive Sentiment')\n",
        "sns.histplot(negative_tweets, color='red', alpha=0.5, bins=50, label='Negative Sentiment')\n",
        "plt.xlabel('Дата твитта')\n",
        "plt.ylabel('Частота')\n",
        "plt.title('Распределение времени публикации твиттов по эмоциональной окраске')\n",
        "plt.legend()\n",
        "plt.show()\n"
      ],
      "metadata": {
        "id": "Lxb_k0JLirNv",
        "colab": {
          "base_uri": "https://localhost:8080/",
          "height": 564
        },
        "outputId": "b7a00003-de29-4b05-c61b-17cd44bac23f"
      },
      "execution_count": 74,
      "outputs": [
        {
          "output_type": "display_data",
          "data": {
            "text/plain": [
              "<Figure size 1000x600 with 1 Axes>"
            ],
            "image/png": "[encoded data removed]"
          },
          "metadata": {}
        }
      ]
    },
    {
      "cell_type": "markdown",
      "metadata": {
        "id": "4IdLBdpQxM-G"
      },
      "source": [
        "**Ответ:** как мы видим, положительных всегда чуть больше, но это нам никак не поможет\n"
      ]
    },
    {
      "cell_type": "markdown",
      "source": [
        "Поработайте с признаком Location в обучающей выборке. Сколько уникальных значений?"
      ],
      "metadata": {
        "id": "r2JtRPhNP6qx"
      }
    },
    {
      "cell_type": "code",
      "source": [
        "unique_locations = train['Location'].nunique()\n",
        "print(\"Количество уникальных значений в столбце Location:\", unique_locations)\n"
      ],
      "metadata": {
        "id": "xYQZQ1FRNpoe",
        "colab": {
          "base_uri": "https://localhost:8080/"
        },
        "outputId": "e9c34a71-d604-48a4-85f5-1e6a92a2491a"
      },
      "execution_count": 75,
      "outputs": [
        {
          "output_type": "stream",
          "name": "stdout",
          "text": [
            "Количество уникальных значений в столбце Location: 3267\n"
          ]
        }
      ]
    },
    {
      "cell_type": "markdown",
      "source": [
        "Постройте гистограмму топ-10 по популярности местоположений (исключая Unknown)"
      ],
      "metadata": {
        "id": "6k4JwpRTQISa"
      }
    },
    {
      "cell_type": "code",
      "source": [
        "# Исключаем значение \"Unknown\" и считаем количество вхождений каждого местоположения\n",
        "top_locations = train[train['Location'] != 'Unknown']['Location'].value_counts().head(10)\n",
        "\n",
        "# Построим гистограмму топ-10 по популярности местоположений\n",
        "plt.figure(figsize=(10, 6))\n",
        "top_locations.plot(kind='bar', color='skyblue')\n",
        "plt.xlabel('Местоположение')\n",
        "plt.ylabel('Частота')\n",
        "plt.title('Топ-10 по популярности местоположений (исключая Unknown)')\n",
        "plt.xticks(rotation=45)\n",
        "plt.show()\n"
      ],
      "metadata": {
        "id": "J91YkhegJ0mz",
        "colab": {
          "base_uri": "https://localhost:8080/",
          "height": 642
        },
        "outputId": "7002ab24-2bcf-4b12-afbf-f1a085d37c02"
      },
      "execution_count": 76,
      "outputs": [
        {
          "output_type": "display_data",
          "data": {
            "text/plain": [
              "<Figure size 1000x600 with 1 Axes>"
            ],
            "image/png": "[encoded data removed]"
          },
          "metadata": {}
        }
      ]
    },
    {
      "cell_type": "markdown",
      "source": [
        "Видно, что многие местоположения включают в себя более точное название места, чем другие (Например, у некоторых стоит London, UK; а у некоторых просто UK или United Kingdom).\n",
        "\n",
        "Создайте новый признак WiderLocation, который содержит самое широкое местоположение (например, из London, UK должно получиться UK). Сколько уникальных категорий теперь? Постройте аналогичную гистограмму."
      ],
      "metadata": {
        "id": "ZOsv3lODTfYB"
      }
    },
    {
      "cell_type": "code",
      "source": [
        "def get_wider_location(location):\n",
        "    locations = location.split(',')\n",
        "    return locations[-1].strip()\n",
        "\n",
        "train['WiderLocation'] = train['Location'].apply(lambda x: get_wider_location(x))\n",
        "unique_wider_locations = train['WiderLocation'].nunique()\n",
        "print(\"Количество уникальных категорий в новом признаке WiderLocation:\", unique_wider_locations)\n",
        "\n",
        "# Построим гистограмму топ-10 по популярности нового признака WiderLocation\n",
        "top_wider_locations = train[train['WiderLocation'] != 'Unknown']['WiderLocation'].value_counts().head(10)\n",
        "plt.figure(figsize=(10, 6))\n",
        "top_wider_locations.plot(kind='bar', color='skyblue')\n",
        "plt.xlabel('Широкое местоположение')\n",
        "plt.ylabel('Частота')\n",
        "plt.title('Топ-10 по популярности широких местоположений (исключая Unknown)')\n",
        "plt.xticks(rotation=45)\n",
        "plt.show()\n"
      ],
      "metadata": {
        "id": "mSkow6acOMyD",
        "colab": {
          "base_uri": "https://localhost:8080/",
          "height": 657
        },
        "outputId": "b5b95c89-9d6d-479e-f209-8914edca69c6"
      },
      "execution_count": 77,
      "outputs": [
        {
          "output_type": "stream",
          "name": "stdout",
          "text": [
            "Количество уникальных категорий в новом признаке WiderLocation: 1910\n"
          ]
        },
        {
          "output_type": "display_data",
          "data": {
            "text/plain": [
              "<Figure size 1000x600 with 1 Axes>"
            ],
            "image/png": "[encoded data removed]"
          },
          "metadata": {}
        }
      ]
    },
    {
      "cell_type": "markdown",
      "source": [
        "Закодируйте признак WiderLocation с помощью OHE таким образом, чтобы создались только столбцы для местоположений, которые встречаются более одного раза. Сколько таких значений?\n"
      ],
      "metadata": {
        "id": "cgyWrD2eVfff"
      }
    },
    {
      "cell_type": "code",
      "source": [
        "from sklearn.preprocessing import OneHotEncoder\n",
        "\n",
        "location_counts = train['WiderLocation'].value_counts()\n",
        "common_locations = location_counts[location_counts > 1].index.tolist()\n",
        "filtered_train = train[train['WiderLocation'].isin(common_locations)]\n",
        "\n",
        "# Применение One-Hot Encoding к отфильтрованным местоположениям\n",
        "encoder = OneHotEncoder(sparse=False)\n",
        "encoded_locations = encoder.fit_transform(filtered_train[['WiderLocation']])\n",
        "unique_filtered_locations = len(common_locations)\n",
        "print(\"Количество уникальных значений после фильтрации:\", unique_filtered_locations)\n"
      ],
      "metadata": {
        "id": "SeJBfBWgPvg_",
        "colab": {
          "base_uri": "https://localhost:8080/"
        },
        "outputId": "b7d57a38-7439-4f2d-f404-8b41ab23958a"
      },
      "execution_count": 78,
      "outputs": [
        {
          "output_type": "stream",
          "name": "stdout",
          "text": [
            "Количество уникальных значений после фильтрации: 432\n"
          ]
        },
        {
          "output_type": "stream",
          "name": "stderr",
          "text": [
            "/usr/local/lib/python3.10/dist-packages/sklearn/preprocessing/_encoders.py:868: FutureWarning: `sparse` was renamed to `sparse_output` in version 1.2 and will be removed in 1.4. `sparse_output` is ignored unless you leave `sparse` to its default value.\n",
            "  warnings.warn(\n"
          ]
        }
      ]
    },
    {
      "cell_type": "markdown",
      "source": [
        "Добавьте этот признак к матрице отскалированных текстовых признаков, обучите логистическую регрессию, замерьте качество. Как оно изменилось? Оказался ли признак полезным?\n",
        "\n",
        "\n",
        "*Подсказка:* используйте параметр `categories` в энкодере."
      ],
      "metadata": {
        "id": "ZyMX5kZuimPK"
      }
    },
    {
      "cell_type": "code",
      "source": [
        "train['WiderLocation'] = train['Location'].apply(lambda x: x.split(',')[-1].strip() if x != 'Unknown' else x)\n",
        "\n",
        "\n",
        "all_locations = np.unique(np.concatenate([train['WiderLocation'], test['WiderLocation']]))\n",
        "\n",
        "# Преобразование признака местоположения в разреженную матрицу с учетом всех категорий\n",
        "encoder = OneHotEncoder(categories=[all_locations], handle_unknown='ignore')\n",
        "encoded_locations = encoder.fit_transform(train['WiderLocation'].values.reshape(-1, 1))\n",
        "\n",
        "# Объединение текстовых признаков с закодированным признаком местоположения\n",
        "X_train_combined = hstack([X_train_scaled, encoded_locations])\n",
        "\n",
        "log_reg = LogisticRegression(max_iter=1000)\n",
        "log_reg.fit(X_train_combined, y_train)\n",
        "test['WiderLocation'] = test['Location'].apply(lambda x: x.split(',')[-1].strip() if x != 'Unknown' else x)\n",
        "test_locations = test['WiderLocation'].apply(lambda x: x if x in all_locations else 'Other')\n",
        "test_encoded_locations = encoder.transform(test_locations.values.reshape(-1, 1))\n",
        "\n",
        "# Объединение текстовых признаков тестовых данных с закодированным признаком местоположения\n",
        "X_test_combined = hstack([X_test_scaled, test_encoded_locations])\n",
        "\n",
        "accuracy_combined = log_reg.score(X_test_combined, y_test)\n",
        "print(\"Точность модели после добавления признака местоположения:\", accuracy_combined)\n"
      ],
      "metadata": {
        "id": "EO1jNPeeim7A",
        "colab": {
          "base_uri": "https://localhost:8080/",
          "height": 499
        },
        "outputId": "88634e10-306d-4ebf-9ade-deea8ff77541"
      },
      "execution_count": 90,
      "outputs": [
        {
          "output_type": "error",
          "ename": "KeyError",
          "evalue": "'WiderLocation'",
          "traceback": [
            "\u001b[0;31m---------------------------------------------------------------------------\u001b[0m",
            "\u001b[0;31mKeyError\u001b[0m                                  Traceback (most recent call last)",
            "\u001b[0;32m/usr/local/lib/python3.10/dist-packages/pandas/core/indexes/base.py\u001b[0m in \u001b[0;36mget_loc\u001b[0;34m(self, key)\u001b[0m\n\u001b[1;32m   3652\u001b[0m         \u001b[0;32mtry\u001b[0m\u001b[0;34m:\u001b[0m\u001b[0;34m\u001b[0m\u001b[0;34m\u001b[0m\u001b[0m\n\u001b[0;32m-> 3653\u001b[0;31m             \u001b[0;32mreturn\u001b[0m \u001b[0mself\u001b[0m\u001b[0;34m.\u001b[0m\u001b[0m_engine\u001b[0m\u001b[0;34m.\u001b[0m\u001b[0mget_loc\u001b[0m\u001b[0;34m(\u001b[0m\u001b[0mcasted_key\u001b[0m\u001b[0;34m)\u001b[0m\u001b[0;34m\u001b[0m\u001b[0;34m\u001b[0m\u001b[0m\n\u001b[0m\u001b[1;32m   3654\u001b[0m         \u001b[0;32mexcept\u001b[0m \u001b[0mKeyError\u001b[0m \u001b[0;32mas\u001b[0m \u001b[0merr\u001b[0m\u001b[0;34m:\u001b[0m\u001b[0;34m\u001b[0m\u001b[0;34m\u001b[0m\u001b[0m\n",
            "\u001b[0;32m/usr/local/lib/python3.10/dist-packages/pandas/_libs/index.pyx\u001b[0m in \u001b[0;36mpandas._libs.index.IndexEngine.get_loc\u001b[0;34m()\u001b[0m\n",
            "\u001b[0;32m/usr/local/lib/python3.10/dist-packages/pandas/_libs/index.pyx\u001b[0m in \u001b[0;36mpandas._libs.index.IndexEngine.get_loc\u001b[0;34m()\u001b[0m\n",
            "\u001b[0;32mpandas/_libs/hashtable_class_helper.pxi\u001b[0m in \u001b[0;36mpandas._libs.hashtable.PyObjectHashTable.get_item\u001b[0;34m()\u001b[0m\n",
            "\u001b[0;32mpandas/_libs/hashtable_class_helper.pxi\u001b[0m in \u001b[0;36mpandas._libs.hashtable.PyObjectHashTable.get_item\u001b[0;34m()\u001b[0m\n",
            "\u001b[0;31mKeyError\u001b[0m: 'WiderLocation'",
            "\nThe above exception was the direct cause of the following exception:\n",
            "\u001b[0;31mKeyError\u001b[0m                                  Traceback (most recent call last)",
            "\u001b[0;32m<ipython-input-90-9447ece4565e>\u001b[0m in \u001b[0;36m<cell line: 5>\u001b[0;34m()\u001b[0m\n\u001b[1;32m      3\u001b[0m \u001b[0;34m\u001b[0m\u001b[0m\n\u001b[1;32m      4\u001b[0m \u001b[0;31m# Получение списка всех уникальных категорий местоположений из обучающего и тестового наборов данных\u001b[0m\u001b[0;34m\u001b[0m\u001b[0;34m\u001b[0m\u001b[0m\n\u001b[0;32m----> 5\u001b[0;31m \u001b[0mall_locations\u001b[0m \u001b[0;34m=\u001b[0m \u001b[0mnp\u001b[0m\u001b[0;34m.\u001b[0m\u001b[0munique\u001b[0m\u001b[0;34m(\u001b[0m\u001b[0mnp\u001b[0m\u001b[0;34m.\u001b[0m\u001b[0mconcatenate\u001b[0m\u001b[0;34m(\u001b[0m\u001b[0;34m[\u001b[0m\u001b[0mtrain\u001b[0m\u001b[0;34m[\u001b[0m\u001b[0;34m'WiderLocation'\u001b[0m\u001b[0;34m]\u001b[0m\u001b[0;34m,\u001b[0m \u001b[0mtest\u001b[0m\u001b[0;34m[\u001b[0m\u001b[0;34m'WiderLocation'\u001b[0m\u001b[0;34m]\u001b[0m\u001b[0;34m]\u001b[0m\u001b[0;34m)\u001b[0m\u001b[0;34m)\u001b[0m\u001b[0;34m\u001b[0m\u001b[0;34m\u001b[0m\u001b[0m\n\u001b[0m\u001b[1;32m      6\u001b[0m \u001b[0;34m\u001b[0m\u001b[0m\n\u001b[1;32m      7\u001b[0m \u001b[0;31m# Преобразование признака местоположения в разреженную матрицу с учетом всех категорий\u001b[0m\u001b[0;34m\u001b[0m\u001b[0;34m\u001b[0m\u001b[0m\n",
            "\u001b[0;32m/usr/local/lib/python3.10/dist-packages/pandas/core/frame.py\u001b[0m in \u001b[0;36m__getitem__\u001b[0;34m(self, key)\u001b[0m\n\u001b[1;32m   3759\u001b[0m             \u001b[0;32mif\u001b[0m \u001b[0mself\u001b[0m\u001b[0;34m.\u001b[0m\u001b[0mcolumns\u001b[0m\u001b[0;34m.\u001b[0m\u001b[0mnlevels\u001b[0m \u001b[0;34m>\u001b[0m \u001b[0;36m1\u001b[0m\u001b[0;34m:\u001b[0m\u001b[0;34m\u001b[0m\u001b[0;34m\u001b[0m\u001b[0m\n\u001b[1;32m   3760\u001b[0m                 \u001b[0;32mreturn\u001b[0m \u001b[0mself\u001b[0m\u001b[0;34m.\u001b[0m\u001b[0m_getitem_multilevel\u001b[0m\u001b[0;34m(\u001b[0m\u001b[0mkey\u001b[0m\u001b[0;34m)\u001b[0m\u001b[0;34m\u001b[0m\u001b[0;34m\u001b[0m\u001b[0m\n\u001b[0;32m-> 3761\u001b[0;31m             \u001b[0mindexer\u001b[0m \u001b[0;34m=\u001b[0m \u001b[0mself\u001b[0m\u001b[0;34m.\u001b[0m\u001b[0mcolumns\u001b[0m\u001b[0;34m.\u001b[0m\u001b[0mget_loc\u001b[0m\u001b[0;34m(\u001b[0m\u001b[0mkey\u001b[0m\u001b[0;34m)\u001b[0m\u001b[0;34m\u001b[0m\u001b[0;34m\u001b[0m\u001b[0m\n\u001b[0m\u001b[1;32m   3762\u001b[0m             \u001b[0;32mif\u001b[0m \u001b[0mis_integer\u001b[0m\u001b[0;34m(\u001b[0m\u001b[0mindexer\u001b[0m\u001b[0;34m)\u001b[0m\u001b[0;34m:\u001b[0m\u001b[0;34m\u001b[0m\u001b[0;34m\u001b[0m\u001b[0m\n\u001b[1;32m   3763\u001b[0m                 \u001b[0mindexer\u001b[0m \u001b[0;34m=\u001b[0m \u001b[0;34m[\u001b[0m\u001b[0mindexer\u001b[0m\u001b[0;34m]\u001b[0m\u001b[0;34m\u001b[0m\u001b[0;34m\u001b[0m\u001b[0m\n",
            "\u001b[0;32m/usr/local/lib/python3.10/dist-packages/pandas/core/indexes/base.py\u001b[0m in \u001b[0;36mget_loc\u001b[0;34m(self, key)\u001b[0m\n\u001b[1;32m   3653\u001b[0m             \u001b[0;32mreturn\u001b[0m \u001b[0mself\u001b[0m\u001b[0;34m.\u001b[0m\u001b[0m_engine\u001b[0m\u001b[0;34m.\u001b[0m\u001b[0mget_loc\u001b[0m\u001b[0;34m(\u001b[0m\u001b[0mcasted_key\u001b[0m\u001b[0;34m)\u001b[0m\u001b[0;34m\u001b[0m\u001b[0;34m\u001b[0m\u001b[0m\n\u001b[1;32m   3654\u001b[0m         \u001b[0;32mexcept\u001b[0m \u001b[0mKeyError\u001b[0m \u001b[0;32mas\u001b[0m \u001b[0merr\u001b[0m\u001b[0;34m:\u001b[0m\u001b[0;34m\u001b[0m\u001b[0;34m\u001b[0m\u001b[0m\n\u001b[0;32m-> 3655\u001b[0;31m             \u001b[0;32mraise\u001b[0m \u001b[0mKeyError\u001b[0m\u001b[0;34m(\u001b[0m\u001b[0mkey\u001b[0m\u001b[0;34m)\u001b[0m \u001b[0;32mfrom\u001b[0m \u001b[0merr\u001b[0m\u001b[0;34m\u001b[0m\u001b[0;34m\u001b[0m\u001b[0m\n\u001b[0m\u001b[1;32m   3656\u001b[0m         \u001b[0;32mexcept\u001b[0m \u001b[0mTypeError\u001b[0m\u001b[0;34m:\u001b[0m\u001b[0;34m\u001b[0m\u001b[0;34m\u001b[0m\u001b[0m\n\u001b[1;32m   3657\u001b[0m             \u001b[0;31m# If we have a listlike key, _check_indexing_error will raise\u001b[0m\u001b[0;34m\u001b[0m\u001b[0;34m\u001b[0m\u001b[0m\n",
            "\u001b[0;31mKeyError\u001b[0m: 'WiderLocation'"
          ]
        }
      ]
    },
    {
      "cell_type": "markdown",
      "source": [
        "**Ответ:** # -- YOUR ANSWER HERE --"
      ],
      "metadata": {
        "id": "7dHsGlDRYUQt"
      }
    },
    {
      "cell_type": "markdown",
      "source": [
        "## Задание 8 Хорошее качество (Бонус 1 балл)"
      ],
      "metadata": {
        "id": "IWn6h4W9eD3S"
      }
    },
    {
      "cell_type": "markdown",
      "source": [
        "Добейтесь accuracy=0.9 на тестовой выборке (можно сменить токенайзер, векторайзер, модель и т.д.)"
      ],
      "metadata": {
        "id": "-HDI0SU6eLgi"
      }
    },
    {
      "cell_type": "code",
      "source": [
        "from sklearn.ensemble import GradientBoostingClassifier\n",
        "from sklearn.model_selection import GridSearchCV\n",
        "\n",
        "# Создание модели градиентного бустинга\n",
        "gb_clf = GradientBoostingClassifier()\n",
        "\n",
        "# Подбор оптимальных параметров с помощью кросс-валидации\n",
        "param_grid = {\n",
        "    'n_estimators': [50, 100, 200],\n",
        "    'learning_rate': [0.01, 0.1, 0.5],\n",
        "    'max_depth': [3, 5, 7]\n",
        "}\n",
        "grid_search = GridSearchCV(gb_clf, param_grid, cv=5, scoring='accuracy', n_jobs=-1)\n",
        "grid_search.fit(X_train_combined, y_train)\n",
        "\n",
        "best_params = grid_search.best_params_\n",
        "print(\"Лучшие параметры:\", best_params)\n",
        "\n",
        "best_model = grid_search.best_estimator_\n",
        "accuracy_test = best_model.score(X_test_combined, y_test)\n",
        "print(\"Точность на тестовой выборке:\", accuracy_test)\n"
      ],
      "metadata": {
        "id": "k3WMbE8edhlW",
        "colab": {
          "base_uri": "https://localhost:8080/"
        },
        "outputId": "f9687580-a018-42a6-9e4f-b18c3a9d43da"
      },
      "execution_count": 91,
      "outputs": [
        {
          "output_type": "stream",
          "name": "stdout",
          "text": [
            "Лучшие параметры: {'learning_rate': 0.5, 'max_depth': 7, 'n_estimators': 200}\n",
            "Точность на тестовой выборке: 0.8586804863464221\n"
          ]
        }
      ]
    }
  ],
  "metadata": {
    "colab": {
      "provenance": [],
      "toc_visible": true
    },
    "kernelspec": {
      "display_name": "Python 3",
      "name": "python3"
    },
    "language_info": {
      "name": "python"
    }
  },
  "nbformat": 4,
  "nbformat_minor": 0
}