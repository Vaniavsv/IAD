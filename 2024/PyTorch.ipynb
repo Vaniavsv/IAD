{
  "cells": [
    {
      "cell_type": "markdown",
      "metadata": {
        "id": "Q_upCOEI3Upu"
      },
      "source": [
        "# Основы глубинного обучения, майнор ИАД\n",
        "\n",
        "## Домашнее задание 1. Введение в PyTorch. Полносвязные нейронные сети.\n",
        "\n",
        "### Общая информация\n",
        "\n",
        "Дата выдачи: 07.10.2023\n",
        "\n",
        "Мягкий дедлайн: 23:59MSK 20.10.2023\n",
        "\n",
        "Жесткий дедлайн: 23:59MSK 24.10.2023\n",
        "\n",
        "### Оценивание и штрафы\n",
        "Максимально допустимая оценка за работу — 10 баллов. За каждый день просрочки снимается 1 балл. Сдавать задание после жёсткого дедлайна сдачи нельзя.\n",
        "\n",
        "Задание выполняется самостоятельно. «Похожие» решения считаются плагиатом и все задействованные студенты (в том числе те, у кого списали) не могут получить за него больше 0 баллов. Если вы нашли решение какого-то из заданий (или его часть) в открытом источнике, необходимо указать ссылку на этот источник в отдельном блоке в конце вашей работы (скорее всего вы будете не единственным, кто это нашел, поэтому чтобы исключить подозрение в плагиате, необходима ссылка на источник).\n",
        "\n",
        "Неэффективная реализация кода может негативно отразиться на оценке.\n",
        "Также оценка может быть снижена за плохо читаемый код и плохо оформленные графики. Все ответы должны сопровождаться кодом или комментариями о том, как они были получены.\n",
        "\n",
        "Итогова оценка считается как\n",
        "$$\n",
        "min(task_1, task_2)*0.6 + max(task_1, task_2)*0.2 + task_4*0.2\n",
        "$$\n",
        "\n",
        "где $task_1$, $task_2$ и $task_4$ - оценки за первое и второе заданиее соответсвенно.\n",
        "Также, за домашнее задание выставляется 0, если не сделано нулевое или третье задание.\n",
        "### О задании\n",
        "\n",
        "В этом задании вам предстоит предсказывать год выпуска песни (**задача регрессии**) по некоторым звуковым признакам: [данные](https://archive.ics.uci.edu/ml/datasets/yearpredictionmsd). В ячейках ниже находится код для загрузки данных. Обратите внимание, что обучающая и тестовая выборки располагаются в одном файле, поэтому НЕ меняйте ячейку, в которой производится деление данных."
      ]
    },
    {
      "cell_type": "code",
      "execution_count": 1,
      "metadata": {
        "id": "RI_eoe063VaP"
      },
      "outputs": [],
      "source": [
        "import torch\n",
        "from torch import nn\n",
        "import torch.nn.functional as F\n",
        "import pandas as pd\n",
        "import numpy as np\n",
        "import random\n",
        "device = \"cuda\" if torch.cuda.is_available() else \"cpu\"\n",
        "from tqdm.notebook import tqdm\n",
        "from IPython.display import clear_output\n",
        "import matplotlib.pyplot as plt"
      ]
    },
    {
      "cell_type": "code",
      "execution_count": 2,
      "metadata": {
        "colab": {
          "base_uri": "https://localhost:8080/"
        },
        "id": "7NgSZeU-7vgj",
        "outputId": "bfcbbff8-8cc4-4cb4-86ae-c6ba5bbb8c02"
      },
      "outputs": [
        {
          "output_type": "stream",
          "name": "stdout",
          "text": [
            "--2024-10-20 07:01:12--  https://archive.ics.uci.edu/ml/machine-learning-databases/00203/YearPredictionMSD.txt.zip\n",
            "Resolving archive.ics.uci.edu (archive.ics.uci.edu)... 128.195.10.252\n",
            "Connecting to archive.ics.uci.edu (archive.ics.uci.edu)|128.195.10.252|:443... connected.\n",
            "HTTP request sent, awaiting response... 200 OK\n",
            "Length: unspecified\n",
            "Saving to: ‘data.txt.zip’\n",
            "\n",
            "data.txt.zip            [              <=>   ] 201.24M  55.0MB/s    in 3.9s    \n",
            "\n",
            "2024-10-20 07:01:16 (51.1 MB/s) - ‘data.txt.zip’ saved [211011981]\n",
            "\n"
          ]
        }
      ],
      "source": [
        "!wget -O data.txt.zip https://archive.ics.uci.edu/ml/machine-learning-databases/00203/YearPredictionMSD.txt.zip"
      ]
    },
    {
      "cell_type": "code",
      "execution_count": 3,
      "metadata": {
        "id": "DSVJZzkJ7zZE",
        "outputId": "339a840f-d466-469a-91e3-fae19adcda66",
        "scrolled": false,
        "colab": {
          "base_uri": "https://localhost:8080/",
          "height": 255
        }
      },
      "outputs": [
        {
          "output_type": "execute_result",
          "data": {
            "text/plain": [
              "     0         1         2         3         4         5         6         7   \\\n",
              "0  2001  49.94357  21.47114  73.07750   8.74861 -17.40628 -13.09905 -25.01202   \n",
              "1  2001  48.73215  18.42930  70.32679  12.94636 -10.32437 -24.83777   8.76630   \n",
              "2  2001  50.95714  31.85602  55.81851  13.41693  -6.57898 -18.54940  -3.27872   \n",
              "3  2001  48.24750  -1.89837  36.29772   2.58776   0.97170 -26.21683   5.05097   \n",
              "4  2001  50.97020  42.20998  67.09964   8.46791 -15.85279 -16.81409 -12.48207   \n",
              "\n",
              "         8         9   ...        81         82        83        84        85  \\\n",
              "0 -12.23257   7.83089  ...  13.01620  -54.40548  58.99367  15.37344   1.11144   \n",
              "1  -0.92019  18.76548  ...   5.66812  -19.68073  33.04964  42.87836  -9.90378   \n",
              "2  -2.35035  16.07017  ...   3.03800   26.05866 -50.92779  10.93792  -0.07568   \n",
              "3 -10.34124   3.55005  ...  34.57337 -171.70734 -16.96705 -46.67617 -12.51516   \n",
              "4  -9.37636  12.63699  ...   9.92661  -55.95724  64.92712 -17.72522  -1.49237   \n",
              "\n",
              "         86         87        88         89        90  \n",
              "0 -23.08793   68.40795  -1.82223  -27.46348   2.26327  \n",
              "1 -32.22788   70.49388  12.04941   58.43453  26.92061  \n",
              "2  43.20130 -115.00698  -0.05859   39.67068  -0.66345  \n",
              "3  82.58061  -72.08993   9.90558  199.62971  18.85382  \n",
              "4  -7.50035   51.76631   7.88713   55.66926  28.74903  \n",
              "\n",
              "[5 rows x 91 columns]"
            ],
            "text/html": [
              "\n",
              "  <div id=\"df-ea4cbdc5-ce31-4267-ac7f-e1bab596c011\" class=\"colab-df-container\">\n",
              "    <div>\n",
              "<style scoped>\n",
              "    .dataframe tbody tr th:only-of-type {\n",
              "        vertical-align: middle;\n",
              "    }\n",
              "\n",
              "    .dataframe tbody tr th {\n",
              "        vertical-align: top;\n",
              "    }\n",
              "\n",
              "    .dataframe thead th {\n",
              "        text-align: right;\n",
              "    }\n",
              "</style>\n",
              "<table border=\"1\" class=\"dataframe\">\n",
              "  <thead>\n",
              "    <tr style=\"text-align: right;\">\n",
              "      <th></th>\n",
              "      <th>0</th>\n",
              "      <th>1</th>\n",
              "      <th>2</th>\n",
              "      <th>3</th>\n",
              "      <th>4</th>\n",
              "      <th>5</th>\n",
              "      <th>6</th>\n",
              "      <th>7</th>\n",
              "      <th>8</th>\n",
              "      <th>9</th>\n",
              "      <th>...</th>\n",
              "      <th>81</th>\n",
              "      <th>82</th>\n",
              "      <th>83</th>\n",
              "      <th>84</th>\n",
              "      <th>85</th>\n",
              "      <th>86</th>\n",
              "      <th>87</th>\n",
              "      <th>88</th>\n",
              "      <th>89</th>\n",
              "      <th>90</th>\n",
              "    </tr>\n",
              "  </thead>\n",
              "  <tbody>\n",
              "    <tr>\n",
              "      <th>0</th>\n",
              "      <td>2001</td>\n",
              "      <td>49.94357</td>\n",
              "      <td>21.47114</td>\n",
              "      <td>73.07750</td>\n",
              "      <td>8.74861</td>\n",
              "      <td>-17.40628</td>\n",
              "      <td>-13.09905</td>\n",
              "      <td>-25.01202</td>\n",
              "      <td>-12.23257</td>\n",
              "      <td>7.83089</td>\n",
              "      <td>...</td>\n",
              "      <td>13.01620</td>\n",
              "      <td>-54.40548</td>\n",
              "      <td>58.99367</td>\n",
              "      <td>15.37344</td>\n",
              "      <td>1.11144</td>\n",
              "      <td>-23.08793</td>\n",
              "      <td>68.40795</td>\n",
              "      <td>-1.82223</td>\n",
              "      <td>-27.46348</td>\n",
              "      <td>2.26327</td>\n",
              "    </tr>\n",
              "    <tr>\n",
              "      <th>1</th>\n",
              "      <td>2001</td>\n",
              "      <td>48.73215</td>\n",
              "      <td>18.42930</td>\n",
              "      <td>70.32679</td>\n",
              "      <td>12.94636</td>\n",
              "      <td>-10.32437</td>\n",
              "      <td>-24.83777</td>\n",
              "      <td>8.76630</td>\n",
              "      <td>-0.92019</td>\n",
              "      <td>18.76548</td>\n",
              "      <td>...</td>\n",
              "      <td>5.66812</td>\n",
              "      <td>-19.68073</td>\n",
              "      <td>33.04964</td>\n",
              "      <td>42.87836</td>\n",
              "      <td>-9.90378</td>\n",
              "      <td>-32.22788</td>\n",
              "      <td>70.49388</td>\n",
              "      <td>12.04941</td>\n",
              "      <td>58.43453</td>\n",
              "      <td>26.92061</td>\n",
              "    </tr>\n",
              "    <tr>\n",
              "      <th>2</th>\n",
              "      <td>2001</td>\n",
              "      <td>50.95714</td>\n",
              "      <td>31.85602</td>\n",
              "      <td>55.81851</td>\n",
              "      <td>13.41693</td>\n",
              "      <td>-6.57898</td>\n",
              "      <td>-18.54940</td>\n",
              "      <td>-3.27872</td>\n",
              "      <td>-2.35035</td>\n",
              "      <td>16.07017</td>\n",
              "      <td>...</td>\n",
              "      <td>3.03800</td>\n",
              "      <td>26.05866</td>\n",
              "      <td>-50.92779</td>\n",
              "      <td>10.93792</td>\n",
              "      <td>-0.07568</td>\n",
              "      <td>43.20130</td>\n",
              "      <td>-115.00698</td>\n",
              "      <td>-0.05859</td>\n",
              "      <td>39.67068</td>\n",
              "      <td>-0.66345</td>\n",
              "    </tr>\n",
              "    <tr>\n",
              "      <th>3</th>\n",
              "      <td>2001</td>\n",
              "      <td>48.24750</td>\n",
              "      <td>-1.89837</td>\n",
              "      <td>36.29772</td>\n",
              "      <td>2.58776</td>\n",
              "      <td>0.97170</td>\n",
              "      <td>-26.21683</td>\n",
              "      <td>5.05097</td>\n",
              "      <td>-10.34124</td>\n",
              "      <td>3.55005</td>\n",
              "      <td>...</td>\n",
              "      <td>34.57337</td>\n",
              "      <td>-171.70734</td>\n",
              "      <td>-16.96705</td>\n",
              "      <td>-46.67617</td>\n",
              "      <td>-12.51516</td>\n",
              "      <td>82.58061</td>\n",
              "      <td>-72.08993</td>\n",
              "      <td>9.90558</td>\n",
              "      <td>199.62971</td>\n",
              "      <td>18.85382</td>\n",
              "    </tr>\n",
              "    <tr>\n",
              "      <th>4</th>\n",
              "      <td>2001</td>\n",
              "      <td>50.97020</td>\n",
              "      <td>42.20998</td>\n",
              "      <td>67.09964</td>\n",
              "      <td>8.46791</td>\n",
              "      <td>-15.85279</td>\n",
              "      <td>-16.81409</td>\n",
              "      <td>-12.48207</td>\n",
              "      <td>-9.37636</td>\n",
              "      <td>12.63699</td>\n",
              "      <td>...</td>\n",
              "      <td>9.92661</td>\n",
              "      <td>-55.95724</td>\n",
              "      <td>64.92712</td>\n",
              "      <td>-17.72522</td>\n",
              "      <td>-1.49237</td>\n",
              "      <td>-7.50035</td>\n",
              "      <td>51.76631</td>\n",
              "      <td>7.88713</td>\n",
              "      <td>55.66926</td>\n",
              "      <td>28.74903</td>\n",
              "    </tr>\n",
              "  </tbody>\n",
              "</table>\n",
              "<p>5 rows × 91 columns</p>\n",
              "</div>\n",
              "    <div class=\"colab-df-buttons\">\n",
              "\n",
              "  <div class=\"colab-df-container\">\n",
              "    <button class=\"colab-df-convert\" onclick=\"convertToInteractive('df-ea4cbdc5-ce31-4267-ac7f-e1bab596c011')\"\n",
              "            title=\"Convert this dataframe to an interactive table.\"\n",
              "            style=\"display:none;\">\n",
              "\n",
              "  <svg xmlns=\"http://www.w3.org/2000/svg\" height=\"24px\" viewBox=\"0 -960 960 960\">\n",
              "    <path d=\"M120-120v-720h720v720H120Zm60-500h600v-160H180v160Zm220 220h160v-160H400v160Zm0 220h160v-160H400v160ZM180-400h160v-160H180v160Zm440 0h160v-160H620v160ZM180-180h160v-160H180v160Zm440 0h160v-160H620v160Z\"/>\n",
              "  </svg>\n",
              "    </button>\n",
              "\n",
              "  <style>\n",
              "    .colab-df-container {\n",
              "      display:flex;\n",
              "      gap: 12px;\n",
              "    }\n",
              "\n",
              "    .colab-df-convert {\n",
              "      background-color: #E8F0FE;\n",
              "      border: none;\n",
              "      border-radius: 50%;\n",
              "      cursor: pointer;\n",
              "      display: none;\n",
              "      fill: #1967D2;\n",
              "      height: 32px;\n",
              "      padding: 0 0 0 0;\n",
              "      width: 32px;\n",
              "    }\n",
              "\n",
              "    .colab-df-convert:hover {\n",
              "      background-color: #E2EBFA;\n",
              "      box-shadow: 0px 1px 2px rgba(60, 64, 67, 0.3), 0px 1px 3px 1px rgba(60, 64, 67, 0.15);\n",
              "      fill: #174EA6;\n",
              "    }\n",
              "\n",
              "    .colab-df-buttons div {\n",
              "      margin-bottom: 4px;\n",
              "    }\n",
              "\n",
              "    [theme=dark] .colab-df-convert {\n",
              "      background-color: #3B4455;\n",
              "      fill: #D2E3FC;\n",
              "    }\n",
              "\n",
              "    [theme=dark] .colab-df-convert:hover {\n",
              "      background-color: #434B5C;\n",
              "      box-shadow: 0px 1px 3px 1px rgba(0, 0, 0, 0.15);\n",
              "      filter: drop-shadow(0px 1px 2px rgba(0, 0, 0, 0.3));\n",
              "      fill: #FFFFFF;\n",
              "    }\n",
              "  </style>\n",
              "\n",
              "    <script>\n",
              "      const buttonEl =\n",
              "        document.querySelector('#df-ea4cbdc5-ce31-4267-ac7f-e1bab596c011 button.colab-df-convert');\n",
              "      buttonEl.style.display =\n",
              "        google.colab.kernel.accessAllowed ? 'block' : 'none';\n",
              "\n",
              "      async function convertToInteractive(key) {\n",
              "        const element = document.querySelector('#df-ea4cbdc5-ce31-4267-ac7f-e1bab596c011');\n",
              "        const dataTable =\n",
              "          await google.colab.kernel.invokeFunction('convertToInteractive',\n",
              "                                                    [key], {});\n",
              "        if (!dataTable) return;\n",
              "\n",
              "        const docLinkHtml = 'Like what you see? Visit the ' +\n",
              "          '<a target=\"_blank\" href=https://colab.research.google.com/notebooks/data_table.ipynb>data table notebook</a>'\n",
              "          + ' to learn more about interactive tables.';\n",
              "        element.innerHTML = '';\n",
              "        dataTable['output_type'] = 'display_data';\n",
              "        await google.colab.output.renderOutput(dataTable, element);\n",
              "        const docLink = document.createElement('div');\n",
              "        docLink.innerHTML = docLinkHtml;\n",
              "        element.appendChild(docLink);\n",
              "      }\n",
              "    </script>\n",
              "  </div>\n",
              "\n",
              "\n",
              "<div id=\"df-97e9e2be-ee18-4478-a4b1-ddc27eaba5bb\">\n",
              "  <button class=\"colab-df-quickchart\" onclick=\"quickchart('df-97e9e2be-ee18-4478-a4b1-ddc27eaba5bb')\"\n",
              "            title=\"Suggest charts\"\n",
              "            style=\"display:none;\">\n",
              "\n",
              "<svg xmlns=\"http://www.w3.org/2000/svg\" height=\"24px\"viewBox=\"0 0 24 24\"\n",
              "     width=\"24px\">\n",
              "    <g>\n",
              "        <path d=\"M19 3H5c-1.1 0-2 .9-2 2v14c0 1.1.9 2 2 2h14c1.1 0 2-.9 2-2V5c0-1.1-.9-2-2-2zM9 17H7v-7h2v7zm4 0h-2V7h2v10zm4 0h-2v-4h2v4z\"/>\n",
              "    </g>\n",
              "</svg>\n",
              "  </button>\n",
              "\n",
              "<style>\n",
              "  .colab-df-quickchart {\n",
              "      --bg-color: #E8F0FE;\n",
              "      --fill-color: #1967D2;\n",
              "      --hover-bg-color: #E2EBFA;\n",
              "      --hover-fill-color: #174EA6;\n",
              "      --disabled-fill-color: #AAA;\n",
              "      --disabled-bg-color: #DDD;\n",
              "  }\n",
              "\n",
              "  [theme=dark] .colab-df-quickchart {\n",
              "      --bg-color: #3B4455;\n",
              "      --fill-color: #D2E3FC;\n",
              "      --hover-bg-color: #434B5C;\n",
              "      --hover-fill-color: #FFFFFF;\n",
              "      --disabled-bg-color: #3B4455;\n",
              "      --disabled-fill-color: #666;\n",
              "  }\n",
              "\n",
              "  .colab-df-quickchart {\n",
              "    background-color: var(--bg-color);\n",
              "    border: none;\n",
              "    border-radius: 50%;\n",
              "    cursor: pointer;\n",
              "    display: none;\n",
              "    fill: var(--fill-color);\n",
              "    height: 32px;\n",
              "    padding: 0;\n",
              "    width: 32px;\n",
              "  }\n",
              "\n",
              "  .colab-df-quickchart:hover {\n",
              "    background-color: var(--hover-bg-color);\n",
              "    box-shadow: 0 1px 2px rgba(60, 64, 67, 0.3), 0 1px 3px 1px rgba(60, 64, 67, 0.15);\n",
              "    fill: var(--button-hover-fill-color);\n",
              "  }\n",
              "\n",
              "  .colab-df-quickchart-complete:disabled,\n",
              "  .colab-df-quickchart-complete:disabled:hover {\n",
              "    background-color: var(--disabled-bg-color);\n",
              "    fill: var(--disabled-fill-color);\n",
              "    box-shadow: none;\n",
              "  }\n",
              "\n",
              "  .colab-df-spinner {\n",
              "    border: 2px solid var(--fill-color);\n",
              "    border-color: transparent;\n",
              "    border-bottom-color: var(--fill-color);\n",
              "    animation:\n",
              "      spin 1s steps(1) infinite;\n",
              "  }\n",
              "\n",
              "  @keyframes spin {\n",
              "    0% {\n",
              "      border-color: transparent;\n",
              "      border-bottom-color: var(--fill-color);\n",
              "      border-left-color: var(--fill-color);\n",
              "    }\n",
              "    20% {\n",
              "      border-color: transparent;\n",
              "      border-left-color: var(--fill-color);\n",
              "      border-top-color: var(--fill-color);\n",
              "    }\n",
              "    30% {\n",
              "      border-color: transparent;\n",
              "      border-left-color: var(--fill-color);\n",
              "      border-top-color: var(--fill-color);\n",
              "      border-right-color: var(--fill-color);\n",
              "    }\n",
              "    40% {\n",
              "      border-color: transparent;\n",
              "      border-right-color: var(--fill-color);\n",
              "      border-top-color: var(--fill-color);\n",
              "    }\n",
              "    60% {\n",
              "      border-color: transparent;\n",
              "      border-right-color: var(--fill-color);\n",
              "    }\n",
              "    80% {\n",
              "      border-color: transparent;\n",
              "      border-right-color: var(--fill-color);\n",
              "      border-bottom-color: var(--fill-color);\n",
              "    }\n",
              "    90% {\n",
              "      border-color: transparent;\n",
              "      border-bottom-color: var(--fill-color);\n",
              "    }\n",
              "  }\n",
              "</style>\n",
              "\n",
              "  <script>\n",
              "    async function quickchart(key) {\n",
              "      const quickchartButtonEl =\n",
              "        document.querySelector('#' + key + ' button');\n",
              "      quickchartButtonEl.disabled = true;  // To prevent multiple clicks.\n",
              "      quickchartButtonEl.classList.add('colab-df-spinner');\n",
              "      try {\n",
              "        const charts = await google.colab.kernel.invokeFunction(\n",
              "            'suggestCharts', [key], {});\n",
              "      } catch (error) {\n",
              "        console.error('Error during call to suggestCharts:', error);\n",
              "      }\n",
              "      quickchartButtonEl.classList.remove('colab-df-spinner');\n",
              "      quickchartButtonEl.classList.add('colab-df-quickchart-complete');\n",
              "    }\n",
              "    (() => {\n",
              "      let quickchartButtonEl =\n",
              "        document.querySelector('#df-97e9e2be-ee18-4478-a4b1-ddc27eaba5bb button');\n",
              "      quickchartButtonEl.style.display =\n",
              "        google.colab.kernel.accessAllowed ? 'block' : 'none';\n",
              "    })();\n",
              "  </script>\n",
              "</div>\n",
              "    </div>\n",
              "  </div>\n"
            ],
            "application/vnd.google.colaboratory.intrinsic+json": {
              "type": "dataframe",
              "variable_name": "df"
            }
          },
          "metadata": {},
          "execution_count": 3
        }
      ],
      "source": [
        "df = pd.read_csv('data.txt.zip', header=None)\n",
        "df.head()"
      ]
    },
    {
      "cell_type": "markdown",
      "metadata": {
        "id": "N9a-eJUG35C3"
      },
      "source": [
        "Мы вывели кусок данных, чтобы понять, насколько они пригодны для работы без изменений. Здесь ясно, что сомнительно дальше с такими данными работать, потому что как минимум есть отрицательные значения, которые не отмасштабированы, кроме того еще сразу бросается в глаза совсем разная размерность, где-то видим реально большие числа, а где-то 0.075. Ясно, что будем скейлить."
      ]
    },
    {
      "cell_type": "code",
      "execution_count": 4,
      "metadata": {
        "id": "n4wnRJT1778j"
      },
      "outputs": [],
      "source": [
        "X = df.iloc[:, 1:].values\n",
        "y = df.iloc[:, 0].values\n",
        "\n",
        "train_size = 463715\n",
        "X_train = X[:train_size, :]\n",
        "y_train = y[:train_size]\n",
        "X_test = X[train_size:, :]\n",
        "y_test = y[train_size:]"
      ]
    },
    {
      "cell_type": "markdown",
      "metadata": {
        "id": "_386JE_o5gOd"
      },
      "source": [
        "## Задание 0. (0 баллов, но при невыполнении максимум за все задание &mdash; 0 баллов)\n",
        "\n",
        "Мы будем использовать RMSE как метрику качества. Для самого первого бейзлайна обучите `Ridge` регрессию из `sklearn`. Кроме того, посчитайте качество при наилучшем константном прогнозе.\n",
        "\n",
        "Для выполнения данного задания (и всех последующих) предобработайте данные.\n",
        "\n",
        "1. Зафиксируйте random_seed везде где только возможно. Вам предоставлена функция для этого, однако вы можете дополнить ее своими дополнениями\n",
        "2. Обучите StandertScaler и предобработайте ваши данные. В следующих заданиях можете использовать другой scaler или вообще отказаться от него\n"
      ]
    },
    {
      "cell_type": "code",
      "execution_count": 8,
      "metadata": {
        "id": "1kV-kCVs8Aju"
      },
      "outputs": [],
      "source": [
        "from sklearn.preprocessing import StandardScaler\n",
        "\n",
        "scaler = StandardScaler()\n",
        "X_train_scaled = scaler.fit_transform(X_train)\n",
        "X_test_scaled = scaler.transform(X_test)"
      ]
    },
    {
      "cell_type": "code",
      "execution_count": 6,
      "metadata": {
        "id": "lkfkXylb8U-O"
      },
      "outputs": [],
      "source": [
        "def set_random_seed(seed):\n",
        "    torch.backends.cudnn.deterministic = True\n",
        "    torch.manual_seed(seed)\n",
        "    torch.cuda.manual_seed(seed)\n",
        "    np.random.seed(seed)\n",
        "    random.seed(seed)\n",
        "    # Add smth here if you need..."
      ]
    },
    {
      "cell_type": "code",
      "execution_count": 7,
      "metadata": {
        "id": "GKVVatBw8cH7"
      },
      "outputs": [],
      "source": [
        "set_random_seed(42)"
      ]
    },
    {
      "cell_type": "code",
      "execution_count": 13,
      "metadata": {
        "id": "uv7qthu935C4",
        "colab": {
          "base_uri": "https://localhost:8080/"
        },
        "outputId": "407d1229-054f-4217-b8f1-798808a981e5"
      },
      "outputs": [
        {
          "output_type": "stream",
          "name": "stdout",
          "text": [
            "RMSE for Ridge Regression: 9.510160820470436\n"
          ]
        }
      ],
      "source": [
        "from sklearn.linear_model import Ridge\n",
        "from sklearn.metrics import mean_squared_error\n",
        "ridge_model = Ridge()\n",
        "ridge_model.fit(X_train_scaled, y_train)\n",
        "\n",
        "y_pred_ridge = ridge_model.predict(X_test_scaled)\n",
        "\n",
        "rmse_for_model = np.sqrt(mean_squared_error(y_test, y_pred_ridge))\n",
        "print(f\"RMSE for Ridge Regression: {rmse_for_model}\")\n"
      ]
    },
    {
      "cell_type": "markdown",
      "metadata": {
        "id": "HJKGuhFi35C4"
      },
      "source": [
        "Лучшая константа для RMSE это среднее, посчитаем значение метрики при нем"
      ]
    },
    {
      "cell_type": "code",
      "execution_count": 14,
      "metadata": {
        "id": "kOcFuy1P35C4",
        "colab": {
          "base_uri": "https://localhost:8080/"
        },
        "outputId": "5150caf5-b7e3-424d-e6be-037be9d54edf"
      },
      "outputs": [
        {
          "output_type": "stream",
          "name": "stdout",
          "text": [
            "RMSE for constant prediction (mean): 10.863228020678134\n"
          ]
        }
      ],
      "source": [
        "y_mean = np.mean(y_train)\n",
        "\n",
        "y_pred_mean = np.full_like(y_test, y_mean)\n",
        "\n",
        "best_rmse_metric = np.sqrt(mean_squared_error(y_test, y_pred_mean))\n",
        "print(f\"RMSE for constant prediction (mean): {best_rmse_metric}\")\n"
      ]
    },
    {
      "cell_type": "markdown",
      "metadata": {
        "id": "BDHAnIkS8vNY"
      },
      "source": [
        "## Задание 1. (максимум 10 баллов)\n",
        "\n",
        "Закрепите свои знания о том, как pytorch работает с обратным распространением ошибки, проделав следующие шаги:\n",
        "\n",
        "1. Создайте модель линейной регрессии, которая будет состоять только из одного Linear слоя.\n",
        "2. Напишите цикл обучения вашей линейной регрессии. В нем реализуйте подсчет функции потерь, сделайте шаг градиентного спуска. Запрещено использовать готовые оптимизаторы и loss-функции из библиотеки pytorch. Для подсчета градиента воспользуйтесь методом backward.\n",
        "3. Запустите обучение на 10 эпохах, после каждой проверяйте значение целевой метрики на тестовой выборке.\n",
        "4. Выведите на экран графики метрики и значения функции потерь на тестовой и обучающей выборке.\n",
        "\n",
        "В данном задании нет цели побить какой-то порог по метрике. Ваша задача - убедиться в том, что ваш рукописный цикл обучения работает. Для ускорения вычислений и обучения модели можете брать только срез данных, а не весь датасет."
      ]
    },
    {
      "cell_type": "code",
      "execution_count": 15,
      "metadata": {
        "id": "LxnT6G1J-apf"
      },
      "outputs": [],
      "source": [
        "class LinearRegressionModel(nn.Module):\n",
        "    def __init__(self, input_dim):\n",
        "        super(LinearRegressionModel, self).__init__()\n",
        "        self.linear = nn.Linear(input_dim, 1)\n",
        "\n",
        "    def forward(self, x):\n",
        "        return self.linear(x)\n",
        "\n",
        "input_dim = X_train_scaled.shape[1]\n",
        "model = LinearRegressionModel(input_dim).to(device)\n"
      ]
    },
    {
      "cell_type": "code",
      "source": [
        "def mse_loss(predictions, targets):\n",
        "    return ((predictions - targets) ** 2).mean()\n",
        "\n",
        "def manual_sgd_step(model, learning_rate):\n",
        "    with torch.no_grad():\n",
        "        for param in model.parameters():\n",
        "            param -= learning_rate * param.grad\n"
      ],
      "metadata": {
        "id": "xUx2lnWtwTgF"
      },
      "execution_count": 16,
      "outputs": []
    },
    {
      "cell_type": "code",
      "source": [
        "X_train_tensor = torch.tensor(X_train_scaled, dtype=torch.float32).to(device)\n",
        "y_train_tensor = torch.tensor(y_train, dtype=torch.float32).view(-1, 1).to(device)\n",
        "\n",
        "X_test_tensor = torch.tensor(X_test_scaled, dtype=torch.float32).to(device)\n",
        "y_test_tensor = torch.tensor(y_test, dtype=torch.float32).view(-1, 1).to(device)\n",
        "\n",
        "learning_rate = 0.001\n",
        "epochs = 10\n",
        "batch_size = 10000\n",
        "\n",
        "train_losses = []\n",
        "test_losses = []\n",
        "train_rmse = []\n",
        "test_rmse = []\n",
        "\n",
        "for epoch in range(epochs):\n",
        "    # Перемешиваем индексы для стохастического градиентного спуска\n",
        "    permutation = torch.randperm(X_train_tensor.size(0))\n",
        "\n",
        "    # Проходим по мини-батчам\n",
        "    for i in range(0, X_train_tensor.size(0), batch_size):\n",
        "        indices = permutation[i:i + batch_size]\n",
        "        X_batch = X_train_tensor[indices]\n",
        "        y_batch = y_train_tensor[indices]\n",
        "\n",
        "        predictions = model(X_batch)\n",
        "\n",
        "        loss = mse_loss(predictions, y_batch)\n",
        "\n",
        "        loss.backward()\n",
        "\n",
        "        manual_sgd_step(model, learning_rate)\n",
        "\n",
        "        model.zero_grad()\n",
        "\n",
        "    # После каждой эпохи проверяем на обучающей и тестовой выборке\n",
        "    with torch.no_grad():\n",
        "        train_predictions = model(X_train_tensor)\n",
        "        train_loss = mse_loss(train_predictions, y_train_tensor).item()\n",
        "        train_rmse_value = torch.sqrt(mse_loss(train_predictions, y_train_tensor)).item()\n",
        "\n",
        "        test_predictions = model(X_test_tensor)\n",
        "        test_loss = mse_loss(test_predictions, y_test_tensor).item()\n",
        "        test_rmse_value = torch.sqrt(mse_loss(test_predictions, y_test_tensor)).item()\n",
        "\n",
        "        train_losses.append(train_loss)\n",
        "        test_losses.append(test_loss)\n",
        "        train_rmse.append(train_rmse_value)\n",
        "        test_rmse.append(test_rmse_value)\n",
        "\n",
        "        print(f\"Epoch {epoch+1}/{epochs}: Train Loss = {train_loss}, Test Loss = {test_loss}, Train RMSE = {train_rmse_value}, Test RMSE = {test_rmse_value}\")\n"
      ],
      "metadata": {
        "colab": {
          "base_uri": "https://localhost:8080/"
        },
        "id": "UwxKfr-uwVpw",
        "outputId": "a18d04d8-0f45-4f03-be08-7a3c78529a99"
      },
      "execution_count": 17,
      "outputs": [
        {
          "output_type": "stream",
          "name": "stdout",
          "text": [
            "Epoch 1/10: Train Loss = 3308525.0, Test Loss = 3308789.25, Train RMSE = 1818.9351806640625, Test RMSE = 1819.0078125\n",
            "Epoch 2/10: Train Loss = 2740985.75, Test Loss = 2741198.75, Train RMSE = 1655.59228515625, Test RMSE = 1655.6566162109375\n",
            "Epoch 3/10: Train Loss = 2270805.5, Test Loss = 2271027.75, Train RMSE = 1506.919189453125, Test RMSE = 1506.992919921875\n",
            "Epoch 4/10: Train Loss = 1881282.0, Test Loss = 1881478.875, Train RMSE = 1371.598388671875, Test RMSE = 1371.6700439453125\n",
            "Epoch 5/10: Train Loss = 1558578.875, Test Loss = 1558741.125, Train RMSE = 1248.4305419921875, Test RMSE = 1248.49560546875\n",
            "Epoch 6/10: Train Loss = 1291233.625, Test Loss = 1291378.125, Train RMSE = 1136.3245849609375, Test RMSE = 1136.38818359375\n",
            "Epoch 7/10: Train Loss = 1069749.25, Test Loss = 1069872.875, Train RMSE = 1034.286865234375, Test RMSE = 1034.3465576171875\n",
            "Epoch 8/10: Train Loss = 886258.375, Test Loss = 886388.1875, Train RMSE = 941.4129638671875, Test RMSE = 941.48193359375\n",
            "Epoch 9/10: Train Loss = 734244.375, Test Loss = 734338.5625, Train RMSE = 856.880615234375, Test RMSE = 856.935546875\n",
            "Epoch 10/10: Train Loss = 608307.0625, Test Loss = 608386.1875, Train RMSE = 779.9404296875, Test RMSE = 779.9911499023438\n"
          ]
        }
      ]
    },
    {
      "cell_type": "code",
      "source": [
        "plt.figure(figsize=(12, 5))\n",
        "\n",
        "plt.subplot(1, 2, 1)\n",
        "plt.plot(range(epochs), train_losses, label='Train Loss')\n",
        "plt.plot(range(epochs), test_losses, label='Test Loss')\n",
        "plt.xlabel('Epoch')\n",
        "plt.ylabel('Loss')\n",
        "plt.title('Loss per Epoch')\n",
        "plt.legend()\n",
        "\n",
        "plt.subplot(1, 2, 2)\n",
        "plt.plot(range(epochs), train_rmse, label='Train RMSE')\n",
        "plt.plot(range(epochs), test_rmse, label='Test RMSE')\n",
        "plt.xlabel('Epoch')\n",
        "plt.ylabel('RMSE')\n",
        "plt.title('RMSE per Epoch')\n",
        "plt.legend()\n",
        "\n",
        "plt.show()\n"
      ],
      "metadata": {
        "colab": {
          "base_uri": "https://localhost:8080/",
          "height": 487
        },
        "id": "Vou9uO3UwqtG",
        "outputId": "a0dac1d8-b67c-42bd-c1fe-5a45916ad8a4"
      },
      "execution_count": 18,
      "outputs": [
        {
          "output_type": "display_data",
          "data": {
            "text/plain": [
              "<Figure size 1200x500 with 2 Axes>"
            ],
            "image/png": "[encoded data removed]"
          },
          "metadata": {}
        }
      ]
    },
    {
      "cell_type": "markdown",
      "metadata": {
        "id": "_6ilBKYt6OdD"
      },
      "source": [
        "## Задание 2. (максимум 10 баллов)\n",
        "\n",
        "Реализуйте обучение и тестирование нейронной сети для предоставленного вам набора данных. Соотношение между полученным значением метрики на тестовой выборке и баллами за задание следующее:\n",
        "\n",
        "- $\\text{RMSE} \\le 9.00 $ &mdash; 4 балла\n",
        "- $\\text{RMSE} \\le 8.90 $ &mdash; 6 баллов\n",
        "- $\\text{RMSE} \\le 8.80 $ &mdash; 8 баллов\n",
        "- $\\text{RMSE} \\le 8.75 $ &mdash; 10 баллов\n",
        "\n",
        "Есть несколько правил, которых вам нужно придерживаться:\n",
        "\n",
        "- Весь пайплайн обучения должен быть написан на PyTorch. При этом вы можете пользоваться другими библиотеками (`numpy`, `sklearn` и пр.), но только для обработки данных. То есть как угодно трансформировать данные и считать метрики с помощью этих библиотек можно, а импортировать модели из `sklearn` и выбивать с их помощью требуемое качество &mdash; нельзя. Также нельзя пользоваться библиотеками, для которых сам PyTorch является зависимостью.\n",
        "\n",
        "- Мы никак не ограничиваем ваш выбор архитектуры модели, но скорее всего вам будет достаточно полносвязной нейронной сети.\n",
        "\n",
        "- Для обучения запрещается использовать какие-либо иные данные, кроме обучающей выборки.\n",
        "\n",
        "- Ансамблирование моделей запрещено.\n",
        "\n",
        "### Полезные советы:\n",
        "\n",
        "- Очень вряд ли, что у вас с первого раза получится выбить качество на 10 баллов, поэтому пробуйте разные архитектуры, оптимизаторы и значения гиперпараметров. В идеале при запуске каждого нового эксперимента вы должны менять что-то одно, чтобы точно знать, как этот фактор влияет на качество.\n",
        "\n",
        "- Не забудьте, что для улучшения качества модели вам поможет **нормировка таргета**.\n",
        "\n",
        "- Тот факт, что мы занимаемся глубинным обучением, не означает, что стоит забывать про приемы, использующиеся в классическом машинном обучении. Так что обязательно проводите исследовательский анализ данных, отрисовывайте нужные графики и не забывайте про масштабирование и подбор гиперпараметров.\n",
        "\n",
        "- Вы наверняка столкнетесь с тем, что ваша нейронная сеть будет сильно переобучаться. Для нейросетей существуют специальные методы регуляризации, например, dropout ([статья](https://jmlr.org/papers/volume15/srivastava14a/srivastava14a.pdf)) и weight decay ([блогпост](https://towardsdatascience.com/weight-decay-l2-regularization-90a9e17713cd)). Они, разумеется, реализованы в PyTorch. Попробуйте поэкспериментировать с ними.\n",
        "\n",
        "- Если вы чего-то не знаете, не гнушайтесь гуглить. В интернете очень много полезной информации, туториалов и советов по глубинному обучению в целом и по PyTorch в частности. Но не забывайте, что за скатанный код без ссылки на источник придется ответить по всей строгости!\n",
        "\n",
        "- Если вы сразу реализуете обучение на GPU, то у вас будет больше времени на эксперименты, так как любые вычисления будут работать быстрее. Google Colab предоставляет несколько GPU-часов (обычно около 8-10) в сутки бесплатно.\n",
        "\n",
        "- Чтобы отладить код, можете обучаться на небольшой части данных или даже на одном батче. Если лосс на обучающей выборке не падает, то что-то точно идет не так!\n",
        "\n",
        "- Пользуйтесь утилитами, которые вам предоставляет PyTorch (например, Dataset и Dataloader). Их специально разработали для упрощения разработки пайплайна обучения.\n",
        "\n",
        "- Скорее всего вы захотите отслеживать прогресс обучения. Для создания прогресс-баров есть удобная библиотека `tqdm`.\n",
        "\n",
        "- Быть может, вы захотите, чтобы графики рисовались прямо во время обучения. Можете воспользоваться функцией [clear_output](http://ipython.org/ipython-doc/dev/api/generated/IPython.display.html#IPython.display.clear_output), чтобы удалять старый график и рисовать новый на его месте.\n",
        "\n",
        "**ОБЯЗАТЕЛЬНО** рисуйте графики зависимости лосса/метрики на обучающей и тестовой выборках в зависимости от времени обучения. Если обучение занимает относительно небольшое число эпох, то лучше рисовать зависимость от номера шага обучения, если же эпох больше, то рисуйте зависимость по эпохам. Если проверяющий не увидит такого графика для вашей лучшей модели, то он в праве снизить баллы за задание.\n",
        "\n",
        "**ВАЖНО!** Ваше решение должно быть воспроизводимым. Если это не так, то проверяющий имеет право снизить баллы за задание. Чтобы зафиксировать random seed, воспользуйтесь функцией из предыдущего задания.\n",
        "\n"
      ]
    },
    {
      "cell_type": "markdown",
      "metadata": {
        "id": "TZW0gMe3vT8u"
      },
      "source": [
        "Вы можете придерживаться любой адекватной струкуры кода, но мы советуем воспользоваться сигнатурами функций, которые приведены ниже. Лучше всего, если вы проверите ваши предсказания ассертом: так вы убережете себя от разных косяков, например, что вектор предсказаний состоит из всего одного числа. В любом случае, внимательно следите за тем, для каких тензоров вы считаете метрику RMSE. При случайном или намеренном введении в заблуждение проверяющие очень сильно разозлятся."
      ]
    },
    {
      "cell_type": "markdown",
      "source": [
        "## попытка номер 1"
      ],
      "metadata": {
        "id": "oiVXQgTT9qwO"
      }
    },
    {
      "cell_type": "code",
      "execution_count": 19,
      "metadata": {
        "id": "HaTbtUr7SCeh"
      },
      "outputs": [],
      "source": [
        "from torch.utils.data import Dataset, DataLoader\n",
        "\n",
        "class MusicDataset(Dataset):\n",
        "    def __init__(self, X, y=None):\n",
        "        self.X = torch.tensor(X, dtype=torch.float32)\n",
        "        self.y = torch.tensor(y, dtype=torch.float32) if y is not None else None\n",
        "\n",
        "    def __len__(self):\n",
        "        return len(self.X)\n",
        "\n",
        "    def __getitem__(self, idx):\n",
        "        if self.y is not None:\n",
        "            return self.X[idx], self.y[idx]\n",
        "        else:\n",
        "            return self.X[idx]\n",
        "\n",
        "train_dataset = MusicDataset(X_train_scaled, y_train)\n",
        "test_dataset = MusicDataset(X_test_scaled, y_test)\n",
        "\n",
        "train_loader = DataLoader(train_dataset, batch_size=1024, shuffle=True)\n",
        "test_loader = DataLoader(test_dataset, batch_size=1024, shuffle=False)\n"
      ]
    },
    {
      "cell_type": "code",
      "source": [
        "class NeuralNetwork(nn.Module):\n",
        "    def __init__(self, input_dim):\n",
        "        super(NeuralNetwork, self).__init__()\n",
        "        self.network = nn.Sequential(\n",
        "            nn.Linear(input_dim, 128),\n",
        "            nn.ReLU(),\n",
        "            nn.Linear(128, 64),\n",
        "            nn.ReLU(),\n",
        "            nn.Linear(64, 32),\n",
        "            nn.ReLU(),\n",
        "            nn.Linear(32, 1)\n",
        "        )\n",
        "\n",
        "    def forward(self, x):\n",
        "        return self.network(x)\n",
        "\n",
        "model = NeuralNetwork(input_dim=X_train_scaled.shape[1]).to(device)\n"
      ],
      "metadata": {
        "id": "bLWa_VJex9zH"
      },
      "execution_count": 20,
      "outputs": []
    },
    {
      "cell_type": "code",
      "source": [
        "optimizer = torch.optim.Adam(model.parameters(), lr=0.001, weight_decay=1e-5)\n",
        "criterion = nn.MSELoss()\n"
      ],
      "metadata": {
        "id": "cnh2ho2cx_GP"
      },
      "execution_count": 21,
      "outputs": []
    },
    {
      "cell_type": "code",
      "execution_count": 22,
      "metadata": {
        "id": "MAXVIEJQSCeh"
      },
      "outputs": [],
      "source": [
        "def train(model, optimizer, criterion, train_loader, test_loader, epochs=10):\n",
        "    train_losses = []\n",
        "    test_losses = []\n",
        "    test_rmses = []\n",
        "\n",
        "    for epoch in range(epochs):\n",
        "        model.train()\n",
        "        train_loss = 0\n",
        "        for X_batch, y_batch in train_loader:\n",
        "            X_batch, y_batch = X_batch.to(device), y_batch.to(device)\n",
        "\n",
        "            optimizer.zero_grad()\n",
        "            predictions = model(X_batch)\n",
        "            loss = criterion(predictions, y_batch.view(-1, 1))\n",
        "            loss.backward()\n",
        "            optimizer.step()\n",
        "            train_loss += loss.item()\n",
        "\n",
        "        train_loss /= len(train_loader)\n",
        "        train_losses.append(train_loss)\n",
        "\n",
        "        test_loss, test_rmse = test(model, criterion, test_loader)\n",
        "        test_losses.append(test_loss)\n",
        "        test_rmses.append(test_rmse)\n",
        "\n",
        "        print(f\"Epoch {epoch+1}/{epochs}, Train Loss: {train_loss:.4f}, Test Loss: {test_loss:.4f}, Test RMSE: {test_rmse:.4f}\")\n",
        "\n",
        "    return train_losses, test_losses, test_rmses\n"
      ]
    },
    {
      "cell_type": "code",
      "source": [
        "def test(model, criterion, test_loader):\n",
        "    model.eval()\n",
        "    test_loss = 0\n",
        "    all_predictions = []\n",
        "\n",
        "    with torch.no_grad():\n",
        "        for X_batch, y_batch in test_loader:\n",
        "            X_batch, y_batch = X_batch.to(device), y_batch.to(device)\n",
        "            predictions = model(X_batch)\n",
        "            loss = criterion(predictions, y_batch.view(-1, 1))\n",
        "            test_loss += loss.item()\n",
        "            all_predictions.append(predictions.cpu().numpy())\n",
        "\n",
        "    test_loss /= len(test_loader)\n",
        "    all_predictions = np.concatenate(all_predictions)\n",
        "    rmse = np.sqrt(mean_squared_error(y_test, all_predictions))\n",
        "\n",
        "    return test_loss, rmse\n"
      ],
      "metadata": {
        "id": "l_tJTckkyFWH"
      },
      "execution_count": 23,
      "outputs": []
    },
    {
      "cell_type": "code",
      "source": [
        "train_losses, test_losses, test_rmses = train(model, optimizer, criterion, train_loader, test_loader, epochs=50)\n"
      ],
      "metadata": {
        "colab": {
          "base_uri": "https://localhost:8080/"
        },
        "id": "4FUQJpryyMci",
        "outputId": "2134ec0a-bea4-407e-9020-33ca13fe5b6c"
      },
      "execution_count": 24,
      "outputs": [
        {
          "output_type": "stream",
          "name": "stdout",
          "text": [
            "Epoch 1/50, Train Loss: 1144328.4864, Test Loss: 190571.3845, Test RMSE: 436.4211\n",
            "Epoch 2/50, Train Loss: 120656.1008, Test Loss: 75131.1137, Test RMSE: 273.7092\n",
            "Epoch 3/50, Train Loss: 34374.5947, Test Loss: 8168.8364, Test RMSE: 90.2195\n",
            "Epoch 4/50, Train Loss: 3209.8990, Test Loss: 1459.0125, Test RMSE: 38.1828\n",
            "Epoch 5/50, Train Loss: 901.8541, Test Loss: 680.5611, Test RMSE: 26.0385\n",
            "Epoch 6/50, Train Loss: 451.7976, Test Loss: 393.5294, Test RMSE: 19.8148\n",
            "Epoch 7/50, Train Loss: 268.7262, Test Loss: 245.4881, Test RMSE: 15.6174\n",
            "Epoch 8/50, Train Loss: 183.2585, Test Loss: 191.6229, Test RMSE: 13.7832\n",
            "Epoch 9/50, Train Loss: 143.5539, Test Loss: 153.3853, Test RMSE: 12.3077\n",
            "Epoch 10/50, Train Loss: 124.9877, Test Loss: 138.5561, Test RMSE: 11.6808\n",
            "Epoch 11/50, Train Loss: 113.0108, Test Loss: 125.2214, Test RMSE: 11.0791\n",
            "Epoch 12/50, Train Loss: 109.0195, Test Loss: 118.0984, Test RMSE: 10.7616\n",
            "Epoch 13/50, Train Loss: 104.8151, Test Loss: 118.9895, Test RMSE: 10.8000\n",
            "Epoch 14/50, Train Loss: 108.1636, Test Loss: 111.1048, Test RMSE: 10.4389\n",
            "Epoch 15/50, Train Loss: 102.0444, Test Loss: 118.2558, Test RMSE: 10.7994\n",
            "Epoch 16/50, Train Loss: 102.9322, Test Loss: 129.7814, Test RMSE: 11.2700\n",
            "Epoch 17/50, Train Loss: 102.7645, Test Loss: 237.7299, Test RMSE: 15.3637\n",
            "Epoch 18/50, Train Loss: 112.2491, Test Loss: 105.3945, Test RMSE: 10.1373\n",
            "Epoch 19/50, Train Loss: 100.5484, Test Loss: 109.7265, Test RMSE: 10.3592\n",
            "Epoch 20/50, Train Loss: 97.8276, Test Loss: 102.6459, Test RMSE: 10.0031\n",
            "Epoch 21/50, Train Loss: 104.7582, Test Loss: 107.8594, Test RMSE: 10.2660\n",
            "Epoch 22/50, Train Loss: 99.5106, Test Loss: 110.0074, Test RMSE: 10.4060\n",
            "Epoch 23/50, Train Loss: 99.1761, Test Loss: 105.9485, Test RMSE: 10.1839\n",
            "Epoch 24/50, Train Loss: 97.3855, Test Loss: 102.6457, Test RMSE: 10.0158\n",
            "Epoch 25/50, Train Loss: 97.2676, Test Loss: 104.3806, Test RMSE: 10.0816\n",
            "Epoch 26/50, Train Loss: 95.2973, Test Loss: 96.7640, Test RMSE: 9.7516\n",
            "Epoch 27/50, Train Loss: 95.3016, Test Loss: 106.1469, Test RMSE: 10.2095\n",
            "Epoch 28/50, Train Loss: 94.4315, Test Loss: 97.7529, Test RMSE: 9.7738\n",
            "Epoch 29/50, Train Loss: 95.7693, Test Loss: 92.8920, Test RMSE: 9.5100\n",
            "Epoch 30/50, Train Loss: 92.9190, Test Loss: 115.3684, Test RMSE: 10.6185\n",
            "Epoch 31/50, Train Loss: 95.2855, Test Loss: 103.4094, Test RMSE: 10.0285\n",
            "Epoch 32/50, Train Loss: 93.6061, Test Loss: 109.2743, Test RMSE: 10.3448\n",
            "Epoch 33/50, Train Loss: 93.5984, Test Loss: 102.3027, Test RMSE: 9.9904\n",
            "Epoch 34/50, Train Loss: 94.8591, Test Loss: 107.0560, Test RMSE: 10.2035\n",
            "Epoch 35/50, Train Loss: 93.1085, Test Loss: 99.4263, Test RMSE: 9.8516\n",
            "Epoch 36/50, Train Loss: 89.2115, Test Loss: 97.5804, Test RMSE: 9.7615\n",
            "Epoch 37/50, Train Loss: 91.8064, Test Loss: 114.9727, Test RMSE: 10.6397\n",
            "Epoch 38/50, Train Loss: 95.8767, Test Loss: 109.4943, Test RMSE: 10.3211\n",
            "Epoch 39/50, Train Loss: 88.5229, Test Loss: 92.7519, Test RMSE: 9.5064\n",
            "Epoch 40/50, Train Loss: 92.5032, Test Loss: 92.7590, Test RMSE: 9.5183\n",
            "Epoch 41/50, Train Loss: 88.0108, Test Loss: 94.6254, Test RMSE: 9.6207\n",
            "Epoch 42/50, Train Loss: 90.0988, Test Loss: 105.6169, Test RMSE: 10.1703\n",
            "Epoch 43/50, Train Loss: 97.3229, Test Loss: 142.8094, Test RMSE: 11.8517\n",
            "Epoch 44/50, Train Loss: 91.5346, Test Loss: 93.1281, Test RMSE: 9.5417\n",
            "Epoch 45/50, Train Loss: 87.8413, Test Loss: 93.5895, Test RMSE: 9.5692\n",
            "Epoch 46/50, Train Loss: 88.6544, Test Loss: 96.7435, Test RMSE: 9.7248\n",
            "Epoch 47/50, Train Loss: 93.0732, Test Loss: 115.3026, Test RMSE: 10.6239\n",
            "Epoch 48/50, Train Loss: 86.8654, Test Loss: 96.3163, Test RMSE: 9.7139\n",
            "Epoch 49/50, Train Loss: 91.4821, Test Loss: 90.7387, Test RMSE: 9.4070\n",
            "Epoch 50/50, Train Loss: 87.6665, Test Loss: 99.6402, Test RMSE: 9.8676\n"
          ]
        }
      ]
    },
    {
      "cell_type": "code",
      "source": [
        "plt.figure(figsize=(12, 5))\n",
        "\n",
        "plt.subplot(1, 2, 1)\n",
        "plt.plot(train_losses, label='Train Loss')\n",
        "plt.plot(test_losses, label='Test Loss')\n",
        "plt.xlabel('Epoch')\n",
        "plt.ylabel('Loss')\n",
        "plt.title('Loss over Epochs')\n",
        "plt.legend()\n",
        "\n",
        "plt.subplot(1, 2, 2)\n",
        "plt.plot(test_rmses, label='Test RMSE')\n",
        "plt.xlabel('Epoch')\n",
        "plt.ylabel('RMSE')\n",
        "plt.title('Test RMSE over Epochs')\n",
        "plt.legend()\n",
        "\n",
        "plt.show()\n"
      ],
      "metadata": {
        "colab": {
          "base_uri": "https://localhost:8080/",
          "height": 487
        },
        "id": "O6SVD67I030P",
        "outputId": "c1bddf6c-e50a-4a5b-f552-187090f1d819"
      },
      "execution_count": 26,
      "outputs": [
        {
          "output_type": "display_data",
          "data": {
            "text/plain": [
              "<Figure size 1200x500 with 2 Axes>"
            ],
            "image/png": "[encoded data removed]"
          },
          "metadata": {}
        }
      ]
    },
    {
      "cell_type": "markdown",
      "source": [
        "## попытка номер 2\n"
      ],
      "metadata": {
        "id": "do1oDiSk86CD"
      }
    },
    {
      "cell_type": "code",
      "source": [
        "from sklearn.preprocessing import StandardScaler\n",
        "\n",
        "target_scaler = StandardScaler()\n",
        "\n",
        "y_train_scaled = target_scaler.fit_transform(y_train.reshape(-1, 1)).flatten()\n",
        "y_test_scaled = target_scaler.transform(y_test.reshape(-1, 1)).flatten()\n",
        "\n",
        "train_dataset = MusicDataset(X_train_scaled, y_train_scaled)\n",
        "test_dataset = MusicDataset(X_test_scaled, y_test_scaled)\n",
        "\n",
        "train_loader = DataLoader(train_dataset, batch_size=1024, shuffle=True)\n",
        "test_loader = DataLoader(test_dataset, batch_size=1024, shuffle=False)"
      ],
      "metadata": {
        "id": "bff-jukX84rK"
      },
      "execution_count": 73,
      "outputs": []
    },
    {
      "cell_type": "code",
      "source": [
        "class ImprovedNeuralNetwork(nn.Module):\n",
        "    def __init__(self, input_dim):\n",
        "        super(ImprovedNeuralNetwork, self).__init__()\n",
        "        self.network = nn.Sequential(\n",
        "            nn.Linear(input_dim, 256),\n",
        "            nn.ReLU(),\n",
        "            nn.Linear(256, 128),\n",
        "            nn.ReLU(),\n",
        "            nn.Dropout(0.3),\n",
        "            nn.Linear(128, 64),\n",
        "            nn.ReLU(),\n",
        "            nn.Linear(64, 32),\n",
        "            nn.ReLU(),\n",
        "            nn.Linear(32, 1)\n",
        "        )\n",
        "\n",
        "    def forward(self, x):\n",
        "        return self.network(x)\n",
        "\n",
        "model = ImprovedNeuralNetwork(input_dim=X_train_scaled.shape[1]).to(device)"
      ],
      "metadata": {
        "id": "1Yt3IGzS9CKK"
      },
      "execution_count": 72,
      "outputs": []
    },
    {
      "cell_type": "code",
      "source": [
        "def test(model, criterion, test_loader):\n",
        "    model.eval()\n",
        "    test_loss = 0\n",
        "    all_predictions = []\n",
        "\n",
        "    with torch.no_grad():\n",
        "        for X_batch, y_batch in test_loader:\n",
        "            X_batch, y_batch = X_batch.to(device), y_batch.to(device)\n",
        "            predictions = model(X_batch)\n",
        "            loss = criterion(predictions, y_batch.view(-1, 1))\n",
        "            test_loss += loss.item()\n",
        "            all_predictions.append(predictions.cpu().numpy())\n",
        "\n",
        "    test_loss /= len(test_loader)\n",
        "    all_predictions = np.concatenate(all_predictions)\n",
        "\n",
        "    all_predictions_rescaled = target_scaler.inverse_transform(all_predictions)\n",
        "    y_test_rescaled = target_scaler.inverse_transform(y_test_scaled.reshape(-1, 1))\n",
        "\n",
        "    rmse = np.sqrt(mean_squared_error(y_test_rescaled, all_predictions_rescaled))\n",
        "\n",
        "    return test_loss, rmse\n"
      ],
      "metadata": {
        "id": "jOAwoL8l9Dwq"
      },
      "execution_count": 74,
      "outputs": []
    },
    {
      "cell_type": "code",
      "source": [
        "optimizer = torch.optim.Adam(model.parameters(), lr=0.001, weight_decay=1e-5)\n",
        "\n",
        "train_losses, test_losses, test_rmses = train(model, optimizer, criterion, train_loader, test_loader, epochs=10)\n"
      ],
      "metadata": {
        "colab": {
          "base_uri": "https://localhost:8080/"
        },
        "id": "K1SYKE0a9E8v",
        "outputId": "fc5edd57-942f-49d8-b9bc-c62909df9817"
      },
      "execution_count": 75,
      "outputs": [
        {
          "output_type": "stream",
          "name": "stdout",
          "text": [
            "Epoch 1/10, Train Loss: 0.6831, Test Loss: 0.6788, Test RMSE: 8.8591\n",
            "Epoch 2/10, Train Loss: 0.6300, Test Loss: 0.6672, Test RMSE: 8.8010\n",
            "Epoch 3/10, Train Loss: 0.6145, Test Loss: 0.6649, Test RMSE: 8.7780\n",
            "Epoch 4/10, Train Loss: 0.6031, Test Loss: 0.6672, Test RMSE: 8.8002\n",
            "Epoch 5/10, Train Loss: 0.5947, Test Loss: 0.6645, Test RMSE: 8.8018\n",
            "Epoch 6/10, Train Loss: 0.5844, Test Loss: 0.6713, Test RMSE: 8.8577\n",
            "Epoch 7/10, Train Loss: 0.5765, Test Loss: 0.6608, Test RMSE: 8.7688\n",
            "Epoch 8/10, Train Loss: 0.5679, Test Loss: 0.6670, Test RMSE: 8.8253\n",
            "Epoch 9/10, Train Loss: 0.5612, Test Loss: 0.6748, Test RMSE: 8.8613\n",
            "Epoch 10/10, Train Loss: 0.5525, Test Loss: 0.6686, Test RMSE: 8.8202\n"
          ]
        }
      ]
    },
    {
      "cell_type": "code",
      "source": [
        "plt.figure(figsize=(12, 5))\n",
        "\n",
        "plt.subplot(1, 2, 1)\n",
        "plt.plot(train_losses, label='Train Loss')\n",
        "plt.plot(test_losses, label='Test Loss')\n",
        "plt.xlabel('Epoch')\n",
        "plt.ylabel('Loss')\n",
        "plt.title('Loss over Epochs')\n",
        "plt.legend()\n",
        "\n",
        "plt.subplot(1, 2, 2)\n",
        "plt.plot(test_rmses, label='Test RMSE')\n",
        "plt.xlabel('Epoch')\n",
        "plt.ylabel('RMSE')\n",
        "plt.title('Test RMSE over Epochs')\n",
        "plt.legend()\n",
        "\n",
        "plt.show()\n"
      ],
      "metadata": {
        "colab": {
          "base_uri": "https://localhost:8080/",
          "height": 487
        },
        "id": "f8dVTnAD9XKJ",
        "outputId": "5534af32-f2d8-48f1-857c-f3cd77e62e6e"
      },
      "execution_count": 76,
      "outputs": [
        {
          "output_type": "display_data",
          "data": {
            "text/plain": [
              "<Figure size 1200x500 with 2 Axes>"
            ],
            "image/png": "[encoded data removed]"
          },
          "metadata": {}
        }
      ]
    },
    {
      "cell_type": "markdown",
      "source": [
        "## Попытка номер 3"
      ],
      "metadata": {
        "id": "4ppZFK_y1Q4m"
      }
    },
    {
      "cell_type": "code",
      "source": [
        "from sklearn.preprocessing import StandardScaler\n",
        "\n",
        "target_scaler = StandardScaler()\n",
        "\n",
        "y_train_scaled = target_scaler.fit_transform(y_train.reshape(-1, 1)).flatten()\n",
        "y_test_scaled = target_scaler.transform(y_test.reshape(-1, 1)).flatten()\n",
        "\n",
        "train_dataset = MusicDataset(X_train_scaled, y_train_scaled)\n",
        "test_dataset = MusicDataset(X_test_scaled, y_test_scaled)\n",
        "\n",
        "train_loader = DataLoader(train_dataset, batch_size=1024, shuffle=True)\n",
        "test_loader = DataLoader(test_dataset, batch_size=1024, shuffle=False)\n"
      ],
      "metadata": {
        "id": "7eEAGQFP1X4j"
      },
      "execution_count": 27,
      "outputs": []
    },
    {
      "cell_type": "code",
      "source": [
        "class ImprovedNeuralNetwork(nn.Module):\n",
        "    def __init__(self, input_dim):\n",
        "        super(ImprovedNeuralNetwork, self).__init__()\n",
        "        self.network = nn.Sequential(\n",
        "            nn.Linear(input_dim, 512),\n",
        "            nn.ReLU(),\n",
        "            nn.Dropout(0.3),\n",
        "            nn.Linear(512, 256),\n",
        "            nn.ReLU(),\n",
        "            nn.Dropout(0.3),\n",
        "            nn.Linear(256, 128),\n",
        "            nn.ReLU(),\n",
        "            nn.Dropout(0.3),\n",
        "            nn.Linear(128, 64),\n",
        "            nn.ReLU(),\n",
        "            nn.Linear(64, 32),\n",
        "            nn.ReLU(),\n",
        "            nn.Linear(32, 1)\n",
        "        )\n",
        "\n",
        "    def forward(self, x):\n",
        "        return self.network(x)\n",
        "\n",
        "model = ImprovedNeuralNetwork(input_dim=X_train_scaled.shape[1]).to(device)"
      ],
      "metadata": {
        "id": "1Ud05Ep81aaD"
      },
      "execution_count": 39,
      "outputs": []
    },
    {
      "cell_type": "code",
      "source": [
        "def test(model, criterion, test_loader):\n",
        "    model.eval()\n",
        "    test_loss = 0\n",
        "    all_predictions = []\n",
        "\n",
        "    with torch.no_grad():\n",
        "        for X_batch, y_batch in test_loader:\n",
        "            X_batch, y_batch = X_batch.to(device), y_batch.to(device)\n",
        "            predictions = model(X_batch)\n",
        "            loss = criterion(predictions, y_batch.view(-1, 1))\n",
        "            test_loss += loss.item()\n",
        "            all_predictions.append(predictions.cpu().numpy())\n",
        "\n",
        "    test_loss /= len(test_loader)\n",
        "    all_predictions = np.concatenate(all_predictions)\n",
        "\n",
        "    all_predictions_rescaled = target_scaler.inverse_transform(all_predictions)\n",
        "    y_test_rescaled = target_scaler.inverse_transform(y_test_scaled.reshape(-1, 1))\n",
        "\n",
        "    rmse = np.sqrt(mean_squared_error(y_test_rescaled, all_predictions_rescaled))\n",
        "\n",
        "    return test_loss, rmse\n"
      ],
      "metadata": {
        "id": "Pvd0yqrh1f3K"
      },
      "execution_count": 36,
      "outputs": []
    },
    {
      "cell_type": "code",
      "source": [
        "optimizer = torch.optim.Adam(model.parameters(), lr=0.0005, weight_decay=1e-5)\n",
        "\n",
        "train_losses, test_losses, test_rmses = train(model, optimizer, criterion, train_loader, test_loader, epochs=10)\n"
      ],
      "metadata": {
        "colab": {
          "base_uri": "https://localhost:8080/"
        },
        "id": "WvqdSNYe1io-",
        "outputId": "2a4dc0a9-3203-499b-b49d-92d6b6efb4d6"
      },
      "execution_count": 40,
      "outputs": [
        {
          "output_type": "stream",
          "name": "stdout",
          "text": [
            "Epoch 1/10, Train Loss: 0.7131, Test Loss: 0.6829, Test RMSE: 8.9099\n",
            "Epoch 2/10, Train Loss: 0.6528, Test Loss: 0.6714, Test RMSE: 8.8302\n",
            "Epoch 3/10, Train Loss: 0.6363, Test Loss: 0.6625, Test RMSE: 8.7717\n",
            "Epoch 4/10, Train Loss: 0.6269, Test Loss: 0.6636, Test RMSE: 8.7752\n",
            "Epoch 5/10, Train Loss: 0.6186, Test Loss: 0.6581, Test RMSE: 8.7396\n",
            "Epoch 6/10, Train Loss: 0.6123, Test Loss: 0.6585, Test RMSE: 8.7374\n",
            "Epoch 7/10, Train Loss: 0.6058, Test Loss: 0.6612, Test RMSE: 8.7556\n",
            "Epoch 8/10, Train Loss: 0.5998, Test Loss: 0.6581, Test RMSE: 8.7402\n",
            "Epoch 9/10, Train Loss: 0.5937, Test Loss: 0.6592, Test RMSE: 8.7467\n",
            "Epoch 10/10, Train Loss: 0.5882, Test Loss: 0.6570, Test RMSE: 8.7470\n"
          ]
        }
      ]
    },
    {
      "cell_type": "code",
      "source": [
        "plt.figure(figsize=(12, 5))\n",
        "\n",
        "plt.subplot(1, 2, 1)\n",
        "plt.plot(train_losses, label='Train Loss')\n",
        "plt.plot(test_losses, label='Test Loss')\n",
        "plt.xlabel('Epoch')\n",
        "plt.ylabel('Loss')\n",
        "plt.title('Loss over Epochs')\n",
        "plt.legend()\n",
        "\n",
        "plt.subplot(1, 2, 2)\n",
        "plt.plot(test_rmses, label='Test RMSE')\n",
        "plt.xlabel('Epoch')\n",
        "plt.ylabel('RMSE')\n",
        "plt.title('Test RMSE over Epochs')\n",
        "plt.legend()\n",
        "\n",
        "plt.show()\n"
      ],
      "metadata": {
        "colab": {
          "base_uri": "https://localhost:8080/",
          "height": 487
        },
        "id": "42-xSBwY8Ony",
        "outputId": "43036473-d117-4549-e9b2-dc44ea8854c5"
      },
      "execution_count": 41,
      "outputs": [
        {
          "output_type": "display_data",
          "data": {
            "text/plain": [
              "<Figure size 1200x500 with 2 Axes>"
            ],
            "image/png": "[encoded data removed]"
          },
          "metadata": {}
        }
      ]
    },
    {
      "cell_type": "code",
      "source": [
        "def test(model, criterion, test_loader):\n",
        "    model.eval()\n",
        "    test_loss = 0\n",
        "    all_predictions = []\n",
        "\n",
        "    with torch.no_grad():\n",
        "        for X_batch, y_batch in test_loader:\n",
        "            X_batch, y_batch = X_batch.to(device), y_batch.to(device)\n",
        "            predictions = model(X_batch)\n",
        "            loss = criterion(predictions, y_batch.view(-1, 1))\n",
        "            test_loss += loss.item()\n",
        "            all_predictions.append(predictions.cpu().numpy())\n",
        "\n",
        "    test_loss /= len(test_loader)\n",
        "    all_predictions = np.concatenate(all_predictions)\n",
        "\n",
        "    all_predictions_rescaled = target_scaler.inverse_transform(all_predictions)\n",
        "\n",
        "    return all_predictions_rescaled\n"
      ],
      "metadata": {
        "id": "v66lSS-y8lji"
      },
      "execution_count": 42,
      "outputs": []
    },
    {
      "cell_type": "code",
      "execution_count": 43,
      "metadata": {
        "id": "NRUYwTNeSCei",
        "colab": {
          "base_uri": "https://localhost:8080/"
        },
        "outputId": "fe31d615-4334-436d-abc5-553bb32e2517"
      },
      "outputs": [
        {
          "output_type": "stream",
          "name": "stdout",
          "text": [
            "Assert passed: количество предсказаний соответствует количеству тестовых объектов.\n"
          ]
        }
      ],
      "source": [
        "predictions = test(model, criterion, test_loader)\n",
        "\n",
        "assert predictions.shape[0] == y_test.shape[0], f\"Expected {y_test.shape[0]}, but got {predictions.shape[0]}\"\n",
        "\n",
        "print(\"Assert passed: количество предсказаний соответствует количеству тестовых объектов.\")\n"
      ]
    },
    {
      "cell_type": "markdown",
      "metadata": {
        "id": "bine9EES6TIn"
      },
      "source": [
        "## Задание 3. (0 баллов, но при невыполнении максимум за все задание &mdash; 0 баллов)\n",
        "\n",
        "Напишите небольшой отчет о том, как вы добились полученного качества: какие средства использовали и какие эксперименты проводили. Подробно расскажите об архитектурах и значениях гиперпараметров, а также какие метрики на тесте они показывали. Чтобы отчет был зачтен, необходимо привести хотя бы 3 эксперимента."
      ]
    },
    {
      "cell_type": "markdown",
      "source": [
        "В рамках данного задания была поставлена цель улучшить качество модели на задаче регрессии для предсказания года выпуска песни, используя нейронные сети на базе PyTorch. Основной метрикой оценки качества модели является RMSE (корень из среднеквадратичной ошибки). В ходе экспериментов была разработана нейронная сеть с различными архитектурами и гиперпараметрами, а также проведена нормализация целевой переменной.\n",
        "\n",
        "Эксперимент 1: Базовая нейронная сеть\n",
        "Архитектура:\n",
        "\n",
        "Количество слоев: 3 полносвязных слоя.\n",
        "Количество нейронов: 128 → 64 → 32 → 1.\n",
        "Активация: ReLU на всех скрытых слоях.\n",
        "Без регуляризации.\n",
        "Гиперпараметры:\n",
        "\n",
        "Оптимизатор: Adam.\n",
        "Скорость обучения (learning rate): 0.001.\n",
        "Batch size: 1024.\n",
        "Weight Decay (L2-регуляризация): 1e-5.\n",
        "Эпохи: 50.\n",
        "Результаты:\n",
        "\n",
        "RMSE на тестовой выборке: ~9.4.\n",
        "Выводы: Базовая модель не достигла приемлемого качества. Наблюдалось переобучение после определенного количества эпох, что выражалось в снижении лосса на обучении, но стабильных высоких значениях лосса на тесте.\n",
        "\n",
        "Эксперимент 2: Добавление нормализации таргета\n",
        "Для второго эксперимента была проведена нормализация целевой переменной (y_train и y_test) с использованием StandardScaler. Цель нормализации — сделать целевую переменную сопоставимой по масштабу с входными признаками, что помогает улучшить производительность модели.\n",
        "\n",
        "Архитектура:\n",
        "\n",
        "Количество слоев: 4 полносвязных слоя (та же архитектура, что и в первом эксперименте).\n",
        "Количество нейронов: 256 → 128 → 64 → 32 → 1.\n",
        "Активация: ReLU на всех скрытых слоях.\n",
        "Без регуляризации.\n",
        "Гиперпараметры:\n",
        "\n",
        "Оптимизатор: Adam.\n",
        "Скорость обучения: 0.001.\n",
        "Batch size: 1024.\n",
        "Weight Decay: 1e-5.\n",
        "Эпохи: 10.\n",
        "Результаты:\n",
        "\n",
        "RMSE на тестовой выборке: ~8.8.\n",
        "Выводы: Нормализация таргета улучшила качество предсказаний, модель быстрее сходилась. Однако переобучение по-прежнему присутствовало, что указывало на необходимость регуляризации.\n",
        "\n",
        "Эксперимент 3: Усложнение архитектуры и добавление Dropout\n",
        "В третьем эксперименте была увеличена сложность модели и добавлен механизм Dropout для регуляризации, что помогло снизить переобучение.\n",
        "\n",
        "Архитектура:\n",
        "\n",
        "Количество слоев: 5 полносвязных слоев.\n",
        "Количество нейронов: 512 → 256 → 128 → 64 → 32 → 1.\n",
        "Активация: ReLU на всех скрытых слоях.\n",
        "Dropout: 0.3 на всех скрытых слоях.\n",
        "Гиперпараметры:\n",
        "\n",
        "Оптимизатор: Adam.\n",
        "Скорость обучения: 0.0005.\n",
        "Batch size: 1024.\n",
        "Weight Decay: 1e-5.\n",
        "Эпохи: 50.\n",
        "Результаты:\n",
        "\n",
        "RMSE на тестовой выборке: ~8.74.\n",
        "Выводы: Увеличение сложности модели и добавление Dropout позволили значительно снизить переобучение и улучшить метрику RMSE до ~8.74. Использование меньшего learning rate также помогло стабилизировать процесс обучения."
      ],
      "metadata": {
        "id": "aHj34zeAVjcH"
      }
    },
    {
      "cell_type": "markdown",
      "source": [
        "\n",
        "## Задание 4. (10 баллов)\n",
        "\n",
        "А теперь давайте попробуем решить задачу классификации на тех же данных!\n",
        "\n",
        "Протестируйте два варианта:\n",
        "\n",
        "1. Cчитайте каждый год, представленный в таблице, за отдельный класс\n",
        "\n",
        "2. Разбейте года на 10 бинов и решайте задачу классификации для 10 классов\n",
        "\n",
        "Добавьте в test подсчет метрик: accuracy, precision, recall (можете выбрать micro или macro усреднение, как посчитаете нужным).\n",
        "\n",
        "Что можно сказать о полученных моделях? Почему результаты вышли такими? Напишите небольшой анализ того, что было проделано, чем модели классификации отличаются от задачи регрессии и друг друга?"
      ],
      "metadata": {
        "id": "_858sHdQTL9j"
      }
    },
    {
      "cell_type": "markdown",
      "source": [
        "## Вариант 1: Классификация каждого года как отдельного класса"
      ],
      "metadata": {
        "id": "bUKuMjn3ATzy"
      }
    },
    {
      "cell_type": "code",
      "source": [
        "from sklearn.preprocessing import LabelEncoder\n",
        "from sklearn.metrics import accuracy_score, precision_score, recall_score\n",
        "\n",
        "label_encoder = LabelEncoder()\n",
        "y_train_class = label_encoder.fit_transform(y_train).astype(np.int64)\n",
        "y_test_class = label_encoder.transform(y_test).astype(np.int64)\n",
        "\n",
        "train_dataset_class = MusicDataset(X_train_scaled, y_train_class)\n",
        "test_dataset_class = MusicDataset(X_test_scaled, y_test_class)\n",
        "\n",
        "train_loader_class = DataLoader(train_dataset_class, batch_size=1024, shuffle=True)\n",
        "test_loader_class = DataLoader(test_dataset_class, batch_size=1024, shuffle=False)\n",
        "\n"
      ],
      "metadata": {
        "id": "KqZVh8fZATmy"
      },
      "execution_count": 56,
      "outputs": []
    },
    {
      "cell_type": "code",
      "source": [
        "class ClassificationNeuralNetwork(nn.Module):\n",
        "    def __init__(self, input_dim, num_classes):\n",
        "        super(ClassificationNeuralNetwork, self).__init__()\n",
        "        self.network = nn.Sequential(\n",
        "            nn.Linear(input_dim, 512),\n",
        "            nn.ReLU(),\n",
        "            nn.Dropout(0.3),\n",
        "            nn.Linear(512, 256),\n",
        "            nn.ReLU(),\n",
        "            nn.Dropout(0.3),\n",
        "            nn.Linear(256, 128),\n",
        "            nn.ReLU(),\n",
        "            nn.Linear(128, num_classes)\n",
        "        )\n",
        "\n",
        "    def forward(self, x):\n",
        "        return self.network(x)\n",
        "\n",
        "num_classes = len(np.unique(y_train_class))\n",
        "model_class = ClassificationNeuralNetwork(input_dim=X_train_scaled.shape[1], num_classes=num_classes).to(device)\n",
        "\n",
        "optimizer_class = torch.optim.Adam(model_class.parameters(), lr=0.001, weight_decay=1e-5)\n",
        "criterion_class = nn.CrossEntropyLoss()\n"
      ],
      "metadata": {
        "id": "BVNxcGaJAcAz"
      },
      "execution_count": 57,
      "outputs": []
    },
    {
      "cell_type": "code",
      "source": [
        "def test_classification(model, criterion, test_loader):\n",
        "    model.eval()\n",
        "    test_loss = 0\n",
        "    all_predictions = []\n",
        "    all_labels = []\n",
        "\n",
        "    with torch.no_grad():\n",
        "        for X_batch, y_batch in test_loader:\n",
        "            X_batch, y_batch = X_batch.to(device), y_batch.to(device, dtype=torch.long)  # Преобразуем метки в Long\n",
        "            predictions = model(X_batch)\n",
        "            loss = criterion(predictions, y_batch)\n",
        "            test_loss += loss.item()\n",
        "\n",
        "            predicted_classes = torch.argmax(predictions, dim=1).cpu().numpy()\n",
        "            all_predictions.extend(predicted_classes)\n",
        "            all_labels.extend(y_batch.cpu().numpy())\n",
        "\n",
        "    test_loss /= len(test_loader)\n",
        "\n",
        "    accuracy = accuracy_score(all_labels, all_predictions)\n",
        "    precision = precision_score(all_labels, all_predictions, average='macro', zero_division=1)\n",
        "    recall = recall_score(all_labels, all_predictions, average='macro')\n",
        "\n",
        "    return test_loss, accuracy, precision, recall\n",
        "\n"
      ],
      "metadata": {
        "id": "WZ8frwAKAgxJ"
      },
      "execution_count": 63,
      "outputs": []
    },
    {
      "cell_type": "code",
      "source": [
        "def train_classification(model, optimizer, criterion, train_loader, test_loader, epochs=10):\n",
        "    train_losses = []\n",
        "    test_losses = []\n",
        "    accuracies = []\n",
        "    precisions = []\n",
        "    recalls = []\n",
        "\n",
        "    for epoch in range(epochs):\n",
        "        model.train()\n",
        "        train_loss = 0\n",
        "        for X_batch, y_batch in train_loader:\n",
        "            X_batch, y_batch = X_batch.to(device), y_batch.to(device, dtype=torch.long)  # Преобразуем метки в Long\n",
        "\n",
        "            optimizer.zero_grad()\n",
        "            predictions = model(X_batch)\n",
        "            loss = criterion(predictions, y_batch)\n",
        "            loss.backward()\n",
        "            optimizer.step()\n",
        "            train_loss += loss.item()\n",
        "\n",
        "        train_loss /= len(train_loader)\n",
        "        train_losses.append(train_loss)\n",
        "\n",
        "        test_loss, accuracy, precision, recall = test_classification(model, criterion, test_loader)\n",
        "        test_losses.append(test_loss)\n",
        "        accuracies.append(accuracy)\n",
        "        precisions.append(precision)\n",
        "        recalls.append(recall)\n",
        "\n",
        "        print(f\"Epoch {epoch+1}/{epochs}, Train Loss: {train_loss:.4f}, Test Loss: {test_loss:.4f}, \"\n",
        "              f\"Accuracy: {accuracy:.4f}, Precision: {precision:.4f}, Recall: {recall:.4f}\")\n",
        "\n",
        "    return train_losses, test_losses, accuracies, precisions, recalls\n",
        "\n"
      ],
      "metadata": {
        "id": "K6YMLZVFAk87"
      },
      "execution_count": 64,
      "outputs": []
    },
    {
      "cell_type": "code",
      "source": [
        "train_losses, test_losses, accuracies, precisions, recalls = train_classification(\n",
        "    model_class, optimizer_class, criterion_class, train_loader_class, test_loader_class, epochs=10\n",
        ")\n"
      ],
      "metadata": {
        "colab": {
          "base_uri": "https://localhost:8080/"
        },
        "id": "ZGrlKxW8BhF-",
        "outputId": "399639e8-c74e-431c-8dc4-25c7c3ea4a02"
      },
      "execution_count": 65,
      "outputs": [
        {
          "output_type": "stream",
          "name": "stdout",
          "text": [
            "Epoch 1/10, Train Loss: 3.0532, Test Loss: 3.0663, Accuracy: 0.0940, Precision: 0.4365, Recall: 0.0400\n",
            "Epoch 2/10, Train Loss: 3.0423, Test Loss: 3.0595, Accuracy: 0.0977, Precision: 0.4381, Recall: 0.0420\n",
            "Epoch 3/10, Train Loss: 3.0344, Test Loss: 3.0617, Accuracy: 0.0962, Precision: 0.4007, Recall: 0.0405\n",
            "Epoch 4/10, Train Loss: 3.0276, Test Loss: 3.0568, Accuracy: 0.0937, Precision: 0.4004, Recall: 0.0402\n",
            "Epoch 5/10, Train Loss: 3.0218, Test Loss: 3.0567, Accuracy: 0.0969, Precision: 0.3807, Recall: 0.0406\n",
            "Epoch 6/10, Train Loss: 3.0167, Test Loss: 3.0558, Accuracy: 0.0975, Precision: 0.3970, Recall: 0.0422\n",
            "Epoch 7/10, Train Loss: 3.0118, Test Loss: 3.0544, Accuracy: 0.0963, Precision: 0.3548, Recall: 0.0400\n",
            "Epoch 8/10, Train Loss: 3.0077, Test Loss: 3.0529, Accuracy: 0.0945, Precision: 0.3424, Recall: 0.0429\n",
            "Epoch 9/10, Train Loss: 3.0031, Test Loss: 3.0536, Accuracy: 0.0973, Precision: 0.3313, Recall: 0.0429\n",
            "Epoch 10/10, Train Loss: 2.9997, Test Loss: 3.0550, Accuracy: 0.0972, Precision: 0.3404, Recall: 0.0410\n"
          ]
        }
      ]
    },
    {
      "cell_type": "markdown",
      "source": [
        "## Вариант 2: Классификация по 10 бинам"
      ],
      "metadata": {
        "id": "2VT3HfR4AYQC"
      }
    },
    {
      "cell_type": "code",
      "source": [
        "num_bins = 10\n",
        "y_train_bins = pd.cut(y_train, bins=num_bins, labels=False)\n",
        "y_test_bins = pd.cut(y_test, bins=num_bins, labels=False)\n",
        "\n",
        "train_dataset_bins = MusicDataset(X_train_scaled, y_train_bins)\n",
        "test_dataset_bins = MusicDataset(X_test_scaled, y_test_bins)\n",
        "\n",
        "train_loader_bins = DataLoader(train_dataset_bins, batch_size=1024, shuffle=True)\n",
        "test_loader_bins = DataLoader(test_dataset_bins, batch_size=1024, shuffle=False)\n"
      ],
      "metadata": {
        "id": "0CbDGmn-DVeU"
      },
      "execution_count": 66,
      "outputs": []
    },
    {
      "cell_type": "code",
      "source": [
        "model_bins = ClassificationNeuralNetwork(input_dim=X_train_scaled.shape[1], num_classes=num_bins).to(device)\n",
        "\n",
        "optimizer_bins = torch.optim.Adam(model_bins.parameters(), lr=0.001, weight_decay=1e-5)\n",
        "criterion_bins = nn.CrossEntropyLoss()\n"
      ],
      "metadata": {
        "id": "LPjK2hiVDYMQ"
      },
      "execution_count": 67,
      "outputs": []
    },
    {
      "cell_type": "code",
      "source": [
        "train_losses, test_losses, accuracies, precisions, recalls = train_classification(\n",
        "    model_bins, optimizer_bins, criterion_bins, train_loader_bins, test_loader_bins, epochs=10\n",
        ")\n"
      ],
      "metadata": {
        "colab": {
          "base_uri": "https://localhost:8080/"
        },
        "id": "BRyjWLuxDaiQ",
        "outputId": "2f529d58-0fdb-47e0-f9da-1ea4f142940b"
      },
      "execution_count": 68,
      "outputs": [
        {
          "output_type": "stream",
          "name": "stdout",
          "text": [
            "Epoch 1/10, Train Loss: 1.1321, Test Loss: 1.0578, Accuracy: 0.5811, Precision: 0.6532, Recall: 0.1877\n",
            "Epoch 2/10, Train Loss: 1.0546, Test Loss: 1.0459, Accuracy: 0.5823, Precision: 0.6589, Recall: 0.2030\n",
            "Epoch 3/10, Train Loss: 1.0369, Test Loss: 1.0391, Accuracy: 0.5832, Precision: 0.6679, Recall: 0.2033\n",
            "Epoch 4/10, Train Loss: 1.0257, Test Loss: 1.0253, Accuracy: 0.5896, Precision: 0.6605, Recall: 0.2111\n",
            "Epoch 5/10, Train Loss: 1.0169, Test Loss: 1.0250, Accuracy: 0.5905, Precision: 0.5654, Recall: 0.2146\n",
            "Epoch 6/10, Train Loss: 1.0114, Test Loss: 1.0125, Accuracy: 0.5945, Precision: 0.4676, Recall: 0.2143\n",
            "Epoch 7/10, Train Loss: 1.0052, Test Loss: 1.0211, Accuracy: 0.5909, Precision: 0.5524, Recall: 0.2161\n",
            "Epoch 8/10, Train Loss: 1.0005, Test Loss: 1.0204, Accuracy: 0.5934, Precision: 0.5649, Recall: 0.2140\n",
            "Epoch 9/10, Train Loss: 0.9962, Test Loss: 1.0117, Accuracy: 0.5931, Precision: 0.5566, Recall: 0.2188\n",
            "Epoch 10/10, Train Loss: 0.9918, Test Loss: 1.0132, Accuracy: 0.5947, Precision: 0.5584, Recall: 0.2187\n"
          ]
        }
      ]
    },
    {
      "cell_type": "markdown",
      "source": [
        "## проверка assert'ом"
      ],
      "metadata": {
        "id": "k_qdR2XFEbEs"
      }
    },
    {
      "cell_type": "code",
      "source": [
        "def test_classification(model, criterion, test_loader):\n",
        "    model.eval()\n",
        "    test_loss = 0\n",
        "    all_predictions = []\n",
        "    all_labels = []\n",
        "\n",
        "    with torch.no_grad():\n",
        "        for X_batch, y_batch in test_loader:\n",
        "            X_batch, y_batch = X_batch.to(device), y_batch.to(device, dtype=torch.long)  # Преобразуем метки в Long\n",
        "            predictions = model(X_batch)\n",
        "            loss = criterion(predictions, y_batch)\n",
        "            test_loss += loss.item()\n",
        "\n",
        "            predicted_classes = torch.argmax(predictions, dim=1).cpu().numpy()\n",
        "            all_predictions.extend(predicted_classes)\n",
        "            all_labels.extend(y_batch.cpu().numpy())\n",
        "\n",
        "    test_loss /= len(test_loader)\n",
        "\n",
        "    accuracy = accuracy_score(all_labels, all_predictions)\n",
        "    precision = precision_score(all_labels, all_predictions, average='macro', zero_division=1)\n",
        "    recall = recall_score(all_labels, all_predictions, average='macro', zero_division=1)\n",
        "\n",
        "    all_predictions = np.array(all_predictions)\n",
        "\n",
        "    return all_predictions, test_loss, accuracy, precision, recall\n"
      ],
      "metadata": {
        "id": "buQ0L4bvW4Ub"
      },
      "execution_count": 69,
      "outputs": []
    },
    {
      "cell_type": "code",
      "source": [
        "# Получаем предсказания с помощью test функции для 1-го варианта\n",
        "predictions, _, _, _, _ = test_classification(model_class, criterion_class, test_loader_class)\n",
        "\n",
        "assert predictions.shape[0] == y_test_class.shape[0], f\"Expected {y_test_class.shape[0]}, but got {predictions.shape[0]}\"\n",
        "\n",
        "print(\"Assert passed: количество предсказаний соответствует количеству тестовых объектов для 1-го варианта.\")\n"
      ],
      "metadata": {
        "id": "avnSvsA3V4PQ",
        "colab": {
          "base_uri": "https://localhost:8080/"
        },
        "outputId": "f4c96d9b-1055-4f7e-eeae-a98de5fbf1af"
      },
      "execution_count": 70,
      "outputs": [
        {
          "output_type": "stream",
          "name": "stdout",
          "text": [
            "Assert passed: количество предсказаний соответствует количеству тестовых объектов для 1-го варианта.\n"
          ]
        }
      ]
    },
    {
      "cell_type": "code",
      "source": [
        "# Получаем предсказания с помощью test функции для 2-го варианта (10 бинов)\n",
        "predictions, _, _, _, _ = test_classification(model_bins, criterion_bins, test_loader_bins)\n",
        "\n",
        "assert predictions.shape[0] == y_test_bins.shape[0], f\"Expected {y_test_bins.shape[0]}, but got {predictions.shape[0]}\"\n",
        "\n",
        "print(\"Assert passed: количество предсказаний соответствует количеству тестовых объектов для 2-го варианта.\")\n"
      ],
      "metadata": {
        "colab": {
          "base_uri": "https://localhost:8080/"
        },
        "id": "1IAx8FgYEo7O",
        "outputId": "e0020d41-c1b8-4e18-ee4a-77654fbb1be0"
      },
      "execution_count": 71,
      "outputs": [
        {
          "output_type": "stream",
          "name": "stdout",
          "text": [
            "Assert passed: количество предсказаний соответствует количеству тестовых объектов для 2-го варианта.\n"
          ]
        }
      ]
    },
    {
      "cell_type": "markdown",
      "source": [
        "## Анализ результатов\n",
        "Выполнив два эксперимента по классификации, можно сделать следующие выводы:\n",
        "\n",
        "Модель с каждым годом как отдельным классом:\n",
        "\n",
        "Эта задача имеет слишком много классов (по количеству лет), что приводит к значительным трудностям в обучении. Модель с трудом различает все классы, особенно когда различия между годами не так сильно выражены.\n",
        "Метрики accuracy, precision, recall ниже из-за сложности задачи.\n",
        "\n",
        "Модель с 10 бинами:\n",
        "\n",
        "Разбиение по 10 бинам значительно упрощает задачу классификации, поскольку уменьшается количество классов.\n",
        "Модель показывает более высокие метрики, так как предсказать интервал лет проще, чем точный год.\n",
        "Основное отличие между задачами классификации и регрессии заключается в целевой переменной. В регрессии предсказания — это непрерывные значения, и модель пытается минимизировать разницу между предсказанным и истинным значением. В классификации, напротив, модель предсказывает дискретные классы."
      ],
      "metadata": {
        "id": "WbR7j7EoEyZV"
      }
    }
  ],
  "metadata": {
    "colab": {
      "provenance": []
    },
    "kernelspec": {
      "display_name": "Python 3 (ipykernel)",
      "language": "python",
      "name": "python3"
    },
    "language_info": {
      "codemirror_mode": {
        "name": "ipython",
        "version": 3
      },
      "file_extension": ".py",
      "mimetype": "text/x-python",
      "name": "python",
      "nbconvert_exporter": "python",
      "pygments_lexer": "ipython3",
      "version": "3.9.7"
    }
  },
  "nbformat": 4,
  "nbformat_minor": 0
}